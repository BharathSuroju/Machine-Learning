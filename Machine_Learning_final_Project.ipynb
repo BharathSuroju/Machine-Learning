{
 "cells": [
  {
   "cell_type": "markdown",
   "metadata": {
    "colab_type": "text",
    "id": "jtXQczpLFAPz"
   },
   "source": [
    "#**Online review Spammers**"
   ]
  },
  {
   "cell_type": "markdown",
   "metadata": {
    "colab_type": "text",
    "id": "3nBxEWAzFe1k"
   },
   "source": [
    "Bharath Kumar Suroju , Sainath Reddy Yaramada, Anand Sagar Pandrapagada, Logan Falkensten"
   ]
  },
  {
   "cell_type": "code",
   "execution_count": 0,
   "metadata": {
    "colab": {
     "base_uri": "https://localhost:8080/",
     "height": 108,
     "resources": {
      "http://localhost:8080/nbextensions/google.colab/files.js": {
       "data": "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",
       "headers": [
        [
         "content-type",
         "application/javascript"
        ]
       ],
       "ok": true,
       "status": 200,
       "status_text": ""
      }
     }
    },
    "colab_type": "code",
    "id": "mYw5K9XjHkmk",
    "outputId": "f1b63852-8209-42fa-c438-fc016484e6c9"
   },
   "outputs": [
    {
     "data": {
      "text/html": [
       "\n",
       "     <input type=\"file\" id=\"files-dc33205a-5cc6-443c-bb36-d063227daffd\" name=\"files[]\" multiple disabled />\n",
       "     <output id=\"result-dc33205a-5cc6-443c-bb36-d063227daffd\">\n",
       "      Upload widget is only available when the cell has been executed in the\n",
       "      current browser session. Please rerun this cell to enable.\n",
       "      </output>\n",
       "      <script src=\"/nbextensions/google.colab/files.js\"></script> "
      ],
      "text/plain": [
       "<IPython.core.display.HTML object>"
      ]
     },
     "metadata": {
      "tags": []
     },
     "output_type": "display_data"
    },
    {
     "name": "stdout",
     "output_type": "stream",
     "text": [
      "Saving Afinn.csv to Afinn (2).csv\n",
      "Saving Movie_review.csv to Movie_review (2).csv\n"
     ]
    }
   ],
   "source": [
    "from google.colab import files\n",
    "uploaded = files.upload()"
   ]
  },
  {
   "cell_type": "code",
   "execution_count": 0,
   "metadata": {
    "colab": {},
    "colab_type": "code",
    "id": "2--Eyk_2H0_2"
   },
   "outputs": [],
   "source": [
    "from sklearn.model_selection import train_test_split\n",
    "import pandas as pd\n",
    "import numpy as np"
   ]
  },
  {
   "cell_type": "code",
   "execution_count": 0,
   "metadata": {
    "colab": {},
    "colab_type": "code",
    "id": "I2lACMZ3H6Xm"
   },
   "outputs": [],
   "source": [
    "movie_review = pd.read_csv(r\"Movie_review.csv\") #data file chosen, can be swapped out with any CSV format review score file"
   ]
  },
  {
   "cell_type": "code",
   "execution_count": 0,
   "metadata": {
    "colab": {
     "base_uri": "https://localhost:8080/",
     "height": 195
    },
    "colab_type": "code",
    "id": "GoXRzk8QH9uC",
    "outputId": "cf07db12-df4b-4882-b213-2ce67e0714d8"
   },
   "outputs": [
    {
     "data": {
      "text/html": [
       "<div>\n",
       "<style scoped>\n",
       "    .dataframe tbody tr th:only-of-type {\n",
       "        vertical-align: middle;\n",
       "    }\n",
       "\n",
       "    .dataframe tbody tr th {\n",
       "        vertical-align: top;\n",
       "    }\n",
       "\n",
       "    .dataframe thead th {\n",
       "        text-align: right;\n",
       "    }\n",
       "</style>\n",
       "<table border=\"1\" class=\"dataframe\">\n",
       "  <thead>\n",
       "    <tr style=\"text-align: right;\">\n",
       "      <th></th>\n",
       "      <th>productId</th>\n",
       "      <th>userId</th>\n",
       "      <th>profileName</th>\n",
       "      <th>helpfulness</th>\n",
       "      <th>review_score</th>\n",
       "      <th>review_time</th>\n",
       "      <th>review_summary</th>\n",
       "      <th>text</th>\n",
       "    </tr>\n",
       "  </thead>\n",
       "  <tbody>\n",
       "    <tr>\n",
       "      <th>0</th>\n",
       "      <td>B002OHDRF2</td>\n",
       "      <td>A2ATWKOFJXRRR1</td>\n",
       "      <td>B.  Merritt    filmreviewstew.com</td>\n",
       "      <td>2/6</td>\n",
       "      <td>2.0</td>\n",
       "      <td>1263859200</td>\n",
       "      <td>Been  There.  Done  That.</td>\n",
       "      <td>Judgment  Day&lt;/a&gt;  in  which  a  Termina...</td>\n",
       "    </tr>\n",
       "    <tr>\n",
       "      <th>1</th>\n",
       "      <td>B002OHDRF2</td>\n",
       "      <td>A1W6I2VUOWRE56</td>\n",
       "      <td>Mohammad  Saadat    hashem</td>\n",
       "      <td>2/6</td>\n",
       "      <td>5.0</td>\n",
       "      <td>1256256000</td>\n",
       "      <td>leave  it  alone!!</td>\n",
       "      <td>this  is  a  great  movie  of  course  i...</td>\n",
       "    </tr>\n",
       "    <tr>\n",
       "      <th>2</th>\n",
       "      <td>B002OHDRF2</td>\n",
       "      <td>A2Y2L2TRP2Q4AS</td>\n",
       "      <td>Jennifer  L  Kehs</td>\n",
       "      <td>4/10</td>\n",
       "      <td>5.0</td>\n",
       "      <td>1249344000</td>\n",
       "      <td>best  Terminator  movie!</td>\n",
       "      <td>D    Saw  the  film  4  times  in  the  th...</td>\n",
       "    </tr>\n",
       "    <tr>\n",
       "      <th>3</th>\n",
       "      <td>B002OHDRF2</td>\n",
       "      <td>AGC3LQMMYX1RY</td>\n",
       "      <td>Joseph  M.  Day    JOJO77</td>\n",
       "      <td>4/10</td>\n",
       "      <td>5.0</td>\n",
       "      <td>1243555200</td>\n",
       "      <td>this  is  an  awsome  movie  to  see.  a...</td>\n",
       "      <td>this  movie  is  the  best  ever  seen. ...</td>\n",
       "    </tr>\n",
       "    <tr>\n",
       "      <th>4</th>\n",
       "      <td>B002OHDRF2</td>\n",
       "      <td>A12Q0LLN5R2XAG</td>\n",
       "      <td>MONTY</td>\n",
       "      <td>0/3</td>\n",
       "      <td>5.0</td>\n",
       "      <td>1276646400</td>\n",
       "      <td>TERMINATOR  SALVATION</td>\n",
       "      <td>product  was  in  excellent  condition. ...</td>\n",
       "    </tr>\n",
       "  </tbody>\n",
       "</table>\n",
       "</div>"
      ],
      "text/plain": [
       "              productId  ...                                               text\n",
       "0        B002OHDRF2      ...        Judgment  Day</a>  in  which  a  Termina...\n",
       "1        B002OHDRF2      ...        this  is  a  great  movie  of  course  i...\n",
       "2        B002OHDRF2      ...      D    Saw  the  film  4  times  in  the  th...\n",
       "3        B002OHDRF2      ...        this  movie  is  the  best  ever  seen. ...\n",
       "4        B002OHDRF2      ...        product  was  in  excellent  condition. ...\n",
       "\n",
       "[5 rows x 8 columns]"
      ]
     },
     "execution_count": 447,
     "metadata": {
      "tags": []
     },
     "output_type": "execute_result"
    }
   ],
   "source": [
    "df = pd.DataFrame(movie_review)\n",
    "df.head()"
   ]
  },
  {
   "cell_type": "markdown",
   "metadata": {
    "colab_type": "text",
    "id": "NuNHKEzhIC0w"
   },
   "source": [
    "Punkt Sentence Tokenizer: This tokenizer divides a text into a list of sentences, by using an unsupervised algorithm to build a model for abbreviation words, collocations, and words that start sentences. It must be trained on a large collection of plaintext in the target language before it can be used."
   ]
  },
  {
   "cell_type": "code",
   "execution_count": 0,
   "metadata": {
    "colab": {},
    "colab_type": "code",
    "id": "3qa6PWfOIB-1"
   },
   "outputs": [],
   "source": [
    "from nltk import word_tokenize,sent_tokenize"
   ]
  },
  {
   "cell_type": "code",
   "execution_count": 0,
   "metadata": {
    "colab": {},
    "colab_type": "code",
    "id": "IVgDDtEgIMm4"
   },
   "outputs": [],
   "source": [
    "df[\"tokenized_text\"] = df[\"text\"].apply(word_tokenize)"
   ]
  },
  {
   "cell_type": "code",
   "execution_count": 0,
   "metadata": {
    "colab": {
     "base_uri": "https://localhost:8080/",
     "height": 279
    },
    "colab_type": "code",
    "id": "Dq-NyFf4IQGC",
    "outputId": "e416ac8f-ad79-4250-9fb9-1f5137fe6eb9"
   },
   "outputs": [
    {
     "data": {
      "text/html": [
       "<div>\n",
       "<style scoped>\n",
       "    .dataframe tbody tr th:only-of-type {\n",
       "        vertical-align: middle;\n",
       "    }\n",
       "\n",
       "    .dataframe tbody tr th {\n",
       "        vertical-align: top;\n",
       "    }\n",
       "\n",
       "    .dataframe thead th {\n",
       "        text-align: right;\n",
       "    }\n",
       "</style>\n",
       "<table border=\"1\" class=\"dataframe\">\n",
       "  <thead>\n",
       "    <tr style=\"text-align: right;\">\n",
       "      <th></th>\n",
       "      <th>productId</th>\n",
       "      <th>userId</th>\n",
       "      <th>profileName</th>\n",
       "      <th>helpfulness</th>\n",
       "      <th>review_score</th>\n",
       "      <th>review_time</th>\n",
       "      <th>review_summary</th>\n",
       "      <th>text</th>\n",
       "      <th>tokenized_text</th>\n",
       "    </tr>\n",
       "  </thead>\n",
       "  <tbody>\n",
       "    <tr>\n",
       "      <th>0</th>\n",
       "      <td>B002OHDRF2</td>\n",
       "      <td>A2ATWKOFJXRRR1</td>\n",
       "      <td>B.  Merritt    filmreviewstew.com</td>\n",
       "      <td>2/6</td>\n",
       "      <td>2.0</td>\n",
       "      <td>1263859200</td>\n",
       "      <td>Been  There.  Done  That.</td>\n",
       "      <td>Judgment  Day&lt;/a&gt;  in  which  a  Termina...</td>\n",
       "      <td>[Judgment, Day, &lt;, /a, &gt;, in, which, a, Termin...</td>\n",
       "    </tr>\n",
       "    <tr>\n",
       "      <th>1</th>\n",
       "      <td>B002OHDRF2</td>\n",
       "      <td>A1W6I2VUOWRE56</td>\n",
       "      <td>Mohammad  Saadat    hashem</td>\n",
       "      <td>2/6</td>\n",
       "      <td>5.0</td>\n",
       "      <td>1256256000</td>\n",
       "      <td>leave  it  alone!!</td>\n",
       "      <td>this  is  a  great  movie  of  course  i...</td>\n",
       "      <td>[this, is, a, great, movie, of, course, it, is...</td>\n",
       "    </tr>\n",
       "    <tr>\n",
       "      <th>2</th>\n",
       "      <td>B002OHDRF2</td>\n",
       "      <td>A2Y2L2TRP2Q4AS</td>\n",
       "      <td>Jennifer  L  Kehs</td>\n",
       "      <td>4/10</td>\n",
       "      <td>5.0</td>\n",
       "      <td>1249344000</td>\n",
       "      <td>best  Terminator  movie!</td>\n",
       "      <td>D    Saw  the  film  4  times  in  the  th...</td>\n",
       "      <td>[D, Saw, the, film, 4, times, in, the, theater...</td>\n",
       "    </tr>\n",
       "    <tr>\n",
       "      <th>3</th>\n",
       "      <td>B002OHDRF2</td>\n",
       "      <td>AGC3LQMMYX1RY</td>\n",
       "      <td>Joseph  M.  Day    JOJO77</td>\n",
       "      <td>4/10</td>\n",
       "      <td>5.0</td>\n",
       "      <td>1243555200</td>\n",
       "      <td>this  is  an  awsome  movie  to  see.  a...</td>\n",
       "      <td>this  movie  is  the  best  ever  seen. ...</td>\n",
       "      <td>[this, movie, is, the, best, ever, seen, ., we...</td>\n",
       "    </tr>\n",
       "    <tr>\n",
       "      <th>4</th>\n",
       "      <td>B002OHDRF2</td>\n",
       "      <td>A12Q0LLN5R2XAG</td>\n",
       "      <td>MONTY</td>\n",
       "      <td>0/3</td>\n",
       "      <td>5.0</td>\n",
       "      <td>1276646400</td>\n",
       "      <td>TERMINATOR  SALVATION</td>\n",
       "      <td>product  was  in  excellent  condition. ...</td>\n",
       "      <td>[product, was, in, excellent, condition, ., sh...</td>\n",
       "    </tr>\n",
       "  </tbody>\n",
       "</table>\n",
       "</div>"
      ],
      "text/plain": [
       "              productId  ...                                     tokenized_text\n",
       "0        B002OHDRF2      ...  [Judgment, Day, <, /a, >, in, which, a, Termin...\n",
       "1        B002OHDRF2      ...  [this, is, a, great, movie, of, course, it, is...\n",
       "2        B002OHDRF2      ...  [D, Saw, the, film, 4, times, in, the, theater...\n",
       "3        B002OHDRF2      ...  [this, movie, is, the, best, ever, seen, ., we...\n",
       "4        B002OHDRF2      ...  [product, was, in, excellent, condition, ., sh...\n",
       "\n",
       "[5 rows x 9 columns]"
      ]
     },
     "execution_count": 450,
     "metadata": {
      "tags": []
     },
     "output_type": "execute_result"
    }
   ],
   "source": [
    "df.head()"
   ]
  },
  {
   "cell_type": "code",
   "execution_count": 0,
   "metadata": {
    "colab": {},
    "colab_type": "code",
    "id": "5v_zCx9uITAh"
   },
   "outputs": [],
   "source": [
    "stop =['i', 'me', 'my', 'myself', 'we', 'our', 'ours', 'ourselves', 'you', \"you're\", \"you've\", \"you'll\", \"you'd\", 'your', 'yours', 'yourself', 'yourselves', 'he', 'him', 'his', 'himself', 'she', \"she's\", 'her', 'hers', 'herself', 'it', \"it's\", 'its', 'itself', 'they', 'them', 'their', 'theirs', 'themselves', 'what', 'which', 'who', 'whom', 'this', 'that', \"that'll\", 'these', 'those', 'am', 'is', 'are', 'was', 'were', 'be', 'been', 'being', 'have', 'has', 'had', 'having', 'do', 'does', 'did', 'doing', 'a', 'an', 'the', 'and', 'but', 'if', 'or', 'because', 'as', 'until', 'while', 'of', 'at', 'by', 'for', 'with', 'about', 'against', 'between', 'into', 'through', 'during', 'before', 'after', 'above', 'below', 'to', 'from', 'up', 'down', 'in', 'out', 'on', 'off', 'over', 'under', 'again', 'further', 'then', 'once', 'here', 'there', 'when', 'where', 'why', 'how', 'all', 'any', 'both', 'each', 'few', 'more', 'most', 'other', 'some', 'such', 'no', 'nor', 'not', 'only', 'own', 'same', 'so', 'than', 'too', 'very', 's', 't', 'can', 'will', 'just', 'don', \"don't\", 'should', \"should've\", 'now', 'd', 'll', 'm', 'o', 're', 've', 'y', 'ain', 'aren', \"aren't\", 'couldn', \"couldn't\", 'didn', \"didn't\", 'doesn', \"doesn't\", 'hadn', \"hadn't\", 'hasn', \"hasn't\", 'haven', \"haven't\", 'isn', \"isn't\", 'ma', 'mightn', \"mightn't\", 'mustn', \"mustn't\", 'needn', \"needn't\", 'shan', \"shan't\", 'shouldn', \"shouldn't\", 'wasn', \"wasn't\", 'weren', \"weren't\", 'won', \"won't\", 'wouldn', \"wouldn't\"]"
   ]
  },
  {
   "cell_type": "code",
   "execution_count": 0,
   "metadata": {
    "colab": {},
    "colab_type": "code",
    "id": "0HnySOQ8IW2H"
   },
   "outputs": [],
   "source": [
    "def rmstopwords(y):\n",
    "  A = []\n",
    "  for i in y:\n",
    "    if i not in stop:\n",
    "      A.append(i)   \n",
    "  return A"
   ]
  },
  {
   "cell_type": "code",
   "execution_count": 0,
   "metadata": {
    "colab": {},
    "colab_type": "code",
    "id": "zUN6y-8NIaEO"
   },
   "outputs": [],
   "source": [
    "lista=df['tokenized_text']\n",
    "listb=[]\n",
    "for item in lista:\n",
    "    b = rmstopwords(item)\n",
    "    listb.append(b)   \n",
    "df['text_without_keywords']=listb"
   ]
  },
  {
   "cell_type": "markdown",
   "metadata": {
    "colab_type": "text",
    "id": "P2oZnhcaIhvF"
   },
   "source": [
    "In order to calicualte the sentiment score. AFINN is a list of english words rated for valence with an integer between minus five (negative) and plus five (positive)."
   ]
  },
  {
   "cell_type": "code",
   "execution_count": 0,
   "metadata": {
    "colab": {
     "base_uri": "https://localhost:8080/",
     "height": 195
    },
    "colab_type": "code",
    "id": "HOCS1u7KIdAA",
    "outputId": "0b69452c-a4c9-4f9b-9195-6d40038ad69b"
   },
   "outputs": [
    {
     "data": {
      "text/html": [
       "<div>\n",
       "<style scoped>\n",
       "    .dataframe tbody tr th:only-of-type {\n",
       "        vertical-align: middle;\n",
       "    }\n",
       "\n",
       "    .dataframe tbody tr th {\n",
       "        vertical-align: top;\n",
       "    }\n",
       "\n",
       "    .dataframe thead th {\n",
       "        text-align: right;\n",
       "    }\n",
       "</style>\n",
       "<table border=\"1\" class=\"dataframe\">\n",
       "  <thead>\n",
       "    <tr style=\"text-align: right;\">\n",
       "      <th></th>\n",
       "      <th>Word</th>\n",
       "      <th>Score</th>\n",
       "    </tr>\n",
       "  </thead>\n",
       "  <tbody>\n",
       "    <tr>\n",
       "      <th>0</th>\n",
       "      <td>abandon</td>\n",
       "      <td>-2</td>\n",
       "    </tr>\n",
       "    <tr>\n",
       "      <th>1</th>\n",
       "      <td>abandoned</td>\n",
       "      <td>-2</td>\n",
       "    </tr>\n",
       "    <tr>\n",
       "      <th>2</th>\n",
       "      <td>abandons</td>\n",
       "      <td>-2</td>\n",
       "    </tr>\n",
       "    <tr>\n",
       "      <th>3</th>\n",
       "      <td>abducted</td>\n",
       "      <td>-2</td>\n",
       "    </tr>\n",
       "    <tr>\n",
       "      <th>4</th>\n",
       "      <td>abduction</td>\n",
       "      <td>-2</td>\n",
       "    </tr>\n",
       "  </tbody>\n",
       "</table>\n",
       "</div>"
      ],
      "text/plain": [
       "        Word  Score\n",
       "0    abandon     -2\n",
       "1  abandoned     -2\n",
       "2   abandons     -2\n",
       "3   abducted     -2\n",
       "4  abduction     -2"
      ]
     },
     "execution_count": 454,
     "metadata": {
      "tags": []
     },
     "output_type": "execute_result"
    }
   ],
   "source": [
    "afinn = pd.read_csv(r\"Afinn.csv\",encoding = \"ISO-8859-1\")\n",
    "df_afinn = pd.DataFrame(afinn)\n",
    "df_afinn.head()"
   ]
  },
  {
   "cell_type": "code",
   "execution_count": 0,
   "metadata": {
    "colab": {},
    "colab_type": "code",
    "id": "TU3I_OxeIrSz"
   },
   "outputs": [],
   "source": [
    "afinn_dict = dict(zip(df_afinn.Word,df_afinn.Score))"
   ]
  },
  {
   "cell_type": "code",
   "execution_count": 0,
   "metadata": {
    "colab": {},
    "colab_type": "code",
    "id": "-1GMxZRWIvGk"
   },
   "outputs": [],
   "source": [
    "def sentiment_score(array):\n",
    "  A = []\n",
    "  for i in array:\n",
    "    if i in afinn_dict:\n",
    "      A.append(afinn_dict[i])\n",
    "    else:\n",
    "      A.append(0)\n",
    "  return A"
   ]
  },
  {
   "cell_type": "code",
   "execution_count": 0,
   "metadata": {
    "colab": {},
    "colab_type": "code",
    "id": "vcoAXKUrIyv0"
   },
   "outputs": [],
   "source": [
    "lista = df[\"text_without_keywords\"]\n",
    "listb = []\n",
    "listc = []\n",
    "#print(lista)\n",
    "for arrays in lista:\n",
    "    listb = sentiment_score(arrays)\n",
    "    listc.append(np.sum(listb))\n",
    "df[\"sentiment_scores\"] = listc"
   ]
  },
  {
   "cell_type": "code",
   "execution_count": 0,
   "metadata": {
    "colab": {
     "base_uri": "https://localhost:8080/",
     "height": 118
    },
    "colab_type": "code",
    "id": "uD42Ht4NI2KG",
    "outputId": "6321f447-4caf-4c07-dbd2-d35763bdcf9f"
   },
   "outputs": [
    {
     "data": {
      "text/plain": [
       "0     4\n",
       "1    10\n",
       "2     0\n",
       "3     3\n",
       "4     3\n",
       "Name: sentiment_scores, dtype: int64"
      ]
     },
     "execution_count": 458,
     "metadata": {
      "tags": []
     },
     "output_type": "execute_result"
    }
   ],
   "source": [
    "df[\"sentiment_scores\"].head()"
   ]
  },
  {
   "cell_type": "code",
   "execution_count": 0,
   "metadata": {
    "colab": {
     "base_uri": "https://localhost:8080/",
     "height": 168
    },
    "colab_type": "code",
    "id": "gTZhyww1I7LD",
    "outputId": "0d1e870d-abe4-4647-bd6b-b603a456066f"
   },
   "outputs": [
    {
     "data": {
      "text/plain": [
       "count    201.000000\n",
       "mean       6.373134\n",
       "std       10.987041\n",
       "min      -13.000000\n",
       "25%        0.000000\n",
       "50%        4.000000\n",
       "75%       10.000000\n",
       "max       74.000000\n",
       "Name: sentiment_scores, dtype: float64"
      ]
     },
     "execution_count": 459,
     "metadata": {
      "tags": []
     },
     "output_type": "execute_result"
    }
   ],
   "source": [
    "df[\"sentiment_scores\"].describe()"
   ]
  },
  {
   "cell_type": "code",
   "execution_count": 0,
   "metadata": {
    "colab": {
     "base_uri": "https://localhost:8080/",
     "height": 34
    },
    "colab_type": "code",
    "id": "ofgES3fOJAJ0",
    "outputId": "64170678-db46-4496-ba4a-ad8c00deb65b"
   },
   "outputs": [
    {
     "name": "stdout",
     "output_type": "stream",
     "text": [
      "Upper threshold values is 11.866654935101796 and Lower threshold value is 0.8796137216146223 \n"
     ]
    }
   ],
   "source": [
    "# from above stats\n",
    "average = df[\"sentiment_scores\"].mean()\n",
    "stddev = df[\"sentiment_scores\"].std()\n",
    "#Caliculating upper and lower threshold values for sentimental score\n",
    "upperthreshold = float(average)+0.5*float(stddev) # Here we set threshold vaue within 0.5 standard deviations from the mean.\n",
    "lowerthreshold = float(average)-0.5*float(stddev)\n",
    "print(\"Upper threshold values is {} and Lower threshold value is {} \".format(upperthreshold,lowerthreshold))"
   ]
  },
  {
   "cell_type": "code",
   "execution_count": 0,
   "metadata": {
    "colab": {},
    "colab_type": "code",
    "id": "QfhhBbxLJFbW"
   },
   "outputs": [],
   "source": [
    "# Classifying reviews into spammer and non spammers\n",
    "def spammer(sentiment_scores):\n",
    "  if(sentiment_scores > upperthreshold):\n",
    "    return float(0)\n",
    "  elif(sentiment_scores < lowerthreshold):\n",
    "    return float(0)\n",
    "  else:\n",
    "    return float(1)"
   ]
  },
  {
   "cell_type": "code",
   "execution_count": 0,
   "metadata": {
    "colab": {},
    "colab_type": "code",
    "id": "fBdAkiY6JJ-X"
   },
   "outputs": [],
   "source": [
    "sentiment_sc_a =  df[\"sentiment_scores\"]\n",
    "sentiment_sc_b = []\n",
    "for item in sentiment_sc_a:\n",
    "  result = spammer(item)\n",
    "  sentiment_sc_b.append(result)\n",
    "df[\"Label\"] = sentiment_sc_b"
   ]
  },
  {
   "cell_type": "code",
   "execution_count": 0,
   "metadata": {
    "colab": {
     "base_uri": "https://localhost:8080/",
     "height": 498
    },
    "colab_type": "code",
    "id": "WghOaVekJNaO",
    "outputId": "2038e969-6449-4889-aa70-b99abeb56c2c"
   },
   "outputs": [
    {
     "data": {
      "text/html": [
       "<div>\n",
       "<style scoped>\n",
       "    .dataframe tbody tr th:only-of-type {\n",
       "        vertical-align: middle;\n",
       "    }\n",
       "\n",
       "    .dataframe tbody tr th {\n",
       "        vertical-align: top;\n",
       "    }\n",
       "\n",
       "    .dataframe thead th {\n",
       "        text-align: right;\n",
       "    }\n",
       "</style>\n",
       "<table border=\"1\" class=\"dataframe\">\n",
       "  <thead>\n",
       "    <tr style=\"text-align: right;\">\n",
       "      <th></th>\n",
       "      <th>productId</th>\n",
       "      <th>userId</th>\n",
       "      <th>profileName</th>\n",
       "      <th>helpfulness</th>\n",
       "      <th>review_score</th>\n",
       "      <th>review_time</th>\n",
       "      <th>review_summary</th>\n",
       "      <th>text</th>\n",
       "      <th>tokenized_text</th>\n",
       "      <th>text_without_keywords</th>\n",
       "      <th>sentiment_scores</th>\n",
       "      <th>Label</th>\n",
       "    </tr>\n",
       "  </thead>\n",
       "  <tbody>\n",
       "    <tr>\n",
       "      <th>0</th>\n",
       "      <td>B002OHDRF2</td>\n",
       "      <td>A2ATWKOFJXRRR1</td>\n",
       "      <td>B.  Merritt    filmreviewstew.com</td>\n",
       "      <td>2/6</td>\n",
       "      <td>2.0</td>\n",
       "      <td>1263859200</td>\n",
       "      <td>Been  There.  Done  That.</td>\n",
       "      <td>Judgment  Day&lt;/a&gt;  in  which  a  Termina...</td>\n",
       "      <td>[Judgment, Day, &lt;, /a, &gt;, in, which, a, Termin...</td>\n",
       "      <td>[Judgment, Day, &lt;, /a, &gt;, Terminator, gets, fr...</td>\n",
       "      <td>4</td>\n",
       "      <td>1.0</td>\n",
       "    </tr>\n",
       "    <tr>\n",
       "      <th>1</th>\n",
       "      <td>B002OHDRF2</td>\n",
       "      <td>A1W6I2VUOWRE56</td>\n",
       "      <td>Mohammad  Saadat    hashem</td>\n",
       "      <td>2/6</td>\n",
       "      <td>5.0</td>\n",
       "      <td>1256256000</td>\n",
       "      <td>leave  it  alone!!</td>\n",
       "      <td>this  is  a  great  movie  of  course  i...</td>\n",
       "      <td>[this, is, a, great, movie, of, course, it, is...</td>\n",
       "      <td>[great, movie, course, james, cameron, movie, ...</td>\n",
       "      <td>10</td>\n",
       "      <td>1.0</td>\n",
       "    </tr>\n",
       "    <tr>\n",
       "      <th>2</th>\n",
       "      <td>B002OHDRF2</td>\n",
       "      <td>A2Y2L2TRP2Q4AS</td>\n",
       "      <td>Jennifer  L  Kehs</td>\n",
       "      <td>4/10</td>\n",
       "      <td>5.0</td>\n",
       "      <td>1249344000</td>\n",
       "      <td>best  Terminator  movie!</td>\n",
       "      <td>D    Saw  the  film  4  times  in  the  th...</td>\n",
       "      <td>[D, Saw, the, film, 4, times, in, the, theater...</td>\n",
       "      <td>[D, Saw, film, 4, times, theater, !, !]</td>\n",
       "      <td>0</td>\n",
       "      <td>0.0</td>\n",
       "    </tr>\n",
       "    <tr>\n",
       "      <th>3</th>\n",
       "      <td>B002OHDRF2</td>\n",
       "      <td>AGC3LQMMYX1RY</td>\n",
       "      <td>Joseph  M.  Day    JOJO77</td>\n",
       "      <td>4/10</td>\n",
       "      <td>5.0</td>\n",
       "      <td>1243555200</td>\n",
       "      <td>this  is  an  awsome  movie  to  see.  a...</td>\n",
       "      <td>this  movie  is  the  best  ever  seen. ...</td>\n",
       "      <td>[this, movie, is, the, best, ever, seen, ., we...</td>\n",
       "      <td>[movie, best, ever, seen, ., waiting, long, ti...</td>\n",
       "      <td>3</td>\n",
       "      <td>1.0</td>\n",
       "    </tr>\n",
       "    <tr>\n",
       "      <th>4</th>\n",
       "      <td>B002OHDRF2</td>\n",
       "      <td>A12Q0LLN5R2XAG</td>\n",
       "      <td>MONTY</td>\n",
       "      <td>0/3</td>\n",
       "      <td>5.0</td>\n",
       "      <td>1276646400</td>\n",
       "      <td>TERMINATOR  SALVATION</td>\n",
       "      <td>product  was  in  excellent  condition. ...</td>\n",
       "      <td>[product, was, in, excellent, condition, ., sh...</td>\n",
       "      <td>[product, excellent, condition, ., shop, confi...</td>\n",
       "      <td>3</td>\n",
       "      <td>1.0</td>\n",
       "    </tr>\n",
       "  </tbody>\n",
       "</table>\n",
       "</div>"
      ],
      "text/plain": [
       "              productId                    userId  ... sentiment_scores Label\n",
       "0        B002OHDRF2            A2ATWKOFJXRRR1      ...                4   1.0\n",
       "1        B002OHDRF2            A1W6I2VUOWRE56      ...               10   1.0\n",
       "2        B002OHDRF2            A2Y2L2TRP2Q4AS      ...                0   0.0\n",
       "3        B002OHDRF2             AGC3LQMMYX1RY      ...                3   1.0\n",
       "4        B002OHDRF2            A12Q0LLN5R2XAG      ...                3   1.0\n",
       "\n",
       "[5 rows x 12 columns]"
      ]
     },
     "execution_count": 463,
     "metadata": {
      "tags": []
     },
     "output_type": "execute_result"
    }
   ],
   "source": [
    "df.head()"
   ]
  },
  {
   "cell_type": "code",
   "execution_count": 0,
   "metadata": {
    "colab": {},
    "colab_type": "code",
    "id": "J-0m1IZ5JR1I"
   },
   "outputs": [],
   "source": [
    "def tofloat(helpfulness):\n",
    "  helpful = helpfulness.replace(\" \",\"\").split(\"/\")\n",
    "  if float(helpful[1])==0:\n",
    "    helpful[1]=1\n",
    "  helpfulscore = float(helpful[0])/float(helpful[1])\n",
    "  return helpfulscore"
   ]
  },
  {
   "cell_type": "code",
   "execution_count": 0,
   "metadata": {
    "colab": {},
    "colab_type": "code",
    "id": "hGJI27LnJV_H"
   },
   "outputs": [],
   "source": [
    "helpfulness_a = df['helpfulness']\n",
    "helpfulness_b = []\n",
    "for item in helpfulness_a:\n",
    "  helpfulness_c = tofloat(item)\n",
    "  helpfulness_b.append(helpfulness_c)\n",
    "df[\"helpfulness_final_score\"] = helpfulness_b"
   ]
  },
  {
   "cell_type": "code",
   "execution_count": 0,
   "metadata": {
    "colab": {
     "base_uri": "https://localhost:8080/",
     "height": 518
    },
    "colab_type": "code",
    "id": "Ob2ddpb8Ja1X",
    "outputId": "ec774ff9-ccfe-43c3-ca35-3e9be239fff2"
   },
   "outputs": [
    {
     "data": {
      "text/html": [
       "<div>\n",
       "<style scoped>\n",
       "    .dataframe tbody tr th:only-of-type {\n",
       "        vertical-align: middle;\n",
       "    }\n",
       "\n",
       "    .dataframe tbody tr th {\n",
       "        vertical-align: top;\n",
       "    }\n",
       "\n",
       "    .dataframe thead th {\n",
       "        text-align: right;\n",
       "    }\n",
       "</style>\n",
       "<table border=\"1\" class=\"dataframe\">\n",
       "  <thead>\n",
       "    <tr style=\"text-align: right;\">\n",
       "      <th></th>\n",
       "      <th>productId</th>\n",
       "      <th>userId</th>\n",
       "      <th>profileName</th>\n",
       "      <th>helpfulness</th>\n",
       "      <th>review_score</th>\n",
       "      <th>review_time</th>\n",
       "      <th>review_summary</th>\n",
       "      <th>text</th>\n",
       "      <th>tokenized_text</th>\n",
       "      <th>text_without_keywords</th>\n",
       "      <th>sentiment_scores</th>\n",
       "      <th>Label</th>\n",
       "      <th>helpfulness_final_score</th>\n",
       "    </tr>\n",
       "  </thead>\n",
       "  <tbody>\n",
       "    <tr>\n",
       "      <th>0</th>\n",
       "      <td>B002OHDRF2</td>\n",
       "      <td>A2ATWKOFJXRRR1</td>\n",
       "      <td>B.  Merritt    filmreviewstew.com</td>\n",
       "      <td>2/6</td>\n",
       "      <td>2.0</td>\n",
       "      <td>1263859200</td>\n",
       "      <td>Been  There.  Done  That.</td>\n",
       "      <td>Judgment  Day&lt;/a&gt;  in  which  a  Termina...</td>\n",
       "      <td>[Judgment, Day, &lt;, /a, &gt;, in, which, a, Termin...</td>\n",
       "      <td>[Judgment, Day, &lt;, /a, &gt;, Terminator, gets, fr...</td>\n",
       "      <td>4</td>\n",
       "      <td>1.0</td>\n",
       "      <td>0.333333</td>\n",
       "    </tr>\n",
       "    <tr>\n",
       "      <th>1</th>\n",
       "      <td>B002OHDRF2</td>\n",
       "      <td>A1W6I2VUOWRE56</td>\n",
       "      <td>Mohammad  Saadat    hashem</td>\n",
       "      <td>2/6</td>\n",
       "      <td>5.0</td>\n",
       "      <td>1256256000</td>\n",
       "      <td>leave  it  alone!!</td>\n",
       "      <td>this  is  a  great  movie  of  course  i...</td>\n",
       "      <td>[this, is, a, great, movie, of, course, it, is...</td>\n",
       "      <td>[great, movie, course, james, cameron, movie, ...</td>\n",
       "      <td>10</td>\n",
       "      <td>1.0</td>\n",
       "      <td>0.333333</td>\n",
       "    </tr>\n",
       "    <tr>\n",
       "      <th>2</th>\n",
       "      <td>B002OHDRF2</td>\n",
       "      <td>A2Y2L2TRP2Q4AS</td>\n",
       "      <td>Jennifer  L  Kehs</td>\n",
       "      <td>4/10</td>\n",
       "      <td>5.0</td>\n",
       "      <td>1249344000</td>\n",
       "      <td>best  Terminator  movie!</td>\n",
       "      <td>D    Saw  the  film  4  times  in  the  th...</td>\n",
       "      <td>[D, Saw, the, film, 4, times, in, the, theater...</td>\n",
       "      <td>[D, Saw, film, 4, times, theater, !, !]</td>\n",
       "      <td>0</td>\n",
       "      <td>0.0</td>\n",
       "      <td>0.400000</td>\n",
       "    </tr>\n",
       "    <tr>\n",
       "      <th>3</th>\n",
       "      <td>B002OHDRF2</td>\n",
       "      <td>AGC3LQMMYX1RY</td>\n",
       "      <td>Joseph  M.  Day    JOJO77</td>\n",
       "      <td>4/10</td>\n",
       "      <td>5.0</td>\n",
       "      <td>1243555200</td>\n",
       "      <td>this  is  an  awsome  movie  to  see.  a...</td>\n",
       "      <td>this  movie  is  the  best  ever  seen. ...</td>\n",
       "      <td>[this, movie, is, the, best, ever, seen, ., we...</td>\n",
       "      <td>[movie, best, ever, seen, ., waiting, long, ti...</td>\n",
       "      <td>3</td>\n",
       "      <td>1.0</td>\n",
       "      <td>0.400000</td>\n",
       "    </tr>\n",
       "    <tr>\n",
       "      <th>4</th>\n",
       "      <td>B002OHDRF2</td>\n",
       "      <td>A12Q0LLN5R2XAG</td>\n",
       "      <td>MONTY</td>\n",
       "      <td>0/3</td>\n",
       "      <td>5.0</td>\n",
       "      <td>1276646400</td>\n",
       "      <td>TERMINATOR  SALVATION</td>\n",
       "      <td>product  was  in  excellent  condition. ...</td>\n",
       "      <td>[product, was, in, excellent, condition, ., sh...</td>\n",
       "      <td>[product, excellent, condition, ., shop, confi...</td>\n",
       "      <td>3</td>\n",
       "      <td>1.0</td>\n",
       "      <td>0.000000</td>\n",
       "    </tr>\n",
       "  </tbody>\n",
       "</table>\n",
       "</div>"
      ],
      "text/plain": [
       "              productId  ... helpfulness_final_score\n",
       "0        B002OHDRF2      ...                0.333333\n",
       "1        B002OHDRF2      ...                0.333333\n",
       "2        B002OHDRF2      ...                0.400000\n",
       "3        B002OHDRF2      ...                0.400000\n",
       "4        B002OHDRF2      ...                0.000000\n",
       "\n",
       "[5 rows x 13 columns]"
      ]
     },
     "execution_count": 466,
     "metadata": {
      "tags": []
     },
     "output_type": "execute_result"
    }
   ],
   "source": [
    "df.head()"
   ]
  },
  {
   "cell_type": "markdown",
   "metadata": {
    "colab_type": "text",
    "id": "ZK576A9g3lVj"
   },
   "source": [
    "#Splitting data into Train and Test"
   ]
  },
  {
   "cell_type": "code",
   "execution_count": 0,
   "metadata": {
    "colab": {},
    "colab_type": "code",
    "id": "KHxPoZPqSMSv"
   },
   "outputs": [],
   "source": [
    "from sklearn.model_selection import train_test_split\n",
    "a,b,c,d = np.array(df['text']), np.array(df['review_score']), np.array(df['sentiment_scores']), np.array(df['helpfulness_final_score'])\n",
    "all_data = np.concatenate([a.reshape(len(df['text']),1),b.reshape(len(df['text']),1),c.reshape(len(df['text']),1),d.reshape(len(df['text']),1)], axis=1)\n",
    "X, y = all_data, list(df['Label'])\n",
    "X_train, X_test, y_train, y_test = train_test_split(X, y,test_size = 0.2)"
   ]
  },
  {
   "cell_type": "markdown",
   "metadata": {
    "colab_type": "text",
    "id": "FJF3SJuGCQaf"
   },
   "source": [
    "#Performing count vectorization for the text"
   ]
  },
  {
   "cell_type": "code",
   "execution_count": 0,
   "metadata": {
    "colab": {},
    "colab_type": "code",
    "id": "ivpMuKg819jg"
   },
   "outputs": [],
   "source": [
    "import pandas as pd\n",
    "from sklearn.feature_extraction.text import CountVectorizer\n",
    "from scipy.sparse import csr_matrix\n",
    "\n",
    "cv = CountVectorizer(min_df=2)\n",
    "cv.fit(X_train[:,0])\n",
    "X_train_cv = cv.transform(X_train[:,0])\n",
    "X_test_cv = cv.transform(X_test[:,0])\n",
    "\n",
    "train = np.concatenate([csr_matrix.toarray(X_train_cv),X_train[:,1:]],axis=1)\n",
    "test = np.concatenate([csr_matrix.toarray(X_test_cv),X_test[:,1:]],axis=1)"
   ]
  },
  {
   "cell_type": "markdown",
   "metadata": {
    "colab_type": "text",
    "id": "u9yeNpq-781m"
   },
   "source": [
    "#Prediction using RandomForest Classifier"
   ]
  },
  {
   "cell_type": "code",
   "execution_count": 0,
   "metadata": {
    "colab": {
     "base_uri": "https://localhost:8080/",
     "height": 134
    },
    "colab_type": "code",
    "id": "HKDr3OSi2EsG",
    "outputId": "cbda8235-2f24-4486-f204-372b8a5dd61c"
   },
   "outputs": [
    {
     "data": {
      "text/plain": [
       "RandomForestClassifier(bootstrap=True, class_weight=None, criterion='gini',\n",
       "                       max_depth=None, max_features='auto', max_leaf_nodes=None,\n",
       "                       min_impurity_decrease=0.0, min_impurity_split=None,\n",
       "                       min_samples_leaf=1, min_samples_split=2,\n",
       "                       min_weight_fraction_leaf=0.0, n_estimators=50,\n",
       "                       n_jobs=None, oob_score=False, random_state=None,\n",
       "                       verbose=0, warm_start=False)"
      ]
     },
     "execution_count": 483,
     "metadata": {
      "tags": []
     },
     "output_type": "execute_result"
    }
   ],
   "source": [
    "import warnings\n",
    "warnings.filterwarnings('ignore') # To ignore warning messages\n",
    "\n",
    "from sklearn.ensemble import RandomForestClassifier\n",
    "RF = RandomForestClassifier(n_estimators=50)\n",
    "RF.fit(train, y_train)"
   ]
  },
  {
   "cell_type": "code",
   "execution_count": 0,
   "metadata": {
    "colab": {
     "base_uri": "https://localhost:8080/",
     "height": 50
    },
    "colab_type": "code",
    "id": "0W1M5f6hdORd",
    "outputId": "f2a3185e-b18c-464a-dd08-2769d74066ce"
   },
   "outputs": [
    {
     "name": "stdout",
     "output_type": "stream",
     "text": [
      "Accuracies of logistic regression -> [0.76 0.61 0.84 0.84 0.81]\n",
      "Mean of all accuracies ->  0.7705095307917889\n"
     ]
    }
   ],
   "source": [
    "from sklearn.model_selection import cross_val_score\n",
    "accuracies_RF = cross_val_score(estimator = RF, X = train, y = y_train, cv= 5)\n",
    "print(\"Accuracies of logistic regression ->\",accuracies_RF)\n",
    "print(\"Mean of all accuracies -> \",accuracies_RF.mean())"
   ]
  },
  {
   "cell_type": "code",
   "execution_count": 0,
   "metadata": {
    "colab": {},
    "colab_type": "code",
    "id": "Ml2uBx0QnGY2"
   },
   "outputs": [],
   "source": [
    "grid_parameters = {'n_estimators' : [10*i for i in range(1,10)]  }"
   ]
  },
  {
   "cell_type": "code",
   "execution_count": 0,
   "metadata": {
    "colab": {},
    "colab_type": "code",
    "id": "0Bdd1xbnniTp"
   },
   "outputs": [],
   "source": [
    "from sklearn.model_selection import GridSearchCV\n",
    "RF_grid_search = GridSearchCV(estimator = RF,\n",
    "                          param_grid = grid_parameters,\n",
    "                          scoring = 'accuracy',\n",
    "                          cv = 5, n_jobs = -1)"
   ]
  },
  {
   "cell_type": "code",
   "execution_count": 0,
   "metadata": {
    "colab": {
     "base_uri": "https://localhost:8080/",
     "height": 50
    },
    "colab_type": "code",
    "id": "xPjSc42gn2t5",
    "outputId": "a1d627d7-27a2-483b-ed48-ae4aa0edf53a"
   },
   "outputs": [
    {
     "name": "stdout",
     "output_type": "stream",
     "text": [
      "Best values for the parameters ->  {'n_estimators': 90}\n",
      "Best score for the search parameters ->  0.8\n"
     ]
    }
   ],
   "source": [
    "RF_grid_search.fit(train,y_train)\n",
    "best_parameters_of_RF = RF_grid_search.best_params_\n",
    "print(\"Best values for the parameters -> \",best_parameters_of_RF)\n",
    "best_score_of_RF = RF_grid_search.best_score_\n",
    "print(\"Best score for the search parameters -> \",best_score_of_RF)"
   ]
  },
  {
   "cell_type": "code",
   "execution_count": 0,
   "metadata": {
    "colab": {
     "base_uri": "https://localhost:8080/",
     "height": 34
    },
    "colab_type": "code",
    "id": "KP-ZG05Mh0kT",
    "outputId": "5806c25e-8396-4a1b-f4a2-1fdd8641fbef"
   },
   "outputs": [
    {
     "name": "stdout",
     "output_type": "stream",
     "text": [
      "final accuracy: 0.8292682926829268\n"
     ]
    }
   ],
   "source": [
    "from sklearn.ensemble import RandomForestClassifier\n",
    "RF = RandomForestClassifier(n_estimators=90)\n",
    "RF.fit(train, y_train)\n",
    "prediction_RF = RF.predict(test)\n",
    "print(\"final accuracy:\", metrics.accuracy_score(prediction_RF, y_test))"
   ]
  },
  {
   "cell_type": "code",
   "execution_count": 0,
   "metadata": {
    "colab": {
     "base_uri": "https://localhost:8080/",
     "height": 330
    },
    "colab_type": "code",
    "id": "NSY6Ephi9ZA6",
    "outputId": "75b2f18c-a02e-48f5-b316-f1c4c1b32097"
   },
   "outputs": [
    {
     "data": {
      "text/plain": [
       "(<Figure size 432x288 with 1 Axes>,\n",
       " <matplotlib.axes._subplots.AxesSubplot at 0x7feb11c652e8>)"
      ]
     },
     "execution_count": 502,
     "metadata": {
      "tags": []
     },
     "output_type": "execute_result"
    },
    {
     "data": {
      "text/plain": [
       "<Figure size 432x288 with 0 Axes>"
      ]
     },
     "metadata": {
      "tags": []
     },
     "output_type": "display_data"
    },
    {
     "data": {
      "image/png": "[encoded data removed]",
      "text/plain": [
       "<Figure size 432x288 with 1 Axes>"
      ]
     },
     "metadata": {
      "tags": []
     },
     "output_type": "display_data"
    }
   ],
   "source": [
    "# confusion matrix for Random forest\n",
    "from sklearn.metrics import confusion_matrix\n",
    "import matplotlib.pyplot as plt\n",
    "cnf_matrix = confusion_matrix(y_test,prediction_RF)\n",
    "np.set_printoptions(precision=2)\n",
    "plt.figure()\n",
    "plot_confusion_matrix(cnf_matrix)"
   ]
  },
  {
   "cell_type": "markdown",
   "metadata": {
    "colab_type": "text",
    "id": "K2ru9T058E2H"
   },
   "source": [
    "#Logistic Regression"
   ]
  },
  {
   "cell_type": "code",
   "execution_count": 0,
   "metadata": {
    "colab": {
     "base_uri": "https://localhost:8080/",
     "height": 101
    },
    "colab_type": "code",
    "id": "KrvpRF3l2WEH",
    "outputId": "75f3eeb4-032d-4a23-e8b1-64ba5428c2e3"
   },
   "outputs": [
    {
     "data": {
      "text/plain": [
       "LogisticRegression(C=0.01, class_weight=None, dual=False, fit_intercept=True,\n",
       "                   intercept_scaling=1, l1_ratio=None, max_iter=100,\n",
       "                   multi_class='warn', n_jobs=None, penalty='l1',\n",
       "                   random_state=None, solver='liblinear', tol=0.0001, verbose=0,\n",
       "                   warm_start=False)"
      ]
     },
     "execution_count": 503,
     "metadata": {
      "tags": []
     },
     "output_type": "execute_result"
    }
   ],
   "source": [
    "from sklearn.linear_model import LogisticRegression\n",
    "LR = LogisticRegression(penalty  = 'l1', C=0.01, solver='liblinear')\n",
    "LR.fit(train,y_train)"
   ]
  },
  {
   "cell_type": "code",
   "execution_count": 0,
   "metadata": {
    "colab": {
     "base_uri": "https://localhost:8080/",
     "height": 50
    },
    "colab_type": "code",
    "id": "T5hxlNS4Oso6",
    "outputId": "6a91545f-0fd5-4da5-b1ed-c85377c32d57"
   },
   "outputs": [
    {
     "name": "stdout",
     "output_type": "stream",
     "text": [
      "Accuracies of logistic regression -> [0.55 0.55 0.53 0.55 0.55]\n",
      "Mean of all accuracies ->  0.5437866568914955\n"
     ]
    }
   ],
   "source": [
    "from sklearn.model_selection import cross_val_score\n",
    "accuracies_LR = cross_val_score(estimator = LR, X = train, y = y_train, cv= 5)\n",
    "print(\"Accuracies of logistic regression ->\",accuracies_LR)\n",
    "print(\"Mean of all accuracies -> \",accuracies_LR.mean())"
   ]
  },
  {
   "cell_type": "code",
   "execution_count": 0,
   "metadata": {
    "colab": {},
    "colab_type": "code",
    "id": "-SgjrZPlO7WY"
   },
   "outputs": [],
   "source": [
    "grid_parameters = {'C' : [10**i for i in range(-5,6)]  }"
   ]
  },
  {
   "cell_type": "code",
   "execution_count": 0,
   "metadata": {
    "colab": {},
    "colab_type": "code",
    "id": "JET29GC3PAHV"
   },
   "outputs": [],
   "source": [
    "from sklearn.model_selection import GridSearchCV\n",
    "LR_grid_search = GridSearchCV(estimator = LR,\n",
    "                          param_grid = grid_parameters,\n",
    "                          scoring = 'accuracy',\n",
    "                          cv = 5, n_jobs = -1)"
   ]
  },
  {
   "cell_type": "code",
   "execution_count": 0,
   "metadata": {
    "colab": {
     "base_uri": "https://localhost:8080/",
     "height": 50
    },
    "colab_type": "code",
    "id": "WoByeYoZPEmk",
    "outputId": "bdcf70c7-1404-4f4d-cb2a-ea7b5840b6ed"
   },
   "outputs": [
    {
     "name": "stdout",
     "output_type": "stream",
     "text": [
      "Best values for the parameters ->  {'C': 0.1}\n",
      "Best score for the search parameters ->  0.58125\n"
     ]
    }
   ],
   "source": [
    "LR_grid_search.fit(train,y_train)\n",
    "best_parameters_of_LR = LR_grid_search.best_params_\n",
    "print(\"Best values for the parameters -> \",best_parameters_of_LR)\n",
    "best_score_of_LR = LR_grid_search.best_score_\n",
    "print(\"Best score for the search parameters -> \",best_score_of_LR)"
   ]
  },
  {
   "cell_type": "code",
   "execution_count": 0,
   "metadata": {
    "colab": {
     "base_uri": "https://localhost:8080/",
     "height": 34
    },
    "colab_type": "code",
    "id": "lG3nItSkPOMc",
    "outputId": "e549bdf9-53a3-44d5-c1f4-49815f6e4195"
   },
   "outputs": [
    {
     "name": "stdout",
     "output_type": "stream",
     "text": [
      "final accuracy: 0.5365853658536586\n"
     ]
    }
   ],
   "source": [
    "from sklearn import metrics\n",
    "LR = LogisticRegression(penalty = 'l1',C=0.1, solver='liblinear')\n",
    "LR.fit(train,y_train)\n",
    "prediction_LR = LR.predict(test)\n",
    "print(\"final accuracy:\", metrics.accuracy_score(prediction_LR, y_test))"
   ]
  },
  {
   "cell_type": "code",
   "execution_count": 0,
   "metadata": {
    "colab": {
     "base_uri": "https://localhost:8080/",
     "height": 330
    },
    "colab_type": "code",
    "id": "luIj8NyCBGy_",
    "outputId": "950659ae-76f5-4bcd-9301-3fe7daf3279c"
   },
   "outputs": [
    {
     "data": {
      "text/plain": [
       "(<Figure size 432x288 with 1 Axes>,\n",
       " <matplotlib.axes._subplots.AxesSubplot at 0x7feb11c4cd68>)"
      ]
     },
     "execution_count": 517,
     "metadata": {
      "tags": []
     },
     "output_type": "execute_result"
    },
    {
     "data": {
      "text/plain": [
       "<Figure size 432x288 with 0 Axes>"
      ]
     },
     "metadata": {
      "tags": []
     },
     "output_type": "display_data"
    },
    {
     "data": {
      "image/png": "[encoded data removed]",
      "text/plain": [
       "<Figure size 432x288 with 1 Axes>"
      ]
     },
     "metadata": {
      "tags": []
     },
     "output_type": "display_data"
    }
   ],
   "source": [
    "# confusion matrix for Logistic Regression\n",
    "from sklearn.metrics import confusion_matrix\n",
    "import matplotlib.pyplot as plt\n",
    "cnf_matrix = confusion_matrix(y_test,prediction_LR )\n",
    "np.set_printoptions(precision=2)\n",
    "plt.figure()\n",
    "plot_confusion_matrix(cnf_matrix)"
   ]
  },
  {
   "cell_type": "code",
   "execution_count": 0,
   "metadata": {
    "colab": {},
    "colab_type": "code",
    "id": "dKvpVEhrBsOv"
   },
   "outputs": [],
   "source": []
  }
 ],
 "metadata": {
  "colab": {
   "collapsed_sections": [],
   "name": "Machine Learning final Project.ipynb",
   "provenance": []
  },
  "kernelspec": {
   "display_name": "Python 3",
   "language": "python",
   "name": "python3"
  },
  "language_info": {
   "codemirror_mode": {
    "name": "ipython",
    "version": 3
   },
   "file_extension": ".py",
   "mimetype": "text/x-python",
   "name": "python",
   "nbconvert_exporter": "python",
   "pygments_lexer": "ipython3",
   "version": "3.9.1"
  }
 },
 "nbformat": 4,
 "nbformat_minor": 1
}
