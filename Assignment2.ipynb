{
 "cells": [
  {
   "cell_type": "markdown",
   "metadata": {},
   "source": [
    "                             Assignment 2 Digit Recognition using KNN Classifier"
   ]
  },
  {
   "cell_type": "code",
   "execution_count": 2,
   "metadata": {},
   "outputs": [],
   "source": [
    "#standard python imports to perform KNN\n",
    "\n",
    "from sklearn import datasets\n",
    "from sklearn.metrics import accuracy_score\n",
    "from sklearn.model_selection import train_test_split\n",
    "import matplotlib.pyplot as plt\n",
    "import numpy as np\n",
    "from sklearn.metrics import confusion_matrix\n",
    "import math\n",
    "import collections as col\n"
   ]
  },
  {
   "cell_type": "code",
   "execution_count": 3,
   "metadata": {},
   "outputs": [
    {
     "name": "stdout",
     "output_type": "stream",
     "text": [
      "1797\n",
      "(1797, 8, 8)\n"
     ]
    }
   ],
   "source": [
    "# Loading digits data set\n",
    "\n",
    "digits = datasets.load_digits()\n",
    "\n",
    "n_samples = len(digits.images)\n",
    "\n",
    "print(n_samples)\n",
    "\n",
    "#size of each digit is 8*8 pixel.\n",
    "\n",
    "print(digits.images.shape)\n"
   ]
  },
  {
   "cell_type": "code",
   "execution_count": 12,
   "metadata": {},
   "outputs": [
    {
     "name": "stdout",
     "output_type": "stream",
     "text": [
      "arrays of digits will be\n",
      " [[ 0.  0.  5. ...  0.  0.  0.]\n",
      " [ 0.  0.  0. ... 10.  0.  0.]\n",
      " [ 0.  0.  0. ... 16.  9.  0.]\n",
      " ...\n",
      " [ 0.  0.  1. ...  6.  0.  0.]\n",
      " [ 0.  0.  2. ... 12.  0.  0.]\n",
      " [ 0.  0. 10. ... 12.  1.  0.]]\n",
      "Target will be\n",
      " [0 1 2 ... 8 9 8]\n",
      "flattened data will be:\n",
      " [[ 0.  0.  5. ...  0.  0.  0.]\n",
      " [ 0.  0.  0. ... 10.  0.  0.]\n",
      " [ 0.  0.  0. ... 16.  9.  0.]\n",
      " ...\n",
      " [ 0.  0.  1. ...  6.  0.  0.]\n",
      " [ 0.  0.  2. ... 12.  0.  0.]\n",
      " [ 0.  0. 10. ... 12.  1.  0.]]\n",
      "target will be:\n",
      " [0 1 2 ... 8 9 8]\n",
      "flattend shape of entire data will be\n",
      " (1797, 64)\n"
     ]
    }
   ],
   "source": [
    "#Dividing data\n",
    "\n",
    "data, target = digits.data , digits.target\n",
    "\n",
    "print(\"arrays of digits will be\\n\",digits.data)\n",
    "\n",
    "print(\"Target will be\\n\", digits.target)\n",
    "\n",
    "data = digits.images.reshape((n_samples,-1))\n",
    "\n",
    "#After falttening the image \n",
    "\n",
    "print(\"flattened data will be:\\n\",digits.data)\n",
    "\n",
    "print(\"target will be:\\n\", digits.target)\n",
    "\n",
    "print(\"flattend shape of entire data will be\\n\", data.shape)\n",
    "oad a dataset and spit into train and test sets in PythonPython\n",
    "import csv\n",
    "import random\n",
    "def loadDataset(filename, split, trainingSet=[] , testSet=[]):\n",
    "\n",
    "\t    lines = csv.reader(csvfile)\n",
    "\t    dataset = list(lines)\n",
    "\t    for x in range(len(dataset)-1):\n",
    "\t        for y in range(4):\n",
    "\t            dataset[x][y] = float(dataset[x][y])\n",
    "\t        if random.random() < split:\n",
    "\t            trainingSet.append(dataset[x])\n",
    "\t        else:\n",
    "\t            testSet.append(datase\n",
    "import csv\n",
    "import random\n",
    "def loadDataset(filename, split, trainingSet=[] , testSet=[]):\n",
    "\twith open(filename, 'rb') as csvfile:\n",
    "\t    lines = csv.reader(csvfile)\n",
    "\t    dataset = list(lines)\n",
    "\t    for x in range(len(dataset)-1):\n",
    "\t        for y in range(4):\n",
    "\t            dataset[x][y] = float(dataset[x][y])\n",
    "\t        if random.random() < split:\n",
    "\t            trainingSet.append(dataset[x])\n",
    "\t        else:\n",
    "\t            testSet.append(dataset[x])\n",
    "\n",
    "\n",
    "\n",
    "\n",
    "\n"
   ]
  },
  {
   "cell_type": "code",
   "execution_count": 5,
   "metadata": {},
   "outputs": [
    {
     "name": "stdout",
     "output_type": "stream",
     "text": [
      "898 898 899\n",
      "[ 0.  0.  9. 16. 16.  7.  0.  0.  0.  2. 16. 11.  4. 15.  2.  0.  0.  4.\n",
      " 16.  2.  2. 16.  6.  0.  0.  0. 13. 11. 13. 16. 10.  0.  0.  0.  1. 10.\n",
      " 13. 16.  6.  0.  0.  0.  0.  0.  3. 16.  7.  0.  0.  0.  0.  2. 13. 14.\n",
      "  1.  0.  0.  0. 11. 15. 15.  6.  0.  0.]\n",
      "9\n",
      "[ 0.  0. 11. 16.  8.  0.  0.  0.  0.  6. 16. 11. 13.  9.  0.  0.  0.  7.\n",
      " 16.  0.  9. 16.  0.  0.  0.  2. 15. 12. 16. 16.  3.  0.  0.  0.  5.  7.\n",
      "  7. 16.  4.  0.  0.  0.  0.  0.  5. 16.  5.  0.  0.  0.  3.  7. 16. 11.\n",
      "  0.  0.  0.  0. 13. 16. 11.  1.  0.  0.]\n",
      "9\n"
     ]
    }
   ],
   "source": [
    "#splitting data into 50:50 ratio\n",
    "\n",
    "X_train,X_test,y_train,y_test = train_test_split(data, target, test_size = 0.5,random_state = 42)\n",
    "\n",
    "print(len(X_train), len(y_train), len(X_test))\n",
    "\n",
    "print(X_train[1])\n",
    "print(y_train[1])\n",
    "print(X_test[1])\n",
    "print(y_test[1])"
   ]
  },
  {
   "cell_type": "code",
   "execution_count": 14,
   "metadata": {},
   "outputs": [
    {
     "ename": "IndentationError",
     "evalue": "expected an indented block (<ipython-input-14-5abdcf57b70a>, line 6)",
     "output_type": "error",
     "traceback": [
      "\u001b[1;36m  File \u001b[1;32m\"<ipython-input-14-5abdcf57b70a>\"\u001b[1;36m, line \u001b[1;32m6\u001b[0m\n\u001b[1;33m    distance.append([np.sqrt(np.sum(np.square(X_test[i,:] - X_train[j,:]))),i])\u001b[0m\n\u001b[1;37m           ^\u001b[0m\n\u001b[1;31mIndentationError\u001b[0m\u001b[1;31m:\u001b[0m expected an indented block\n"
     ]
    }
   ],
   "source": [
    "def predict(X_train, y_train, X_test, k):\n",
    "    distance = []\n",
    "    targets  = []\n",
    "    for i in range(len(X_test-1)):\n",
    "        for j in range(len(X_train)):\n",
    "        distance.append([np.sqrt(np.sum(np.square(X_test[i,:] - X_train[j,:]))),i])\n",
    "    distance = sorted(distance)\n",
    "    for i in range(k):\n",
    "        index = distance[i][1]\n",
    "        targets.append(y_train[index])\n",
    "    return targets\n",
    "    "
   ]
  },
  {
   "cell_type": "code",
   "execution_count": 7,
   "metadata": {},
   "outputs": [],
   "source": [
    "#a = predict(X_train, y_train, X_test,4)"
   ]
  },
  {
   "cell_type": "code",
   "execution_count": 8,
   "metadata": {},
   "outputs": [
    {
     "name": "stdout",
     "output_type": "stream",
     "text": [
      "899\n",
      "899\n"
     ]
    }
   ],
   "source": [
    "def KNEAR(X_train, y_train, X_test, k):\n",
    "    predictions = []\n",
    "    for i in range(len(X_test)):\n",
    "        predictions.append(predict(X_train, y_train, X_test[i,:], k))\n",
    "    return np.asarray(predictions)\n",
    "predictions = KNEAR(X_train, y_train, X_test, 50)\n",
    "print(len(predictions))\n",
    "print(len(y_test))"
   ]
  },
  {
   "cell_type": "code",
   "execution_count": 9,
   "metadata": {},
   "outputs": [
    {
     "name": "stdout",
     "output_type": "stream",
     "text": [
      "0.0\n"
     ]
    }
   ],
   "source": [
    "def getAccuracy(y_test, predictions):\n",
    "    correct = 0\n",
    "    for x in range(len(y_test)):\n",
    "        if y_test[x] is predictions[x]:\n",
    "            corect +=1\n",
    "    return (correct/float(len(y_test))) * 100.0\n",
    "accuaracy = getAccuracy(y_test, predictions)\n",
    "print(accuaracy)"
   ]
  },
  {
   "cell_type": "code",
   "execution_count": null,
   "metadata": {},
   "outputs": [],
   "source": []
  },
  {
   "cell_type": "code",
   "execution_count": null,
   "metadata": {},
   "outputs": [],
   "source": []
  }
 ],
 "metadata": {
  "kernelspec": {
   "display_name": "Python 3",
   "language": "python",
   "name": "python3"
  },
  "language_info": {
   "codemirror_mode": {
    "name": "ipython",
    "version": 3
   },
   "file_extension": ".py",
   "mimetype": "text/x-python",
   "name": "python",
   "nbconvert_exporter": "python",
   "pygments_lexer": "ipython3",
   "version": "3.7.1"
  }
 },
 "nbformat": 4,
 "nbformat_minor": 2
}
