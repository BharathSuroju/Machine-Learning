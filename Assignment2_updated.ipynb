{
 "cells": [
  {
   "cell_type": "markdown",
   "metadata": {},
   "source": [
    "#                             Assignment 2 Digit Recognition using KNN Classifier "
   ]
  },
  {
   "cell_type": "markdown",
   "metadata": {},
   "source": [
    "#  - Sainath,Anand,Bharath"
   ]
  },
  {
   "cell_type": "code",
   "execution_count": 1,
   "metadata": {},
   "outputs": [
    {
     "name": "stdout",
     "output_type": "stream",
     "text": [
      "1797\n"
     ]
    }
   ],
   "source": [
    "from sklearn import datasets\n",
    "\n",
    "# Loading digits data set\n",
    "digits = datasets.load_digits()\n",
    "n_samples = len(digits.images)\n",
    "print(n_samples)"
   ]
  },
  {
   "cell_type": "code",
   "execution_count": 2,
   "metadata": {},
   "outputs": [],
   "source": [
    "#Dividing data\n",
    "data, target = digits.data , digits.target\n",
    "\n",
    "#reshaping the data\n",
    "data = digits.images.reshape((n_samples,-1))"
   ]
  },
  {
   "cell_type": "code",
   "execution_count": 3,
   "metadata": {},
   "outputs": [],
   "source": [
    "from sklearn.model_selection import train_test_split\n",
    "\n",
    "#splitting data into 50:50 ratio\n",
    "X_train,X_test,y_train,y_test = train_test_split(data, target, test_size = 0.5,random_state = 42)"
   ]
  },
  {
   "cell_type": "code",
   "execution_count": 4,
   "metadata": {},
   "outputs": [],
   "source": [
    "import numpy as np\n",
    "\n",
    "def euclidean_distance(X_train, X_test, k):\n",
    "    euc_dist = []\n",
    "    \n",
    "    for i in range(len(X_train)):\n",
    "        # Calculating the euclidean distances from each of the training data\n",
    "            a = np.sum(np.square(X_test - X_train[i,:]))\n",
    "            dist_calc = np.sqrt(a)\n",
    "            euc_dist.append([dist_calc,i])\n",
    "    #sorting to get nearest at the top\n",
    "    return sorted(euc_dist)"
   ]
  },
  {
   "cell_type": "code",
   "execution_count": 5,
   "metadata": {},
   "outputs": [],
   "source": [
    "import collections\n",
    "\n",
    "#iterating the k nearest neighbors\n",
    "def target_collection(distance,y_train,k):\n",
    "    targets=[]\n",
    "    for j in range(k):\n",
    "        #index of the current distance and taking the most common ones for voting\n",
    "        ind = distance[j][1]\n",
    "        targets.append(y_train[ind])\n",
    "        y_pred = collections.Counter(targets)\n",
    "    return y_pred.most_common(1)[0][0]"
   ]
  },
  {
   "cell_type": "code",
   "execution_count": 6,
   "metadata": {
    "scrolled": false
   },
   "outputs": [],
   "source": [
    "# k is number of nearest neighbors defined \n",
    "def KNN(X_train, y_train, X_test, k):\n",
    "    predictions = []\n",
    "    for i in range(len(X_test)):\n",
    "        \n",
    "        #call the distance calculation function\n",
    "        dist = euclidean_distance(X_train,X_test[i,:],k)\n",
    "        \n",
    "        #get the y\n",
    "        y = target_collection(dist,y_train,k)\n",
    "        predictions.append(y)\n",
    "    \n",
    "    return predictions"
   ]
  },
  {
   "cell_type": "code",
   "execution_count": 7,
   "metadata": {},
   "outputs": [],
   "source": [
    "K_list = [1,5,100,150]"
   ]
  },
  {
   "cell_type": "code",
   "execution_count": 8,
   "metadata": {},
   "outputs": [
    {
     "name": "stdout",
     "output_type": "stream",
     "text": [
      "Accuarcy for 1=98.33147942157953%\n",
      "Accuarcy for 5=97.77530589543937%\n",
      "Accuarcy for 100=88.54282536151278%\n",
      "Accuarcy for 150=85.09454949944383%\n"
     ]
    }
   ],
   "source": [
    "for a in K_list:\n",
    "    predictions = KNN(X_train, y_train, X_test,a)\n",
    "    correct = 0\n",
    "    #calculating the accuracy\n",
    "    for x in range(len(y_test)):\n",
    "        if y_test[x] == predictions[x]:\n",
    "            correct +=1\n",
    "    accuracy = (correct/len(y_test)) * 100.0\n",
    "    print('Accuarcy for ' + str(a) +'=' + str(accuracy) + '%')"
   ]
  },
  {
   "cell_type": "code",
   "execution_count": null,
   "metadata": {},
   "outputs": [],
   "source": []
  }
 ],
 "metadata": {
  "kernelspec": {
   "display_name": "Python 3",
   "language": "python",
   "name": "python3"
  },
  "language_info": {
   "codemirror_mode": {
    "name": "ipython",
    "version": 3
   },
   "file_extension": ".py",
   "mimetype": "text/x-python",
   "name": "python",
   "nbconvert_exporter": "python",
   "pygments_lexer": "ipython3",
   "version": "3.7.1"
  }
 },
 "nbformat": 4,
 "nbformat_minor": 2
}
