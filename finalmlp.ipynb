{
 "cells": [
  {
   "cell_type": "code",
   "execution_count": 1,
   "metadata": {},
   "outputs": [
    {
     "data": {
      "text/html": [
       "<style scoped>\n",
       "  .ansiout {\n",
       "    display: block;\n",
       "    unicode-bidi: embed;\n",
       "    white-space: pre-wrap;\n",
       "    word-wrap: break-word;\n",
       "    word-break: break-all;\n",
       "    font-family: \"Source Code Pro\", \"Menlo\", monospace;;\n",
       "    font-size: 13px;\n",
       "    color: #555;\n",
       "    margin-left: 4px;\n",
       "    line-height: 19px;\n",
       "  }\n",
       "</style>\n",
       "<div class=\"ansiout\"></div>"
      ]
     },
     "metadata": {},
     "output_type": "display_data"
    }
   ],
   "source": [
    "from pyspark.sql.functions import split\n",
    "from pyspark.sql.functions import trim\n",
    "from pyspark.sql.functions import regexp_replace\n",
    "from pyspark.ml.feature import Tokenizer, RegexTokenizer\n",
    "from pyspark.ml.feature import Tokenizer, RegexTokenizer\n",
    "from pyspark.sql.functions import udf\n",
    "from pyspark.sql.types import ArrayType, FloatType, StringType,IntegerType"
   ]
  },
  {
   "cell_type": "code",
   "execution_count": 2,
   "metadata": {},
   "outputs": [
    {
     "data": {
      "text/html": [
       "<style scoped>\n",
       "  .ansiout {\n",
       "    display: block;\n",
       "    unicode-bidi: embed;\n",
       "    white-space: pre-wrap;\n",
       "    word-wrap: break-word;\n",
       "    word-break: break-all;\n",
       "    font-family: \"Source Code Pro\", \"Menlo\", monospace;;\n",
       "    font-size: 13px;\n",
       "    color: #555;\n",
       "    margin-left: 4px;\n",
       "    line-height: 19px;\n",
       "  }\n",
       "</style>\n",
       "<div class=\"ansiout\"></div>"
      ]
     },
     "metadata": {},
     "output_type": "display_data"
    }
   ],
   "source": [
    "df = spark.read.csv(\"/FileStore/tables/Cleaned_movies.csv\", header=True)"
   ]
  },
  {
   "cell_type": "code",
   "execution_count": 3,
   "metadata": {},
   "outputs": [
    {
     "data": {
      "text/html": [
       "<style scoped>\n",
       "  .ansiout {\n",
       "    display: block;\n",
       "    unicode-bidi: embed;\n",
       "    white-space: pre-wrap;\n",
       "    word-wrap: break-word;\n",
       "    word-break: break-all;\n",
       "    font-family: \"Source Code Pro\", \"Menlo\", monospace;;\n",
       "    font-size: 13px;\n",
       "    color: #555;\n",
       "    margin-left: 4px;\n",
       "    line-height: 19px;\n",
       "  }\n",
       "</style>\n",
       "<div class=\"ansiout\">+--------------------+--------------------+--------------------+--------------+-------------+--------------------+--------------------+--------------------+\n",
       "           productId|              userId|         profileName|   helpfulness| review_score|         review_time|      review_summary|                text|\n",
       "+--------------------+--------------------+--------------------+--------------+-------------+--------------------+--------------------+--------------------+\n",
       "      B002OHDRF2    |      A2ATWKOFJXR...|      B.  Merritt...|       2/6    |      2.0    |      1263859200    |      Been  There...|      Judgment  D...|\n",
       "      B002OHDRF2    |      A1W6I2VUOWR...|      Mohammad  S...|       2/6    |      5.0    |      1256256000    |      leave  it  ...|      this  is  a...|\n",
       "      B002OHDRF2    |      A2Y2L2TRP2Q...|      Jennifer  L...|      4/10    |      5.0    |      1249344000    |      best  Termi...|    D    Saw  the...|\n",
       "      B002OHDRF2    |      AGC3LQMMYX1...|      Joseph  M. ...|      4/10    |      5.0    |      1243555200    |      this  is  a...|      this  movie...|\n",
       "      B002OHDRF2    |      A12Q0LLN5R2...|           MONTY    |       0/3    |      5.0    |      1276646400    |      TERMINATOR ...|      product  wa...|\n",
       "      B002OHDRF2    |      A32F4BIKTM1...|      Shaun  Mast...|       0/3    |      5.0    |      1273190400    |      excellent.....|      Blu  Ray  i...|\n",
       "      B002OHDRF2    |      A2LP5T3EVFV...|      Teresa  L. ...|       0/3    |      5.0    |      1264032000    |           MOVIE    |      MY  FAMILY ...|\n",
       "      B002OHDRF2    |      A1HMNDO4IUF...|      Bloody  Dem...|       0/3    |      3.0    |      1261872000    |      Not  as  go...|      I  fell  as...|\n",
       "      B002OHDRF2    |      A3FB8ANM6OB...|        robby  d    |       0/3    |      4.0    |      1259971200    |      directors  ...|      just  wante...|\n",
       "      B002OHDRF2    |      A3KO1QOAMYH...|      Daniel  B. ...|      9/19    |      1.0    |      1258934400    |      Stick  with...|      The  Extend...|\n",
       "      B002OHDRF2    |      A31CJMS9UX4...|      S.  Walker    |      5/12    |      1.0    |      1260144000    |       Horrible!    |      If  all  yo...|\n",
       "      B002OHDRF2    |      AAUHB9T8KZH...|      Arnold  Sch...|       1/5    |      1.0    |      1334275200    |      Why  am  I ...|      This  is  n...|\n",
       "      B002OHDRF2    |      A35O4GF6YAJ...|      Rodolfo  Sa...|       1/5    |      4.0    |      1274400000    |      Very  good....|      see  it  fi...|\n",
       "      B002OHDRF2    |      A26VYP814GZ...|      Joe  Schamb...|       1/5    |      2.0    |      1260230400    |      Terminator ...|      The  movie ...|\n",
       "      B002OHDRF2    |      A2P2JXU9JEY...|      Marian  M. ...|       1/5    |      4.0    |      1259798400    |      You  better...|    Salvation    ...|\n",
       "      B002OHDRF2    |      A1E3F8WR57N...|           Veese    |       1/5    |      3.0    |      1259625600    |        OHHHH  GO...|      Did  I  men...|\n",
       "      B002OHDRF2    |      A2RYGFSQXPB...|           Niall    |       1/5    |      3.0    |      1259193600    |      James  Came...|      I  was  exp...|\n",
       "      B002OHDRF2    |      AER15RIMV8E...|      Pumpkin  Ma...|       1/5    |      5.0    |      1256601600    |      An  Awesome...|      I  have  be...|\n",
       "      B002OHDRF2    |      A38600ZDQ4Z...|       Etowahdoc    |       1/5    |      2.0    |      1255996800    |      A  complete...|      I  didn\\  t...|\n",
       "      B002OHDRF2    |      AGR5FHTWYDC...|      MBuff    Mb...|      6/14    |      1.0    |      1257292800    |      what  a  wa...|    salvation  wa...|\n",
       "+--------------------+--------------------+--------------------+--------------+-------------+--------------------+--------------------+--------------------+\n",
       "only showing top 20 rows\n",
       "\n",
       "</div>"
      ]
     },
     "metadata": {},
     "output_type": "display_data"
    }
   ],
   "source": [
    "\n",
    "df.show()"
   ]
  },
  {
   "cell_type": "code",
   "execution_count": 4,
   "metadata": {},
   "outputs": [
    {
     "data": {
      "text/html": [
       "<style scoped>\n",
       "  .ansiout {\n",
       "    display: block;\n",
       "    unicode-bidi: embed;\n",
       "    white-space: pre-wrap;\n",
       "    word-wrap: break-word;\n",
       "    word-break: break-all;\n",
       "    font-family: \"Source Code Pro\", \"Menlo\", monospace;;\n",
       "    font-size: 13px;\n",
       "    color: #555;\n",
       "    margin-left: 4px;\n",
       "    line-height: 19px;\n",
       "  }\n",
       "</style>\n",
       "<div class=\"ansiout\">+--------------------+--------------------+--------------------+--------------+-------------+--------------------+--------------------+--------------------+--------------------+\n",
       "           productId|              userId|         profileName|   helpfulness| review_score|         review_time|      review_summary|                text|             didwork|\n",
       "+--------------------+--------------------+--------------------+--------------+-------------+--------------------+--------------------+--------------------+--------------------+\n",
       "      B002OHDRF2    |      A2ATWKOFJXR...|      B.  Merritt...|       2/6    |      2.0    |      1263859200    |      Been  There...|      Judgment  D...|[, , , , , , judg...|\n",
       "      B002OHDRF2    |      A1W6I2VUOWR...|      Mohammad  S...|       2/6    |      5.0    |      1256256000    |      leave  it  ...|      this  is  a...|[, , , , , , this...|\n",
       "      B002OHDRF2    |      A2Y2L2TRP2Q...|      Jennifer  L...|      4/10    |      5.0    |      1249344000    |      best  Termi...|    D    Saw  the...|[, , , , d, , , ,...|\n",
       "      B002OHDRF2    |      AGC3LQMMYX1...|      Joseph  M. ...|      4/10    |      5.0    |      1243555200    |      this  is  a...|      this  movie...|[, , , , , , this...|\n",
       "      B002OHDRF2    |      A12Q0LLN5R2...|           MONTY    |       0/3    |      5.0    |      1276646400    |      TERMINATOR ...|      product  wa...|[, , , , , , prod...|\n",
       "      B002OHDRF2    |      A32F4BIKTM1...|      Shaun  Mast...|       0/3    |      5.0    |      1273190400    |      excellent.....|      Blu  Ray  i...|[, , , , , , blu,...|\n",
       "      B002OHDRF2    |      A2LP5T3EVFV...|      Teresa  L. ...|       0/3    |      5.0    |      1264032000    |           MOVIE    |      MY  FAMILY ...|[, , , , , , my, ...|\n",
       "      B002OHDRF2    |      A1HMNDO4IUF...|      Bloody  Dem...|       0/3    |      3.0    |      1261872000    |      Not  as  go...|      I  fell  as...|[, , , , , , i, ,...|\n",
       "      B002OHDRF2    |      A3FB8ANM6OB...|        robby  d    |       0/3    |      4.0    |      1259971200    |      directors  ...|      just  wante...|[, , , , , , just...|\n",
       "      B002OHDRF2    |      A3KO1QOAMYH...|      Daniel  B. ...|      9/19    |      1.0    |      1258934400    |      Stick  with...|      The  Extend...|[, , , , , , the,...|\n",
       "      B002OHDRF2    |      A31CJMS9UX4...|      S.  Walker    |      5/12    |      1.0    |      1260144000    |       Horrible!    |      If  all  yo...|[, , , , , , if, ...|\n",
       "      B002OHDRF2    |      AAUHB9T8KZH...|      Arnold  Sch...|       1/5    |      1.0    |      1334275200    |      Why  am  I ...|      This  is  n...|[, , , , , , this...|\n",
       "      B002OHDRF2    |      A35O4GF6YAJ...|      Rodolfo  Sa...|       1/5    |      4.0    |      1274400000    |      Very  good....|      see  it  fi...|[, , , , , , see,...|\n",
       "      B002OHDRF2    |      A26VYP814GZ...|      Joe  Schamb...|       1/5    |      2.0    |      1260230400    |      Terminator ...|      The  movie ...|[, , , , , , the,...|\n",
       "      B002OHDRF2    |      A2P2JXU9JEY...|      Marian  M. ...|       1/5    |      4.0    |      1259798400    |      You  better...|    Salvation    ...|[, , , , salvatio...|\n",
       "      B002OHDRF2    |      A1E3F8WR57N...|           Veese    |       1/5    |      3.0    |      1259625600    |        OHHHH  GO...|      Did  I  men...|[, , , , , , did,...|\n",
       "      B002OHDRF2    |      A2RYGFSQXPB...|           Niall    |       1/5    |      3.0    |      1259193600    |      James  Came...|      I  was  exp...|[, , , , , , i, ,...|\n",
       "      B002OHDRF2    |      AER15RIMV8E...|      Pumpkin  Ma...|       1/5    |      5.0    |      1256601600    |      An  Awesome...|      I  have  be...|[, , , , , , i, ,...|\n",
       "      B002OHDRF2    |      A38600ZDQ4Z...|       Etowahdoc    |       1/5    |      2.0    |      1255996800    |      A  complete...|      I  didn\\  t...|[, , , , , , i, ,...|\n",
       "      B002OHDRF2    |      AGR5FHTWYDC...|      MBuff    Mb...|      6/14    |      1.0    |      1257292800    |      what  a  wa...|    salvation  wa...|[, , , , salvatio...|\n",
       "+--------------------+--------------------+--------------------+--------------+-------------+--------------------+--------------------+--------------------+--------------------+\n",
       "only showing top 20 rows\n",
       "\n",
       "+--------------------+--------------------+--------------------+--------------+-------------+--------------------+--------------------+--------------------+--------------------+--------------------+\n",
       "           productId|              userId|         profileName|   helpfulness| review_score|         review_time|      review_summary|                text|             didwork|               dummy|\n",
       "+--------------------+--------------------+--------------------+--------------+-------------+--------------------+--------------------+--------------------+--------------------+--------------------+\n",
       "      B002OHDRF2    |      A2ATWKOFJXR...|      B.  Merritt...|       2/6    |      2.0    |      1263859200    |      Been  There...|      Judgment  D...|[, , , , , , judg...|[judgment, day&lt;/a...|\n",
       "      B002OHDRF2    |      A1W6I2VUOWR...|      Mohammad  S...|       2/6    |      5.0    |      1256256000    |      leave  it  ...|      this  is  a...|[, , , , , , this...|[this, is, a, gre...|\n",
       "      B002OHDRF2    |      A2Y2L2TRP2Q...|      Jennifer  L...|      4/10    |      5.0    |      1249344000    |      best  Termi...|    D    Saw  the...|[, , , , d, , , ,...|[d, saw, the, fil...|\n",
       "      B002OHDRF2    |      AGC3LQMMYX1...|      Joseph  M. ...|      4/10    |      5.0    |      1243555200    |      this  is  a...|      this  movie...|[, , , , , , this...|[this, movie, is,...|\n",
       "      B002OHDRF2    |      A12Q0LLN5R2...|           MONTY    |       0/3    |      5.0    |      1276646400    |      TERMINATOR ...|      product  wa...|[, , , , , , prod...|[product, was, in...|\n",
       "      B002OHDRF2    |      A32F4BIKTM1...|      Shaun  Mast...|       0/3    |      5.0    |      1273190400    |      excellent.....|      Blu  Ray  i...|[, , , , , , blu,...|[blu, ray, is, th...|\n",
       "      B002OHDRF2    |      A2LP5T3EVFV...|      Teresa  L. ...|       0/3    |      5.0    |      1264032000    |           MOVIE    |      MY  FAMILY ...|[, , , , , , my, ...|[my, family, and,...|\n",
       "      B002OHDRF2    |      A1HMNDO4IUF...|      Bloody  Dem...|       0/3    |      3.0    |      1261872000    |      Not  as  go...|      I  fell  as...|[, , , , , , i, ,...|[i, fell, asleep,...|\n",
       "      B002OHDRF2    |      A3FB8ANM6OB...|        robby  d    |       0/3    |      4.0    |      1259971200    |      directors  ...|      just  wante...|[, , , , , , just...|[just, wanted, to...|\n",
       "      B002OHDRF2    |      A3KO1QOAMYH...|      Daniel  B. ...|      9/19    |      1.0    |      1258934400    |      Stick  with...|      The  Extend...|[, , , , , , the,...|[the, extended, c...|\n",
       "      B002OHDRF2    |      A31CJMS9UX4...|      S.  Walker    |      5/12    |      1.0    |      1260144000    |       Horrible!    |      If  all  yo...|[, , , , , , if, ...|[if, all, you, ca...|\n",
       "      B002OHDRF2    |      AAUHB9T8KZH...|      Arnold  Sch...|       1/5    |      1.0    |      1334275200    |      Why  am  I ...|      This  is  n...|[, , , , , , this...|[this, is, not, a...|\n",
       "      B002OHDRF2    |      A35O4GF6YAJ...|      Rodolfo  Sa...|       1/5    |      4.0    |      1274400000    |      Very  good....|      see  it  fi...|[, , , , , , see,...|[see, it, finishe...|\n",
       "      B002OHDRF2    |      A26VYP814GZ...|      Joe  Schamb...|       1/5    |      2.0    |      1260230400    |      Terminator ...|      The  movie ...|[, , , , , , the,...|[the, movie, was,...|\n",
       "      B002OHDRF2    |      A2P2JXU9JEY...|      Marian  M. ...|       1/5    |      4.0    |      1259798400    |      You  better...|    Salvation    ...|[, , , , salvatio...|[salvation, is, a...|\n",
       "      B002OHDRF2    |      A1E3F8WR57N...|           Veese    |       1/5    |      3.0    |      1259625600    |        OHHHH  GO...|      Did  I  men...|[, , , , , , did,...|[did, i, mention,...|\n",
       "      B002OHDRF2    |      A2RYGFSQXPB...|           Niall    |       1/5    |      3.0    |      1259193600    |      James  Came...|      I  was  exp...|[, , , , , , i, ,...|[i, was, expectin...|\n",
       "      B002OHDRF2    |      AER15RIMV8E...|      Pumpkin  Ma...|       1/5    |      5.0    |      1256601600    |      An  Awesome...|      I  have  be...|[, , , , , , i, ,...|[i, have, been, w...|\n",
       "      B002OHDRF2    |      A38600ZDQ4Z...|       Etowahdoc    |       1/5    |      2.0    |      1255996800    |      A  complete...|      I  didn\\  t...|[, , , , , , i, ,...|[i, didn\\, t, nec...|\n",
       "      B002OHDRF2    |      AGR5FHTWYDC...|      MBuff    Mb...|      6/14    |      1.0    |      1257292800    |      what  a  wa...|    salvation  wa...|[, , , , salvatio...|[salvation, was, ...|\n",
       "+--------------------+--------------------+--------------------+--------------+-------------+--------------------+--------------------+--------------------+--------------------+--------------------+\n",
       "only showing top 20 rows\n",
       "\n",
       "</div>"
      ]
     },
     "metadata": {},
     "output_type": "display_data"
    }
   ],
   "source": [
    "\n",
    "tokenizer = Tokenizer(inputCol=\"text\", outputCol=\"didwork\")\n",
    "tokenized = tokenizer.transform(df)\n",
    "tokenized.show()\n",
    "\n",
    "def remove(x):\n",
    "    A = []\n",
    "    for i in x:\n",
    "      if(i!= \"\"):\n",
    "        A.append(i)\n",
    "    return A\n",
    "\n",
    "dummy_function_udf = udf(remove, ArrayType(StringType()))\n",
    "df1 = tokenized.withColumn(\"dummy\", dummy_function_udf(tokenized['didwork']))\n",
    "df1.show()"
   ]
  },
  {
   "cell_type": "code",
   "execution_count": 5,
   "metadata": {},
   "outputs": [
    {
     "data": {
      "text/html": [
       "<style scoped>\n",
       "  .ansiout {\n",
       "    display: block;\n",
       "    unicode-bidi: embed;\n",
       "    white-space: pre-wrap;\n",
       "    word-wrap: break-word;\n",
       "    word-break: break-all;\n",
       "    font-family: \"Source Code Pro\", \"Menlo\", monospace;;\n",
       "    font-size: 13px;\n",
       "    color: #555;\n",
       "    margin-left: 4px;\n",
       "    line-height: 19px;\n",
       "  }\n",
       "</style>\n",
       "<div class=\"ansiout\"></div>"
      ]
     },
     "metadata": {},
     "output_type": "display_data"
    }
   ],
   "source": [
    "stop =['i', 'me', 'my', 'myself', 'we', 'our', 'ours', 'ourselves', 'you', \"you're\", \"you've\", \"you'll\", \"you'd\", 'your', 'yours', 'yourself', 'yourselves', 'he', 'him', 'his', 'himself', 'she', \"she's\", 'her', 'hers', 'herself', 'it', \"it's\", 'its', 'itself', 'they', 'them', 'their', 'theirs', 'themselves', 'what', 'which', 'who', 'whom', 'this', 'that', \"that'll\", 'these', 'those', 'am', 'is', 'are', 'was', 'were', 'be', 'been', 'being', 'have', 'has', 'had', 'having', 'do', 'does', 'did', 'doing', 'a', 'an', 'the', 'and', 'but', 'if', 'or', 'because', 'as', 'until', 'while', 'of', 'at', 'by', 'for', 'with', 'about', 'against', 'between', 'into', 'through', 'during', 'before', 'after', 'above', 'below', 'to', 'from', 'up', 'down', 'in', 'out', 'on', 'off', 'over', 'under', 'again', 'further', 'then', 'once', 'here', 'there', 'when', 'where', 'why', 'how', 'all', 'any', 'both', 'each', 'few', 'more', 'most', 'other', 'some', 'such', 'no', 'nor', 'not', 'only', 'own', 'same', 'so', 'than', 'too', 'very', 's', 't', 'can', 'will', 'just', 'don', \"don't\", 'should', \"should've\", 'now', 'd', 'll', 'm', 'o', 're', 've', 'y', 'ain', 'aren', \"aren't\", 'couldn', \"couldn't\", 'didn', \"didn't\", 'doesn', \"doesn't\", 'hadn', \"hadn't\", 'hasn', \"hasn't\", 'haven', \"haven't\", 'isn', \"isn't\", 'ma', 'mightn', \"mightn't\", 'mustn', \"mustn't\", 'needn', \"needn't\", 'shan', \"shan't\", 'shouldn', \"shouldn't\", 'wasn', \"wasn't\", 'weren', \"weren't\", 'won', \"won't\", 'wouldn', \"wouldn't\"]"
   ]
  },
  {
   "cell_type": "code",
   "execution_count": 6,
   "metadata": {},
   "outputs": [
    {
     "data": {
      "text/html": [
       "<style scoped>\n",
       "  .ansiout {\n",
       "    display: block;\n",
       "    unicode-bidi: embed;\n",
       "    white-space: pre-wrap;\n",
       "    word-wrap: break-word;\n",
       "    word-break: break-all;\n",
       "    font-family: \"Source Code Pro\", \"Menlo\", monospace;;\n",
       "    font-size: 13px;\n",
       "    color: #555;\n",
       "    margin-left: 4px;\n",
       "    line-height: 19px;\n",
       "  }\n",
       "</style>\n",
       "<div class=\"ansiout\">+--------------------+--------------------+--------------------+--------------+-------------+--------------------+--------------------+--------------------+--------------------+--------------------+--------------------+\n",
       "           productId|              userId|         profileName|   helpfulness| review_score|         review_time|      review_summary|                text|             didwork|               dummy|               clean|\n",
       "+--------------------+--------------------+--------------------+--------------+-------------+--------------------+--------------------+--------------------+--------------------+--------------------+--------------------+\n",
       "      B002OHDRF2    |      A2ATWKOFJXR...|      B.  Merritt...|       2/6    |      2.0    |      1263859200    |      Been  There...|      Judgment  D...|[, , , , , , judg...|[judgment, day&lt;/a...|[judgment, day&lt;/a...|\n",
       "      B002OHDRF2    |      A1W6I2VUOWR...|      Mohammad  S...|       2/6    |      5.0    |      1256256000    |      leave  it  ...|      this  is  a...|[, , , , , , this...|[this, is, a, gre...|[great, movie, co...|\n",
       "      B002OHDRF2    |      A2Y2L2TRP2Q...|      Jennifer  L...|      4/10    |      5.0    |      1249344000    |      best  Termi...|    D    Saw  the...|[, , , , d, , , ,...|[d, saw, the, fil...|[saw, film, 4, ti...|\n",
       "      B002OHDRF2    |      AGC3LQMMYX1...|      Joseph  M. ...|      4/10    |      5.0    |      1243555200    |      this  is  a...|      this  movie...|[, , , , , , this...|[this, movie, is,...|[movie, best, eve...|\n",
       "      B002OHDRF2    |      A12Q0LLN5R2...|           MONTY    |       0/3    |      5.0    |      1276646400    |      TERMINATOR ...|      product  wa...|[, , , , , , prod...|[product, was, in...|[product, excelle...|\n",
       "      B002OHDRF2    |      A32F4BIKTM1...|      Shaun  Mast...|       0/3    |      5.0    |      1273190400    |      excellent.....|      Blu  Ray  i...|[, , , , , , blu,...|[blu, ray, is, th...|[blu, ray, way, w...|\n",
       "      B002OHDRF2    |      A2LP5T3EVFV...|      Teresa  L. ...|       0/3    |      5.0    |      1264032000    |           MOVIE    |      MY  FAMILY ...|[, , , , , , my, ...|[my, family, and,...|[family, loved, m...|\n",
       "      B002OHDRF2    |      A1HMNDO4IUF...|      Bloody  Dem...|       0/3    |      3.0    |      1261872000    |      Not  as  go...|      I  fell  as...|[, , , , , , i, ,...|[i, fell, asleep,...|[fell, asleep, ho...|\n",
       "      B002OHDRF2    |      A3FB8ANM6OB...|        robby  d    |       0/3    |      4.0    |      1259971200    |      directors  ...|      just  wante...|[, , , , , , just...|[just, wanted, to...|[wanted, let, eve...|\n",
       "      B002OHDRF2    |      A3KO1QOAMYH...|      Daniel  B. ...|      9/19    |      1.0    |      1258934400    |      Stick  with...|      The  Extend...|[, , , , , , the,...|[the, extended, c...|[extended, cut., ...|\n",
       "      B002OHDRF2    |      A31CJMS9UX4...|      S.  Walker    |      5/12    |      1.0    |      1260144000    |       Horrible!    |      If  all  yo...|[, , , , , , if, ...|[if, all, you, ca...|[care, movie, one...|\n",
       "      B002OHDRF2    |      AAUHB9T8KZH...|      Arnold  Sch...|       1/5    |      1.0    |      1334275200    |      Why  am  I ...|      This  is  n...|[, , , , , , this...|[this, is, not, a...|[acceptable., mov...|\n",
       "      B002OHDRF2    |      A35O4GF6YAJ...|      Rodolfo  Sa...|       1/5    |      4.0    |      1274400000    |      Very  good....|      see  it  fi...|[, , , , , , see,...|[see, it, finishe...|[see, finished, m...|\n",
       "      B002OHDRF2    |      A26VYP814GZ...|      Joe  Schamb...|       1/5    |      2.0    |      1260230400    |      Terminator ...|      The  movie ...|[, , , , , , the,...|[the, movie, was,...|[movie, great, ha...|\n",
       "      B002OHDRF2    |      A2P2JXU9JEY...|      Marian  M. ...|       1/5    |      4.0    |      1259798400    |      You  better...|    Salvation    ...|[, , , , salvatio...|[salvation, is, a...|[salvation, good,...|\n",
       "      B002OHDRF2    |      A1E3F8WR57N...|           Veese    |       1/5    |      3.0    |      1259625600    |        OHHHH  GO...|      Did  I  men...|[, , , , , , did,...|[did, i, mention,...|[mention, mcg?, d...|\n",
       "      B002OHDRF2    |      A2RYGFSQXPB...|           Niall    |       1/5    |      3.0    |      1259193600    |      James  Came...|      I  was  exp...|[, , , , , , i, ,...|[i, was, expectin...|[expecting, great...|\n",
       "      B002OHDRF2    |      AER15RIMV8E...|      Pumpkin  Ma...|       1/5    |      5.0    |      1256601600    |      An  Awesome...|      I  have  be...|[, , , , , , i, ,...|[i, have, been, w...|[waiting, 4th, te...|\n",
       "      B002OHDRF2    |      A38600ZDQ4Z...|       Etowahdoc    |       1/5    |      2.0    |      1255996800    |      A  complete...|      I  didn\\  t...|[, , , , , , i, ,...|[i, didn\\, t, nec...|[didn\\, necessari...|\n",
       "      B002OHDRF2    |      AGR5FHTWYDC...|      MBuff    Mb...|      6/14    |      1.0    |      1257292800    |      what  a  wa...|    salvation  wa...|[, , , , salvatio...|[salvation, was, ...|[salvation, perha...|\n",
       "+--------------------+--------------------+--------------------+--------------+-------------+--------------------+--------------------+--------------------+--------------------+--------------------+--------------------+\n",
       "only showing top 20 rows\n",
       "\n",
       "</div>"
      ]
     },
     "metadata": {},
     "output_type": "display_data"
    }
   ],
   "source": [
    "def rmstopwords(y):\n",
    "  A = []\n",
    "  for i in y:\n",
    "    if i not in stop:\n",
    "      A.append(i)\n",
    "      \n",
    "  return A\n",
    "from pyspark.sql.types import ArrayType, FloatType, StringType\n",
    "rmestops = udf(rmstopwords, ArrayType(StringType()))\n",
    "df2 = df1.withColumn(\"clean\", rmestops(df1['dummy']))\n",
    "\n",
    "df2.show()"
   ]
  },
  {
   "cell_type": "code",
   "execution_count": 7,
   "metadata": {},
   "outputs": [
    {
     "data": {
      "text/html": [
       "<style scoped>\n",
       "  .ansiout {\n",
       "    display: block;\n",
       "    unicode-bidi: embed;\n",
       "    white-space: pre-wrap;\n",
       "    word-wrap: break-word;\n",
       "    word-break: break-all;\n",
       "    font-family: \"Source Code Pro\", \"Menlo\", monospace;;\n",
       "    font-size: 13px;\n",
       "    color: #555;\n",
       "    margin-left: 4px;\n",
       "    line-height: 19px;\n",
       "  }\n",
       "</style>\n",
       "<div class=\"ansiout\"><span class=\"ansired\">Out[</span><span class=\"ansired\">175</span><span class=\"ansired\">]: </span>\n",
       "[(&apos;abandon&apos;, &apos;-2&apos;),\n",
       " (&apos;abandoned&apos;, &apos;-2&apos;),\n",
       " (&apos;abandons&apos;, &apos;-2&apos;),\n",
       " (&apos;abducted&apos;, &apos;-2&apos;)]\n",
       "</div>"
      ]
     },
     "metadata": {},
     "output_type": "display_data"
    }
   ],
   "source": [
    "afinn = sc.textFile(\"/FileStore/tables/AFINN_111-47bc9.txt\")\n",
    "hit=afinn.map(lambda x:x.split(\"\\t\"))\n",
    "keyvalues = hit.map(lambda x : (x[0],x[1]))\n",
    "keyvalues.take(4)"
   ]
  },
  {
   "cell_type": "code",
   "execution_count": 8,
   "metadata": {},
   "outputs": [
    {
     "data": {
      "text/html": [
       "<style scoped>\n",
       "  .ansiout {\n",
       "    display: block;\n",
       "    unicode-bidi: embed;\n",
       "    white-space: pre-wrap;\n",
       "    word-wrap: break-word;\n",
       "    word-break: break-all;\n",
       "    font-family: \"Source Code Pro\", \"Menlo\", monospace;;\n",
       "    font-size: 13px;\n",
       "    color: #555;\n",
       "    margin-left: 4px;\n",
       "    line-height: 19px;\n",
       "  }\n",
       "</style>\n",
       "<div class=\"ansiout\"></div>"
      ]
     },
     "metadata": {},
     "output_type": "display_data"
    }
   ],
   "source": [
    "dictionary = keyvalues.collectAsMap()"
   ]
  },
  {
   "cell_type": "code",
   "execution_count": 9,
   "metadata": {},
   "outputs": [
    {
     "data": {
      "text/html": [
       "<style scoped>\n",
       "  .ansiout {\n",
       "    display: block;\n",
       "    unicode-bidi: embed;\n",
       "    white-space: pre-wrap;\n",
       "    word-wrap: break-word;\n",
       "    word-break: break-all;\n",
       "    font-family: \"Source Code Pro\", \"Menlo\", monospace;;\n",
       "    font-size: 13px;\n",
       "    color: #555;\n",
       "    margin-left: 4px;\n",
       "    line-height: 19px;\n",
       "  }\n",
       "</style>\n",
       "<div class=\"ansiout\">+--------------------+--------------------+--------------------+--------------+-------------+--------------------+--------------------+--------------------+--------------------+--------------------+--------------------+--------------------+\n",
       "           productId|              userId|         profileName|   helpfulness| review_score|         review_time|      review_summary|                text|             didwork|               dummy|               clean|   sentiments_scores|\n",
       "+--------------------+--------------------+--------------------+--------------+-------------+--------------------+--------------------+--------------------+--------------------+--------------------+--------------------+--------------------+\n",
       "      B002OHDRF2    |      A2ATWKOFJXR...|      B.  Merritt...|       2/6    |      2.0    |      1263859200    |      Been  There...|      Judgment  D...|[, , , , , , judg...|[judgment, day&lt;/a...|[judgment, day&lt;/a...|[0, 0, 0, 0, 0, 0...|\n",
       "      B002OHDRF2    |      A1W6I2VUOWR...|      Mohammad  S...|       2/6    |      5.0    |      1256256000    |      leave  it  ...|      this  is  a...|[, , , , , , this...|[this, is, a, gre...|[great, movie, co...|[3, 0, 0, 0, 0, 0...|\n",
       "      B002OHDRF2    |      A2Y2L2TRP2Q...|      Jennifer  L...|      4/10    |      5.0    |      1249344000    |      best  Termi...|    D    Saw  the...|[, , , , d, , , ,...|[d, saw, the, fil...|[saw, film, 4, ti...|     [0, 0, 0, 0, 0]|\n",
       "      B002OHDRF2    |      AGC3LQMMYX1...|      Joseph  M. ...|      4/10    |      5.0    |      1243555200    |      this  is  a...|      this  movie...|[, , , , , , this...|[this, movie, is,...|[movie, best, eve...|[0, 3, 0, 0, 0, 0...|\n",
       "      B002OHDRF2    |      A12Q0LLN5R2...|           MONTY    |       0/3    |      5.0    |      1276646400    |      TERMINATOR ...|      product  wa...|[, , , , , , prod...|[product, was, in...|[product, excelle...|[0, 3, 0, 0, 0, 0...|\n",
       "      B002OHDRF2    |      A32F4BIKTM1...|      Shaun  Mast...|       0/3    |      5.0    |      1273190400    |      excellent.....|      Blu  Ray  i...|[, , , , , , blu,...|[blu, ray, is, th...|[blu, ray, way, w...|[0, 0, 0, 0, 0, 0...|\n",
       "      B002OHDRF2    |      A2LP5T3EVFV...|      Teresa  L. ...|       0/3    |      5.0    |      1264032000    |           MOVIE    |      MY  FAMILY ...|[, , , , , , my, ...|[my, family, and,...|[family, loved, m...|[0, 3, 0, 0, 3, 0...|\n",
       "      B002OHDRF2    |      A1HMNDO4IUF...|      Bloody  Dem...|       0/3    |      3.0    |      1261872000    |      Not  as  go...|      I  fell  as...|[, , , , , , i, ,...|[i, fell, asleep,...|[fell, asleep, ho...|[0, 0, 0, 0, 0, 0...|\n",
       "      B002OHDRF2    |      A3FB8ANM6OB...|        robby  d    |       0/3    |      4.0    |      1259971200    |      directors  ...|      just  wante...|[, , , , , , just...|[just, wanted, to...|[wanted, let, eve...|[0, 0, 0, 0, 0, 0...|\n",
       "      B002OHDRF2    |      A3KO1QOAMYH...|      Daniel  B. ...|      9/19    |      1.0    |      1258934400    |      Stick  with...|      The  Extend...|[, , , , , , the,...|[the, extended, c...|[extended, cut., ...| [0, 0, -1, 0, 0, 0]|\n",
       "      B002OHDRF2    |      A31CJMS9UX4...|      S.  Walker    |      5/12    |      1.0    |      1260144000    |       Horrible!    |      If  all  yo...|[, , , , , , if, ...|[if, all, you, ca...|[care, movie, one...|[2, 0, 0, 0, 0, 0...|\n",
       "      B002OHDRF2    |      AAUHB9T8KZH...|      Arnold  Sch...|       1/5    |      1.0    |      1334275200    |      Why  am  I ...|      This  is  n...|[, , , , , , this...|[this, is, not, a...|[acceptable., mov...|  [0, 0, 0, 0, 0, 0]|\n",
       "      B002OHDRF2    |      A35O4GF6YAJ...|      Rodolfo  Sa...|       1/5    |      4.0    |      1274400000    |      Very  good....|      see  it  fi...|[, , , , , , see,...|[see, it, finishe...|[see, finished, m...|[0, 0, 0, 0, 0, 0...|\n",
       "      B002OHDRF2    |      A26VYP814GZ...|      Joe  Schamb...|       1/5    |      2.0    |      1260230400    |      Terminator ...|      The  movie ...|[, , , , , , the,...|[the, movie, was,...|[movie, great, ha...|[0, 3, 0, 0, 0, 0...|\n",
       "      B002OHDRF2    |      A2P2JXU9JEY...|      Marian  M. ...|       1/5    |      4.0    |      1259798400    |      You  better...|    Salvation    ...|[, , , , salvatio...|[salvation, is, a...|[salvation, good,...|[0, 3, 0, 0, 0, 0...|\n",
       "      B002OHDRF2    |      A1E3F8WR57N...|           Veese    |       1/5    |      3.0    |      1259625600    |        OHHHH  GO...|      Did  I  men...|[, , , , , , did,...|[did, i, mention,...|[mention, mcg?, d...|[0, 0, 0, -1, 0, ...|\n",
       "      B002OHDRF2    |      A2RYGFSQXPB...|           Niall    |       1/5    |      3.0    |      1259193600    |      James  Came...|      I  was  exp...|[, , , , , , i, ,...|[i, was, expectin...|[expecting, great...|[0, 3, 0, 0, 0, 0...|\n",
       "      B002OHDRF2    |      AER15RIMV8E...|      Pumpkin  Ma...|       1/5    |      5.0    |      1256601600    |      An  Awesome...|      I  have  be...|[, , , , , , i, ,...|[i, have, been, w...|[waiting, 4th, te...|[0, 0, 0, 0, 0, 0...|\n",
       "      B002OHDRF2    |      A38600ZDQ4Z...|       Etowahdoc    |       1/5    |      2.0    |      1255996800    |      A  complete...|      I  didn\\  t...|[, , , , , , i, ,...|[i, didn\\, t, nec...|[didn\\, necessari...|[0, 0, 0, 2, 0, 0...|\n",
       "      B002OHDRF2    |      AGR5FHTWYDC...|      MBuff    Mb...|      6/14    |      1.0    |      1257292800    |      what  a  wa...|    salvation  wa...|[, , , , salvatio...|[salvation, was, ...|[salvation, perha...|[0, 0, 0, 2, 0, 0...|\n",
       "+--------------------+--------------------+--------------------+--------------+-------------+--------------------+--------------------+--------------------+--------------------+--------------------+--------------------+--------------------+\n",
       "only showing top 20 rows\n",
       "\n",
       "</div>"
      ]
     },
     "metadata": {},
     "output_type": "display_data"
    }
   ],
   "source": [
    "def sentiment_score(array):\n",
    "  A = []\n",
    "  for i in array:\n",
    "    if i in dictionary:\n",
    "      A.append(dictionary[i])\n",
    "    else:\n",
    "      A.append(0)\n",
    "  return A\n",
    "\n",
    "from pyspark.sql.types import ArrayType, FloatType, StringType\n",
    "from pyspark.sql.functions import array_contains\n",
    "sentiment_score_udf = udf(sentiment_score, ArrayType(StringType()))\n",
    "df3 = df2.withColumn(\"sentiments_scores\", sentiment_score_udf(df2['clean']))\n",
    "df3.show()"
   ]
  },
  {
   "cell_type": "code",
   "execution_count": 10,
   "metadata": {},
   "outputs": [
    {
     "data": {
      "text/html": [
       "<style scoped>\n",
       "  .ansiout {\n",
       "    display: block;\n",
       "    unicode-bidi: embed;\n",
       "    white-space: pre-wrap;\n",
       "    word-wrap: break-word;\n",
       "    word-break: break-all;\n",
       "    font-family: \"Source Code Pro\", \"Menlo\", monospace;;\n",
       "    font-size: 13px;\n",
       "    color: #555;\n",
       "    margin-left: 4px;\n",
       "    line-height: 19px;\n",
       "  }\n",
       "</style>\n",
       "<div class=\"ansiout\"></div>"
      ]
     },
     "metadata": {},
     "output_type": "display_data"
    }
   ],
   "source": [
    "def sentiment_score_sum(array):\n",
    "  sumvalues = 0\n",
    "  for i in array:\n",
    "    sumvalues = sumvalues+int(i)\n",
    "  return sumvalues"
   ]
  },
  {
   "cell_type": "code",
   "execution_count": 11,
   "metadata": {},
   "outputs": [
    {
     "data": {
      "text/html": [
       "<style scoped>\n",
       "  .ansiout {\n",
       "    display: block;\n",
       "    unicode-bidi: embed;\n",
       "    white-space: pre-wrap;\n",
       "    word-wrap: break-word;\n",
       "    word-break: break-all;\n",
       "    font-family: \"Source Code Pro\", \"Menlo\", monospace;;\n",
       "    font-size: 13px;\n",
       "    color: #555;\n",
       "    margin-left: 4px;\n",
       "    line-height: 19px;\n",
       "  }\n",
       "</style>\n",
       "<div class=\"ansiout\">+--------------------+--------------------+--------------------+--------------+-------------+--------------------+--------------------+--------------------+--------------------+--------------------+--------------------+--------------------+--------------------+\n",
       "           productId|              userId|         profileName|   helpfulness| review_score|         review_time|      review_summary|                text|             didwork|               dummy|               clean|   sentiments_scores|sentiment_scores_sum|\n",
       "+--------------------+--------------------+--------------------+--------------+-------------+--------------------+--------------------+--------------------+--------------------+--------------------+--------------------+--------------------+--------------------+\n",
       "      B002OHDRF2    |      A2ATWKOFJXR...|      B.  Merritt...|       2/6    |      2.0    |      1263859200    |      Been  There...|      Judgment  D...|[, , , , , , judg...|[judgment, day&lt;/a...|[judgment, day&lt;/a...|[0, 0, 0, 0, 0, 0...|                   3|\n",
       "      B002OHDRF2    |      A1W6I2VUOWR...|      Mohammad  S...|       2/6    |      5.0    |      1256256000    |      leave  it  ...|      this  is  a...|[, , , , , , this...|[this, is, a, gre...|[great, movie, co...|[3, 0, 0, 0, 0, 0...|                  10|\n",
       "      B002OHDRF2    |      A2Y2L2TRP2Q...|      Jennifer  L...|      4/10    |      5.0    |      1249344000    |      best  Termi...|    D    Saw  the...|[, , , , d, , , ,...|[d, saw, the, fil...|[saw, film, 4, ti...|     [0, 0, 0, 0, 0]|                   0|\n",
       "      B002OHDRF2    |      AGC3LQMMYX1...|      Joseph  M. ...|      4/10    |      5.0    |      1243555200    |      this  is  a...|      this  movie...|[, , , , , , this...|[this, movie, is,...|[movie, best, eve...|[0, 3, 0, 0, 0, 0...|                   3|\n",
       "      B002OHDRF2    |      A12Q0LLN5R2...|           MONTY    |       0/3    |      5.0    |      1276646400    |      TERMINATOR ...|      product  wa...|[, , , , , , prod...|[product, was, in...|[product, excelle...|[0, 3, 0, 0, 0, 0...|                   3|\n",
       "      B002OHDRF2    |      A32F4BIKTM1...|      Shaun  Mast...|       0/3    |      5.0    |      1273190400    |      excellent.....|      Blu  Ray  i...|[, , , , , , blu,...|[blu, ray, is, th...|[blu, ray, way, w...|[0, 0, 0, 0, 0, 0...|                   0|\n",
       "      B002OHDRF2    |      A2LP5T3EVFV...|      Teresa  L. ...|       0/3    |      5.0    |      1264032000    |           MOVIE    |      MY  FAMILY ...|[, , , , , , my, ...|[my, family, and,...|[family, loved, m...|[0, 3, 0, 0, 3, 0...|                   6|\n",
       "      B002OHDRF2    |      A1HMNDO4IUF...|      Bloody  Dem...|       0/3    |      3.0    |      1261872000    |      Not  as  go...|      I  fell  as...|[, , , , , , i, ,...|[i, fell, asleep,...|[fell, asleep, ho...|[0, 0, 0, 0, 0, 0...|                   6|\n",
       "      B002OHDRF2    |      A3FB8ANM6OB...|        robby  d    |       0/3    |      4.0    |      1259971200    |      directors  ...|      just  wante...|[, , , , , , just...|[just, wanted, to...|[wanted, let, eve...|[0, 0, 0, 0, 0, 0...|                  -1|\n",
       "      B002OHDRF2    |      A3KO1QOAMYH...|      Daniel  B. ...|      9/19    |      1.0    |      1258934400    |      Stick  with...|      The  Extend...|[, , , , , , the,...|[the, extended, c...|[extended, cut., ...| [0, 0, -1, 0, 0, 0]|                  -1|\n",
       "      B002OHDRF2    |      A31CJMS9UX4...|      S.  Walker    |      5/12    |      1.0    |      1260144000    |       Horrible!    |      If  all  yo...|[, , , , , , if, ...|[if, all, you, ca...|[care, movie, one...|[2, 0, 0, 0, 0, 0...|                   4|\n",
       "      B002OHDRF2    |      AAUHB9T8KZH...|      Arnold  Sch...|       1/5    |      1.0    |      1334275200    |      Why  am  I ...|      This  is  n...|[, , , , , , this...|[this, is, not, a...|[acceptable., mov...|  [0, 0, 0, 0, 0, 0]|                   0|\n",
       "      B002OHDRF2    |      A35O4GF6YAJ...|      Rodolfo  Sa...|       1/5    |      4.0    |      1274400000    |      Very  good....|      see  it  fi...|[, , , , , , see,...|[see, it, finishe...|[see, finished, m...|[0, 0, 0, 0, 0, 0...|                  13|\n",
       "      B002OHDRF2    |      A26VYP814GZ...|      Joe  Schamb...|       1/5    |      2.0    |      1260230400    |      Terminator ...|      The  movie ...|[, , , , , , the,...|[the, movie, was,...|[movie, great, ha...|[0, 3, 0, 0, 0, 0...|                  -1|\n",
       "      B002OHDRF2    |      A2P2JXU9JEY...|      Marian  M. ...|       1/5    |      4.0    |      1259798400    |      You  better...|    Salvation    ...|[, , , , salvatio...|[salvation, is, a...|[salvation, good,...|[0, 3, 0, 0, 0, 0...|                   3|\n",
       "      B002OHDRF2    |      A1E3F8WR57N...|           Veese    |       1/5    |      3.0    |      1259625600    |        OHHHH  GO...|      Did  I  men...|[, , , , , , did,...|[did, i, mention,...|[mention, mcg?, d...|[0, 0, 0, -1, 0, ...|                   0|\n",
       "      B002OHDRF2    |      A2RYGFSQXPB...|           Niall    |       1/5    |      3.0    |      1259193600    |      James  Came...|      I  was  exp...|[, , , , , , i, ,...|[i, was, expectin...|[expecting, great...|[0, 3, 0, 0, 0, 0...|                  14|\n",
       "      B002OHDRF2    |      AER15RIMV8E...|      Pumpkin  Ma...|       1/5    |      5.0    |      1256601600    |      An  Awesome...|      I  have  be...|[, , , , , , i, ,...|[i, have, been, w...|[waiting, 4th, te...|[0, 0, 0, 0, 0, 0...|                  19|\n",
       "      B002OHDRF2    |      A38600ZDQ4Z...|       Etowahdoc    |       1/5    |      2.0    |      1255996800    |      A  complete...|      I  didn\\  t...|[, , , , , , i, ,...|[i, didn\\, t, nec...|[didn\\, necessari...|[0, 0, 0, 2, 0, 0...|                  -9|\n",
       "      B002OHDRF2    |      AGR5FHTWYDC...|      MBuff    Mb...|      6/14    |      1.0    |      1257292800    |      what  a  wa...|    salvation  wa...|[, , , , salvatio...|[salvation, was, ...|[salvation, perha...|[0, 0, 0, 2, 0, 0...|                   7|\n",
       "+--------------------+--------------------+--------------------+--------------+-------------+--------------------+--------------------+--------------------+--------------------+--------------------+--------------------+--------------------+--------------------+\n",
       "only showing top 20 rows\n",
       "\n",
       "</div>"
      ]
     },
     "metadata": {},
     "output_type": "display_data"
    }
   ],
   "source": [
    "sentiment_score_sum_udf = udf(sentiment_score_sum, IntegerType())\n",
    "df4 = df3.withColumn(\"sentiment_scores_sum\", sentiment_score_sum_udf(df3['sentiments_scores']))\n",
    "df4.show()"
   ]
  },
  {
   "cell_type": "code",
   "execution_count": 12,
   "metadata": {},
   "outputs": [
    {
     "data": {
      "text/html": [
       "<style scoped>\n",
       "  .ansiout {\n",
       "    display: block;\n",
       "    unicode-bidi: embed;\n",
       "    white-space: pre-wrap;\n",
       "    word-wrap: break-word;\n",
       "    word-break: break-all;\n",
       "    font-family: \"Source Code Pro\", \"Menlo\", monospace;;\n",
       "    font-size: 13px;\n",
       "    color: #555;\n",
       "    margin-left: 4px;\n",
       "    line-height: 19px;\n",
       "  }\n",
       "</style>\n",
       "<div class=\"ansiout\"></div>"
      ]
     },
     "metadata": {},
     "output_type": "display_data"
    }
   ],
   "source": [
    "sentiment_scores = df5.select(df5.sentiment_scores_sum)\n",
    "stats = sentiment_scores.describe()"
   ]
  },
  {
   "cell_type": "code",
   "execution_count": 13,
   "metadata": {},
   "outputs": [
    {
     "data": {
      "text/html": [
       "<style scoped>\n",
       "  .ansiout {\n",
       "    display: block;\n",
       "    unicode-bidi: embed;\n",
       "    white-space: pre-wrap;\n",
       "    word-wrap: break-word;\n",
       "    word-break: break-all;\n",
       "    font-family: \"Source Code Pro\", \"Menlo\", monospace;;\n",
       "    font-size: 13px;\n",
       "    color: #555;\n",
       "    margin-left: 4px;\n",
       "    line-height: 19px;\n",
       "  }\n",
       "</style>\n",
       "<div class=\"ansiout\"></div>"
      ]
     },
     "metadata": {},
     "output_type": "display_data"
    }
   ],
   "source": [
    "average = stats.collect()[1][1]\n",
    "stddev = stats.collect()[2][1]"
   ]
  },
  {
   "cell_type": "code",
   "execution_count": 14,
   "metadata": {},
   "outputs": [
    {
     "data": {
      "text/html": [
       "<style scoped>\n",
       "  .ansiout {\n",
       "    display: block;\n",
       "    unicode-bidi: embed;\n",
       "    white-space: pre-wrap;\n",
       "    word-wrap: break-word;\n",
       "    word-break: break-all;\n",
       "    font-family: \"Source Code Pro\", \"Menlo\", monospace;;\n",
       "    font-size: 13px;\n",
       "    color: #555;\n",
       "    margin-left: 4px;\n",
       "    line-height: 19px;\n",
       "  }\n",
       "</style>\n",
       "<div class=\"ansiout\"></div>"
      ]
     },
     "metadata": {},
     "output_type": "display_data"
    }
   ],
   "source": [
    "thresholdup = float(average) + 0.5*float(stddev)\n",
    "thresholddown = float(average) - 0.5*float(stddev) "
   ]
  },
  {
   "cell_type": "code",
   "execution_count": 15,
   "metadata": {},
   "outputs": [
    {
     "data": {
      "text/html": [
       "<style scoped>\n",
       "  .ansiout {\n",
       "    display: block;\n",
       "    unicode-bidi: embed;\n",
       "    white-space: pre-wrap;\n",
       "    word-wrap: break-word;\n",
       "    word-break: break-all;\n",
       "    font-family: \"Source Code Pro\", \"Menlo\", monospace;;\n",
       "    font-size: 13px;\n",
       "    color: #555;\n",
       "    margin-left: 4px;\n",
       "    line-height: 19px;\n",
       "  }\n",
       "</style>\n",
       "<div class=\"ansiout\"></div>"
      ]
     },
     "metadata": {},
     "output_type": "display_data"
    }
   ],
   "source": [
    "import re\n",
    "def tofloat(helpfulness):\n",
    "  helpful = helpfulness.replace(\" \",\"\").split(\"/\")\n",
    "  if float(helpful[1])==0:\n",
    "    helpful[1]=1\n",
    "  helpfulscore = float(helpful[0])/float(helpful[1])\n",
    "  return helpfulscore"
   ]
  },
  {
   "cell_type": "code",
   "execution_count": 16,
   "metadata": {},
   "outputs": [
    {
     "data": {
      "text/html": [
       "<style scoped>\n",
       "  .ansiout {\n",
       "    display: block;\n",
       "    unicode-bidi: embed;\n",
       "    white-space: pre-wrap;\n",
       "    word-wrap: break-word;\n",
       "    word-break: break-all;\n",
       "    font-family: \"Source Code Pro\", \"Menlo\", monospace;;\n",
       "    font-size: 13px;\n",
       "    color: #555;\n",
       "    margin-left: 4px;\n",
       "    line-height: 19px;\n",
       "  }\n",
       "</style>\n",
       "<div class=\"ansiout\">+--------------------+--------------------+--------------------+--------------+-------------+--------------------+--------------------+--------------------+--------------------+--------------------+--------------------+--------------------+--------------------+----------+\n",
       "           productId|              userId|         profileName|   helpfulness| review_score|         review_time|      review_summary|                text|             didwork|               dummy|               clean|   sentiments_scores|sentiment_scores_sum| cleanhelp|\n",
       "+--------------------+--------------------+--------------------+--------------+-------------+--------------------+--------------------+--------------------+--------------------+--------------------+--------------------+--------------------+--------------------+----------+\n",
       "      B002OHDRF2    |      A2ATWKOFJXR...|      B.  Merritt...|       2/6    |      2.0    |      1263859200    |      Been  There...|      Judgment  D...|[, , , , , , judg...|[judgment, day&lt;/a...|[judgment, day&lt;/a...|[0, 0, 0, 0, 0, 0...|                   3|0.33333334|\n",
       "      B002OHDRF2    |      A1W6I2VUOWR...|      Mohammad  S...|       2/6    |      5.0    |      1256256000    |      leave  it  ...|      this  is  a...|[, , , , , , this...|[this, is, a, gre...|[great, movie, co...|[3, 0, 0, 0, 0, 0...|                  10|0.33333334|\n",
       "      B002OHDRF2    |      A2Y2L2TRP2Q...|      Jennifer  L...|      4/10    |      5.0    |      1249344000    |      best  Termi...|    D    Saw  the...|[, , , , d, , , ,...|[d, saw, the, fil...|[saw, film, 4, ti...|     [0, 0, 0, 0, 0]|                   0|       0.4|\n",
       "      B002OHDRF2    |      AGC3LQMMYX1...|      Joseph  M. ...|      4/10    |      5.0    |      1243555200    |      this  is  a...|      this  movie...|[, , , , , , this...|[this, movie, is,...|[movie, best, eve...|[0, 3, 0, 0, 0, 0...|                   3|       0.4|\n",
       "      B002OHDRF2    |      A12Q0LLN5R2...|           MONTY    |       0/3    |      5.0    |      1276646400    |      TERMINATOR ...|      product  wa...|[, , , , , , prod...|[product, was, in...|[product, excelle...|[0, 3, 0, 0, 0, 0...|                   3|       0.0|\n",
       "      B002OHDRF2    |      A32F4BIKTM1...|      Shaun  Mast...|       0/3    |      5.0    |      1273190400    |      excellent.....|      Blu  Ray  i...|[, , , , , , blu,...|[blu, ray, is, th...|[blu, ray, way, w...|[0, 0, 0, 0, 0, 0...|                   0|       0.0|\n",
       "      B002OHDRF2    |      A2LP5T3EVFV...|      Teresa  L. ...|       0/3    |      5.0    |      1264032000    |           MOVIE    |      MY  FAMILY ...|[, , , , , , my, ...|[my, family, and,...|[family, loved, m...|[0, 3, 0, 0, 3, 0...|                   6|       0.0|\n",
       "      B002OHDRF2    |      A1HMNDO4IUF...|      Bloody  Dem...|       0/3    |      3.0    |      1261872000    |      Not  as  go...|      I  fell  as...|[, , , , , , i, ,...|[i, fell, asleep,...|[fell, asleep, ho...|[0, 0, 0, 0, 0, 0...|                   6|       0.0|\n",
       "      B002OHDRF2    |      A3FB8ANM6OB...|        robby  d    |       0/3    |      4.0    |      1259971200    |      directors  ...|      just  wante...|[, , , , , , just...|[just, wanted, to...|[wanted, let, eve...|[0, 0, 0, 0, 0, 0...|                  -1|       0.0|\n",
       "      B002OHDRF2    |      A3KO1QOAMYH...|      Daniel  B. ...|      9/19    |      1.0    |      1258934400    |      Stick  with...|      The  Extend...|[, , , , , , the,...|[the, extended, c...|[extended, cut., ...| [0, 0, -1, 0, 0, 0]|                  -1|0.47368422|\n",
       "      B002OHDRF2    |      A31CJMS9UX4...|      S.  Walker    |      5/12    |      1.0    |      1260144000    |       Horrible!    |      If  all  yo...|[, , , , , , if, ...|[if, all, you, ca...|[care, movie, one...|[2, 0, 0, 0, 0, 0...|                   4|0.41666666|\n",
       "      B002OHDRF2    |      AAUHB9T8KZH...|      Arnold  Sch...|       1/5    |      1.0    |      1334275200    |      Why  am  I ...|      This  is  n...|[, , , , , , this...|[this, is, not, a...|[acceptable., mov...|  [0, 0, 0, 0, 0, 0]|                   0|       0.2|\n",
       "      B002OHDRF2    |      A35O4GF6YAJ...|      Rodolfo  Sa...|       1/5    |      4.0    |      1274400000    |      Very  good....|      see  it  fi...|[, , , , , , see,...|[see, it, finishe...|[see, finished, m...|[0, 0, 0, 0, 0, 0...|                  13|       0.2|\n",
       "      B002OHDRF2    |      A26VYP814GZ...|      Joe  Schamb...|       1/5    |      2.0    |      1260230400    |      Terminator ...|      The  movie ...|[, , , , , , the,...|[the, movie, was,...|[movie, great, ha...|[0, 3, 0, 0, 0, 0...|                  -1|       0.2|\n",
       "      B002OHDRF2    |      A2P2JXU9JEY...|      Marian  M. ...|       1/5    |      4.0    |      1259798400    |      You  better...|    Salvation    ...|[, , , , salvatio...|[salvation, is, a...|[salvation, good,...|[0, 3, 0, 0, 0, 0...|                   3|       0.2|\n",
       "      B002OHDRF2    |      A1E3F8WR57N...|           Veese    |       1/5    |      3.0    |      1259625600    |        OHHHH  GO...|      Did  I  men...|[, , , , , , did,...|[did, i, mention,...|[mention, mcg?, d...|[0, 0, 0, -1, 0, ...|                   0|       0.2|\n",
       "      B002OHDRF2    |      A2RYGFSQXPB...|           Niall    |       1/5    |      3.0    |      1259193600    |      James  Came...|      I  was  exp...|[, , , , , , i, ,...|[i, was, expectin...|[expecting, great...|[0, 3, 0, 0, 0, 0...|                  14|       0.2|\n",
       "      B002OHDRF2    |      AER15RIMV8E...|      Pumpkin  Ma...|       1/5    |      5.0    |      1256601600    |      An  Awesome...|      I  have  be...|[, , , , , , i, ,...|[i, have, been, w...|[waiting, 4th, te...|[0, 0, 0, 0, 0, 0...|                  19|       0.2|\n",
       "      B002OHDRF2    |      A38600ZDQ4Z...|       Etowahdoc    |       1/5    |      2.0    |      1255996800    |      A  complete...|      I  didn\\  t...|[, , , , , , i, ,...|[i, didn\\, t, nec...|[didn\\, necessari...|[0, 0, 0, 2, 0, 0...|                  -9|       0.2|\n",
       "      B002OHDRF2    |      AGR5FHTWYDC...|      MBuff    Mb...|      6/14    |      1.0    |      1257292800    |      what  a  wa...|    salvation  wa...|[, , , , salvatio...|[salvation, was, ...|[salvation, perha...|[0, 0, 0, 2, 0, 0...|                   7|0.42857143|\n",
       "+--------------------+--------------------+--------------------+--------------+-------------+--------------------+--------------------+--------------------+--------------------+--------------------+--------------------+--------------------+--------------------+----------+\n",
       "only showing top 20 rows\n",
       "\n",
       "</div>"
      ]
     },
     "metadata": {},
     "output_type": "display_data"
    }
   ],
   "source": [
    "tofloatudf = udf(tofloat, FloatType())\n",
    "df5 = df4.withColumn(\"cleanhelp\", tofloatudf(df4['helpfulness']))\n",
    "df5.show()"
   ]
  },
  {
   "cell_type": "code",
   "execution_count": 17,
   "metadata": {},
   "outputs": [
    {
     "data": {
      "text/html": [
       "<style scoped>\n",
       "  .ansiout {\n",
       "    display: block;\n",
       "    unicode-bidi: embed;\n",
       "    white-space: pre-wrap;\n",
       "    word-wrap: break-word;\n",
       "    word-break: break-all;\n",
       "    font-family: \"Source Code Pro\", \"Menlo\", monospace;;\n",
       "    font-size: 13px;\n",
       "    color: #555;\n",
       "    margin-left: 4px;\n",
       "    line-height: 19px;\n",
       "  }\n",
       "</style>\n",
       "<div class=\"ansiout\"></div>"
      ]
     },
     "metadata": {},
     "output_type": "display_data"
    }
   ],
   "source": [
    "df6 = df5.drop(\"cleanhelp\",\"labels\")"
   ]
  },
  {
   "cell_type": "code",
   "execution_count": 18,
   "metadata": {},
   "outputs": [
    {
     "data": {
      "text/html": [
       "<style scoped>\n",
       "  .ansiout {\n",
       "    display: block;\n",
       "    unicode-bidi: embed;\n",
       "    white-space: pre-wrap;\n",
       "    word-wrap: break-word;\n",
       "    word-break: break-all;\n",
       "    font-family: \"Source Code Pro\", \"Menlo\", monospace;;\n",
       "    font-size: 13px;\n",
       "    color: #555;\n",
       "    margin-left: 4px;\n",
       "    line-height: 19px;\n",
       "  }\n",
       "</style>\n",
       "<div class=\"ansiout\">+--------------------+-------------------------+\n",
       "                cdId|avg(sentiment_scores_sum)|\n",
       "+--------------------+-------------------------+\n",
       "      A1JVSIWDF0W...|                      1.0|\n",
       "      A14Z3N2QDCE...|                      3.0|\n",
       "      A22H5UMEDSV...|                      6.0|\n",
       "      A3JJUW47D3A...|                      0.0|\n",
       "      ARYSE5JQ3AG...|                      3.0|\n",
       "      A358GP3IQJO...|                     -2.0|\n",
       "      A2KSQHHNJB9...|                     12.0|\n",
       "      A1C80B497LC...|                      1.0|\n",
       "      A32F4BIKTM1...|                      0.0|\n",
       "      AIRS7P0JHCT...|                     14.0|\n",
       "      AZYJG5MEQ7P...|                    -15.0|\n",
       "      A2B3Z2QHW3V...|                      9.0|\n",
       "      A2JPJHDE3B5...|                     17.0|\n",
       "      A1K4QIVLIL0...|                      0.0|\n",
       "      A2METOIMLRZ...|                      0.0|\n",
       "      A1VZLLDNLUR...|                      3.0|\n",
       "      AU4LLIAZ9PG...|                      5.0|\n",
       "      A2DDP69VU2T...|                     -5.0|\n",
       "      A103ZG6ASSR...|                     19.0|\n",
       "      AIXRJV8JOT7...|                     -5.0|\n",
       "+--------------------+-------------------------+\n",
       "only showing top 20 rows\n",
       "\n",
       "</div>"
      ]
     },
     "metadata": {},
     "output_type": "display_data"
    }
   ],
   "source": [
    "cd = df6.groupBy(\"userId\").mean().withColumnRenamed(\"userId\",\"cdId\")\n",
    "cd.show()"
   ]
  },
  {
   "cell_type": "code",
   "execution_count": 19,
   "metadata": {},
   "outputs": [
    {
     "data": {
      "text/html": [
       "<style scoped>\n",
       "  .ansiout {\n",
       "    display: block;\n",
       "    unicode-bidi: embed;\n",
       "    white-space: pre-wrap;\n",
       "    word-wrap: break-word;\n",
       "    word-break: break-all;\n",
       "    font-family: \"Source Code Pro\", \"Menlo\", monospace;;\n",
       "    font-size: 13px;\n",
       "    color: #555;\n",
       "    margin-left: 4px;\n",
       "    line-height: 19px;\n",
       "  }\n",
       "</style>\n",
       "<div class=\"ansiout\">+--------------------+--------------------+--------------------+--------------+-------------+--------------------+--------------------+--------------------+--------------------+--------------------+--------------------+--------------------+--------------------+----------+-------------------------+\n",
       "           productId|              userId|         profileName|   helpfulness| review_score|         review_time|      review_summary|                text|             didwork|               dummy|               clean|   sentiments_scores|sentiment_scores_sum| cleanhelp|avg(sentiment_scores_sum)|\n",
       "+--------------------+--------------------+--------------------+--------------+-------------+--------------------+--------------------+--------------------+--------------------+--------------------+--------------------+--------------------+--------------------+----------+-------------------------+\n",
       "      B002OHDRF2    |      A2ATWKOFJXR...|      B.  Merritt...|       2/6    |      2.0    |      1263859200    |      Been  There...|      Judgment  D...|[, , , , , , judg...|[judgment, day&lt;/a...|[judgment, day&lt;/a...|[0, 0, 0, 0, 0, 0...|                   3|0.33333334|                      3.0|\n",
       "      B002OHDRF2    |      A1W6I2VUOWR...|      Mohammad  S...|       2/6    |      5.0    |      1256256000    |      leave  it  ...|      this  is  a...|[, , , , , , this...|[this, is, a, gre...|[great, movie, co...|[3, 0, 0, 0, 0, 0...|                  10|0.33333334|                     10.0|\n",
       "      B002OHDRF2    |      A2Y2L2TRP2Q...|      Jennifer  L...|      4/10    |      5.0    |      1249344000    |      best  Termi...|    D    Saw  the...|[, , , , d, , , ,...|[d, saw, the, fil...|[saw, film, 4, ti...|     [0, 0, 0, 0, 0]|                   0|       0.4|                      0.0|\n",
       "      B002OHDRF2    |      AGC3LQMMYX1...|      Joseph  M. ...|      4/10    |      5.0    |      1243555200    |      this  is  a...|      this  movie...|[, , , , , , this...|[this, movie, is,...|[movie, best, eve...|[0, 3, 0, 0, 0, 0...|                   3|       0.4|                      3.0|\n",
       "      B002OHDRF2    |      A12Q0LLN5R2...|           MONTY    |       0/3    |      5.0    |      1276646400    |      TERMINATOR ...|      product  wa...|[, , , , , , prod...|[product, was, in...|[product, excelle...|[0, 3, 0, 0, 0, 0...|                   3|       0.0|                      3.0|\n",
       "      B002OHDRF2    |      A32F4BIKTM1...|      Shaun  Mast...|       0/3    |      5.0    |      1273190400    |      excellent.....|      Blu  Ray  i...|[, , , , , , blu,...|[blu, ray, is, th...|[blu, ray, way, w...|[0, 0, 0, 0, 0, 0...|                   0|       0.0|                      0.0|\n",
       "      B002OHDRF2    |      A2LP5T3EVFV...|      Teresa  L. ...|       0/3    |      5.0    |      1264032000    |           MOVIE    |      MY  FAMILY ...|[, , , , , , my, ...|[my, family, and,...|[family, loved, m...|[0, 3, 0, 0, 3, 0...|                   6|       0.0|                      6.0|\n",
       "      B002OHDRF2    |      A1HMNDO4IUF...|      Bloody  Dem...|       0/3    |      3.0    |      1261872000    |      Not  as  go...|      I  fell  as...|[, , , , , , i, ,...|[i, fell, asleep,...|[fell, asleep, ho...|[0, 0, 0, 0, 0, 0...|                   6|       0.0|                      6.0|\n",
       "      B002OHDRF2    |      A3FB8ANM6OB...|        robby  d    |       0/3    |      4.0    |      1259971200    |      directors  ...|      just  wante...|[, , , , , , just...|[just, wanted, to...|[wanted, let, eve...|[0, 0, 0, 0, 0, 0...|                  -1|       0.0|                     -1.0|\n",
       "      B002OHDRF2    |      A3KO1QOAMYH...|      Daniel  B. ...|      9/19    |      1.0    |      1258934400    |      Stick  with...|      The  Extend...|[, , , , , , the,...|[the, extended, c...|[extended, cut., ...| [0, 0, -1, 0, 0, 0]|                  -1|0.47368422|                     -1.0|\n",
       "      B002OHDRF2    |      A31CJMS9UX4...|      S.  Walker    |      5/12    |      1.0    |      1260144000    |       Horrible!    |      If  all  yo...|[, , , , , , if, ...|[if, all, you, ca...|[care, movie, one...|[2, 0, 0, 0, 0, 0...|                   4|0.41666666|                      4.0|\n",
       "      B002OHDRF2    |      AAUHB9T8KZH...|      Arnold  Sch...|       1/5    |      1.0    |      1334275200    |      Why  am  I ...|      This  is  n...|[, , , , , , this...|[this, is, not, a...|[acceptable., mov...|  [0, 0, 0, 0, 0, 0]|                   0|       0.2|                      0.0|\n",
       "      B002OHDRF2    |      A35O4GF6YAJ...|      Rodolfo  Sa...|       1/5    |      4.0    |      1274400000    |      Very  good....|      see  it  fi...|[, , , , , , see,...|[see, it, finishe...|[see, finished, m...|[0, 0, 0, 0, 0, 0...|                  13|       0.2|                     13.0|\n",
       "      B002OHDRF2    |      A26VYP814GZ...|      Joe  Schamb...|       1/5    |      2.0    |      1260230400    |      Terminator ...|      The  movie ...|[, , , , , , the,...|[the, movie, was,...|[movie, great, ha...|[0, 3, 0, 0, 0, 0...|                  -1|       0.2|                     -1.0|\n",
       "      B002OHDRF2    |      A2P2JXU9JEY...|      Marian  M. ...|       1/5    |      4.0    |      1259798400    |      You  better...|    Salvation    ...|[, , , , salvatio...|[salvation, is, a...|[salvation, good,...|[0, 3, 0, 0, 0, 0...|                   3|       0.2|                      3.0|\n",
       "      B002OHDRF2    |      A1E3F8WR57N...|           Veese    |       1/5    |      3.0    |      1259625600    |        OHHHH  GO...|      Did  I  men...|[, , , , , , did,...|[did, i, mention,...|[mention, mcg?, d...|[0, 0, 0, -1, 0, ...|                   0|       0.2|                      0.0|\n",
       "      B002OHDRF2    |      A2RYGFSQXPB...|           Niall    |       1/5    |      3.0    |      1259193600    |      James  Came...|      I  was  exp...|[, , , , , , i, ,...|[i, was, expectin...|[expecting, great...|[0, 3, 0, 0, 0, 0...|                  14|       0.2|                     14.0|\n",
       "      B002OHDRF2    |      AER15RIMV8E...|      Pumpkin  Ma...|       1/5    |      5.0    |      1256601600    |      An  Awesome...|      I  have  be...|[, , , , , , i, ,...|[i, have, been, w...|[waiting, 4th, te...|[0, 0, 0, 0, 0, 0...|                  19|       0.2|                     19.0|\n",
       "      B002OHDRF2    |      A38600ZDQ4Z...|       Etowahdoc    |       1/5    |      2.0    |      1255996800    |      A  complete...|      I  didn\\  t...|[, , , , , , i, ,...|[i, didn\\, t, nec...|[didn\\, necessari...|[0, 0, 0, 2, 0, 0...|                  -9|       0.2|                     -9.0|\n",
       "      B002OHDRF2    |      AGR5FHTWYDC...|      MBuff    Mb...|      6/14    |      1.0    |      1257292800    |      what  a  wa...|    salvation  wa...|[, , , , salvatio...|[salvation, was, ...|[salvation, perha...|[0, 0, 0, 2, 0, 0...|                   7|0.42857143|                      7.0|\n",
       "+--------------------+--------------------+--------------------+--------------+-------------+--------------------+--------------------+--------------------+--------------------+--------------------+--------------------+--------------------+--------------------+----------+-------------------------+\n",
       "only showing top 20 rows\n",
       "\n",
       "</div>"
      ]
     },
     "metadata": {},
     "output_type": "display_data"
    }
   ],
   "source": [
    "left_join = df5.join(cd, df6.userId == cd.cdId ,how='left').drop(\"cdId\")\n",
    "left_join.show()"
   ]
  },
  {
   "cell_type": "code",
   "execution_count": 20,
   "metadata": {},
   "outputs": [
    {
     "data": {
      "text/html": [
       "<style scoped>\n",
       "  .ansiout {\n",
       "    display: block;\n",
       "    unicode-bidi: embed;\n",
       "    white-space: pre-wrap;\n",
       "    word-wrap: break-word;\n",
       "    word-break: break-all;\n",
       "    font-family: \"Source Code Pro\", \"Menlo\", monospace;;\n",
       "    font-size: 13px;\n",
       "    color: #555;\n",
       "    margin-left: 4px;\n",
       "    line-height: 19px;\n",
       "  }\n",
       "</style>\n",
       "<div class=\"ansiout\"><span class=\"ansired\">Out[</span><span class=\"ansired\">189</span><span class=\"ansired\">]: </span>\n",
       "[Row(avg(sentiment_scores_sum)=3.0),\n",
       " Row(avg(sentiment_scores_sum)=10.0),\n",
       " Row(avg(sentiment_scores_sum)=0.0),\n",
       " Row(avg(sentiment_scores_sum)=3.0),\n",
       " Row(avg(sentiment_scores_sum)=3.0),\n",
       " Row(avg(sentiment_scores_sum)=0.0),\n",
       " Row(avg(sentiment_scores_sum)=6.0),\n",
       " Row(avg(sentiment_scores_sum)=6.0),\n",
       " Row(avg(sentiment_scores_sum)=-1.0),\n",
       " Row(avg(sentiment_scores_sum)=-1.0)]\n",
       "</div>"
      ]
     },
     "metadata": {},
     "output_type": "display_data"
    }
   ],
   "source": [
    "left_join.select(\"avg(sentiment_scores_sum)\").take(10)"
   ]
  },
  {
   "cell_type": "code",
   "execution_count": 21,
   "metadata": {},
   "outputs": [
    {
     "data": {
      "text/html": [
       "<style scoped>\n",
       "  .ansiout {\n",
       "    display: block;\n",
       "    unicode-bidi: embed;\n",
       "    white-space: pre-wrap;\n",
       "    word-wrap: break-word;\n",
       "    word-break: break-all;\n",
       "    font-family: \"Source Code Pro\", \"Menlo\", monospace;;\n",
       "    font-size: 13px;\n",
       "    color: #555;\n",
       "    margin-left: 4px;\n",
       "    line-height: 19px;\n",
       "  }\n",
       "</style>\n",
       "<div class=\"ansiout\"></div>"
      ]
     },
     "metadata": {},
     "output_type": "display_data"
    }
   ],
   "source": [
    "def spammer(sentiment_scores_sum):\n",
    "  if(sentiment_scores_sum > thresholdup):\n",
    "    return float(0)\n",
    "  elif(sentiment_scores_sum < thresholddown):\n",
    "    return float(0)\n",
    "  else:\n",
    "    return float(1)"
   ]
  },
  {
   "cell_type": "code",
   "execution_count": 22,
   "metadata": {},
   "outputs": [
    {
     "data": {
      "text/html": [
       "<style scoped>\n",
       "  .ansiout {\n",
       "    display: block;\n",
       "    unicode-bidi: embed;\n",
       "    white-space: pre-wrap;\n",
       "    word-wrap: break-word;\n",
       "    word-break: break-all;\n",
       "    font-family: \"Source Code Pro\", \"Menlo\", monospace;;\n",
       "    font-size: 13px;\n",
       "    color: #555;\n",
       "    margin-left: 4px;\n",
       "    line-height: 19px;\n",
       "  }\n",
       "</style>\n",
       "<div class=\"ansiout\">+--------------------+--------------------+--------------------+--------------+-------------+--------------------+--------------------+--------------------+--------------------+--------------------+--------------------+--------------------+--------------------+----------+-------------------------+-----+\n",
       "           productId|              userId|         profileName|   helpfulness| review_score|         review_time|      review_summary|                text|             didwork|               dummy|               clean|   sentiments_scores|sentiment_scores_sum| cleanhelp|avg(sentiment_scores_sum)|label|\n",
       "+--------------------+--------------------+--------------------+--------------+-------------+--------------------+--------------------+--------------------+--------------------+--------------------+--------------------+--------------------+--------------------+----------+-------------------------+-----+\n",
       "      B002OHDRF2    |      A2ATWKOFJXR...|      B.  Merritt...|       2/6    |      2.0    |      1263859200    |      Been  There...|      Judgment  D...|[, , , , , , judg...|[judgment, day&lt;/a...|[judgment, day&lt;/a...|[0, 0, 0, 0, 0, 0...|                   3|0.33333334|                      3.0|  1.0|\n",
       "      B002OHDRF2    |      A1W6I2VUOWR...|      Mohammad  S...|       2/6    |      5.0    |      1256256000    |      leave  it  ...|      this  is  a...|[, , , , , , this...|[this, is, a, gre...|[great, movie, co...|[3, 0, 0, 0, 0, 0...|                  10|0.33333334|                     10.0|  1.0|\n",
       "      B002OHDRF2    |      A2Y2L2TRP2Q...|      Jennifer  L...|      4/10    |      5.0    |      1249344000    |      best  Termi...|    D    Saw  the...|[, , , , d, , , ,...|[d, saw, the, fil...|[saw, film, 4, ti...|     [0, 0, 0, 0, 0]|                   0|       0.4|                      0.0|  0.0|\n",
       "      B002OHDRF2    |      AGC3LQMMYX1...|      Joseph  M. ...|      4/10    |      5.0    |      1243555200    |      this  is  a...|      this  movie...|[, , , , , , this...|[this, movie, is,...|[movie, best, eve...|[0, 3, 0, 0, 0, 0...|                   3|       0.4|                      3.0|  1.0|\n",
       "      B002OHDRF2    |      A12Q0LLN5R2...|           MONTY    |       0/3    |      5.0    |      1276646400    |      TERMINATOR ...|      product  wa...|[, , , , , , prod...|[product, was, in...|[product, excelle...|[0, 3, 0, 0, 0, 0...|                   3|       0.0|                      3.0|  1.0|\n",
       "      B002OHDRF2    |      A32F4BIKTM1...|      Shaun  Mast...|       0/3    |      5.0    |      1273190400    |      excellent.....|      Blu  Ray  i...|[, , , , , , blu,...|[blu, ray, is, th...|[blu, ray, way, w...|[0, 0, 0, 0, 0, 0...|                   0|       0.0|                      0.0|  0.0|\n",
       "      B002OHDRF2    |      A2LP5T3EVFV...|      Teresa  L. ...|       0/3    |      5.0    |      1264032000    |           MOVIE    |      MY  FAMILY ...|[, , , , , , my, ...|[my, family, and,...|[family, loved, m...|[0, 3, 0, 0, 3, 0...|                   6|       0.0|                      6.0|  1.0|\n",
       "      B002OHDRF2    |      A1HMNDO4IUF...|      Bloody  Dem...|       0/3    |      3.0    |      1261872000    |      Not  as  go...|      I  fell  as...|[, , , , , , i, ,...|[i, fell, asleep,...|[fell, asleep, ho...|[0, 0, 0, 0, 0, 0...|                   6|       0.0|                      6.0|  1.0|\n",
       "      B002OHDRF2    |      A3FB8ANM6OB...|        robby  d    |       0/3    |      4.0    |      1259971200    |      directors  ...|      just  wante...|[, , , , , , just...|[just, wanted, to...|[wanted, let, eve...|[0, 0, 0, 0, 0, 0...|                  -1|       0.0|                     -1.0|  0.0|\n",
       "      B002OHDRF2    |      A3KO1QOAMYH...|      Daniel  B. ...|      9/19    |      1.0    |      1258934400    |      Stick  with...|      The  Extend...|[, , , , , , the,...|[the, extended, c...|[extended, cut., ...| [0, 0, -1, 0, 0, 0]|                  -1|0.47368422|                     -1.0|  0.0|\n",
       "      B002OHDRF2    |      A31CJMS9UX4...|      S.  Walker    |      5/12    |      1.0    |      1260144000    |       Horrible!    |      If  all  yo...|[, , , , , , if, ...|[if, all, you, ca...|[care, movie, one...|[2, 0, 0, 0, 0, 0...|                   4|0.41666666|                      4.0|  1.0|\n",
       "      B002OHDRF2    |      AAUHB9T8KZH...|      Arnold  Sch...|       1/5    |      1.0    |      1334275200    |      Why  am  I ...|      This  is  n...|[, , , , , , this...|[this, is, not, a...|[acceptable., mov...|  [0, 0, 0, 0, 0, 0]|                   0|       0.2|                      0.0|  0.0|\n",
       "      B002OHDRF2    |      A35O4GF6YAJ...|      Rodolfo  Sa...|       1/5    |      4.0    |      1274400000    |      Very  good....|      see  it  fi...|[, , , , , , see,...|[see, it, finishe...|[see, finished, m...|[0, 0, 0, 0, 0, 0...|                  13|       0.2|                     13.0|  0.0|\n",
       "      B002OHDRF2    |      A26VYP814GZ...|      Joe  Schamb...|       1/5    |      2.0    |      1260230400    |      Terminator ...|      The  movie ...|[, , , , , , the,...|[the, movie, was,...|[movie, great, ha...|[0, 3, 0, 0, 0, 0...|                  -1|       0.2|                     -1.0|  0.0|\n",
       "      B002OHDRF2    |      A2P2JXU9JEY...|      Marian  M. ...|       1/5    |      4.0    |      1259798400    |      You  better...|    Salvation    ...|[, , , , salvatio...|[salvation, is, a...|[salvation, good,...|[0, 3, 0, 0, 0, 0...|                   3|       0.2|                      3.0|  1.0|\n",
       "      B002OHDRF2    |      A1E3F8WR57N...|           Veese    |       1/5    |      3.0    |      1259625600    |        OHHHH  GO...|      Did  I  men...|[, , , , , , did,...|[did, i, mention,...|[mention, mcg?, d...|[0, 0, 0, -1, 0, ...|                   0|       0.2|                      0.0|  0.0|\n",
       "      B002OHDRF2    |      A2RYGFSQXPB...|           Niall    |       1/5    |      3.0    |      1259193600    |      James  Came...|      I  was  exp...|[, , , , , , i, ,...|[i, was, expectin...|[expecting, great...|[0, 3, 0, 0, 0, 0...|                  14|       0.2|                     14.0|  0.0|\n",
       "      B002OHDRF2    |      AER15RIMV8E...|      Pumpkin  Ma...|       1/5    |      5.0    |      1256601600    |      An  Awesome...|      I  have  be...|[, , , , , , i, ,...|[i, have, been, w...|[waiting, 4th, te...|[0, 0, 0, 0, 0, 0...|                  19|       0.2|                     19.0|  0.0|\n",
       "      B002OHDRF2    |      A38600ZDQ4Z...|       Etowahdoc    |       1/5    |      2.0    |      1255996800    |      A  complete...|      I  didn\\  t...|[, , , , , , i, ,...|[i, didn\\, t, nec...|[didn\\, necessari...|[0, 0, 0, 2, 0, 0...|                  -9|       0.2|                     -9.0|  0.0|\n",
       "      B002OHDRF2    |      AGR5FHTWYDC...|      MBuff    Mb...|      6/14    |      1.0    |      1257292800    |      what  a  wa...|    salvation  wa...|[, , , , salvatio...|[salvation, was, ...|[salvation, perha...|[0, 0, 0, 2, 0, 0...|                   7|0.42857143|                      7.0|  1.0|\n",
       "+--------------------+--------------------+--------------------+--------------+-------------+--------------------+--------------------+--------------------+--------------------+--------------------+--------------------+--------------------+--------------------+----------+-------------------------+-----+\n",
       "only showing top 20 rows\n",
       "\n",
       "</div>"
      ]
     },
     "metadata": {},
     "output_type": "display_data"
    }
   ],
   "source": [
    "labeludf = udf(spammer, FloatType())\n",
    "df7 = left_join.withColumn(\"label\", labeludf(left_join['avg(sentiment_scores_sum)']))\n",
    "df7.show()"
   ]
  },
  {
   "cell_type": "code",
   "execution_count": 23,
   "metadata": {},
   "outputs": [
    {
     "data": {
      "text/html": [
       "<style scoped>\n",
       "  .ansiout {\n",
       "    display: block;\n",
       "    unicode-bidi: embed;\n",
       "    white-space: pre-wrap;\n",
       "    word-wrap: break-word;\n",
       "    word-break: break-all;\n",
       "    font-family: \"Source Code Pro\", \"Menlo\", monospace;;\n",
       "    font-size: 13px;\n",
       "    color: #555;\n",
       "    margin-left: 4px;\n",
       "    line-height: 19px;\n",
       "  }\n",
       "</style>\n",
       "<div class=\"ansiout\"></div>"
      ]
     },
     "metadata": {},
     "output_type": "display_data"
    }
   ],
   "source": [
    "import re\n",
    "def stgflt(strg):\n",
    "  stgtoflt = strg.replace(\" \",\"\")\n",
    "  return float(stgtoflt)"
   ]
  },
  {
   "cell_type": "code",
   "execution_count": 24,
   "metadata": {},
   "outputs": [
    {
     "data": {
      "text/html": [
       "<style scoped>\n",
       "  .ansiout {\n",
       "    display: block;\n",
       "    unicode-bidi: embed;\n",
       "    white-space: pre-wrap;\n",
       "    word-wrap: break-word;\n",
       "    word-break: break-all;\n",
       "    font-family: \"Source Code Pro\", \"Menlo\", monospace;;\n",
       "    font-size: 13px;\n",
       "    color: #555;\n",
       "    margin-left: 4px;\n",
       "    line-height: 19px;\n",
       "  }\n",
       "</style>\n",
       "<div class=\"ansiout\">+--------------------+--------------------+--------------------+--------------+-------------+--------------------+--------------------+--------------------+--------------------+--------------------+--------------------+--------------------+--------------------+----------+-------------------------+-----+-----------------+-----------+\n",
       "           productId|              userId|         profileName|   helpfulness| review_score|         review_time|      review_summary|                text|             didwork|               dummy|               clean|   sentiments_scores|sentiment_scores_sum| cleanhelp|avg(sentiment_scores_sum)|label|clean_reviewscore| clean_time|\n",
       "+--------------------+--------------------+--------------------+--------------+-------------+--------------------+--------------------+--------------------+--------------------+--------------------+--------------------+--------------------+--------------------+----------+-------------------------+-----+-----------------+-----------+\n",
       "      B002OHDRF2    |      A2ATWKOFJXR...|      B.  Merritt...|       2/6    |      2.0    |      1263859200    |      Been  There...|      Judgment  D...|[, , , , , , judg...|[judgment, day&lt;/a...|[judgment, day&lt;/a...|[0, 0, 0, 0, 0, 0...|                   3|0.33333334|                      3.0|  1.0|              2.0|1.2638592E9|\n",
       "      B002OHDRF2    |      A1W6I2VUOWR...|      Mohammad  S...|       2/6    |      5.0    |      1256256000    |      leave  it  ...|      this  is  a...|[, , , , , , this...|[this, is, a, gre...|[great, movie, co...|[3, 0, 0, 0, 0, 0...|                  10|0.33333334|                     10.0|  1.0|              5.0| 1.256256E9|\n",
       "      B002OHDRF2    |      A2Y2L2TRP2Q...|      Jennifer  L...|      4/10    |      5.0    |      1249344000    |      best  Termi...|    D    Saw  the...|[, , , , d, , , ,...|[d, saw, the, fil...|[saw, film, 4, ti...|     [0, 0, 0, 0, 0]|                   0|       0.4|                      0.0|  0.0|              5.0| 1.249344E9|\n",
       "      B002OHDRF2    |      AGC3LQMMYX1...|      Joseph  M. ...|      4/10    |      5.0    |      1243555200    |      this  is  a...|      this  movie...|[, , , , , , this...|[this, movie, is,...|[movie, best, eve...|[0, 3, 0, 0, 0, 0...|                   3|       0.4|                      3.0|  1.0|              5.0|1.2435552E9|\n",
       "      B002OHDRF2    |      A12Q0LLN5R2...|           MONTY    |       0/3    |      5.0    |      1276646400    |      TERMINATOR ...|      product  wa...|[, , , , , , prod...|[product, was, in...|[product, excelle...|[0, 3, 0, 0, 0, 0...|                   3|       0.0|                      3.0|  1.0|              5.0|1.2766464E9|\n",
       "      B002OHDRF2    |      A32F4BIKTM1...|      Shaun  Mast...|       0/3    |      5.0    |      1273190400    |      excellent.....|      Blu  Ray  i...|[, , , , , , blu,...|[blu, ray, is, th...|[blu, ray, way, w...|[0, 0, 0, 0, 0, 0...|                   0|       0.0|                      0.0|  0.0|              5.0|1.2731904E9|\n",
       "      B002OHDRF2    |      A2LP5T3EVFV...|      Teresa  L. ...|       0/3    |      5.0    |      1264032000    |           MOVIE    |      MY  FAMILY ...|[, , , , , , my, ...|[my, family, and,...|[family, loved, m...|[0, 3, 0, 0, 3, 0...|                   6|       0.0|                      6.0|  1.0|              5.0| 1.264032E9|\n",
       "      B002OHDRF2    |      A1HMNDO4IUF...|      Bloody  Dem...|       0/3    |      3.0    |      1261872000    |      Not  as  go...|      I  fell  as...|[, , , , , , i, ,...|[i, fell, asleep,...|[fell, asleep, ho...|[0, 0, 0, 0, 0, 0...|                   6|       0.0|                      6.0|  1.0|              3.0| 1.261872E9|\n",
       "      B002OHDRF2    |      A3FB8ANM6OB...|        robby  d    |       0/3    |      4.0    |      1259971200    |      directors  ...|      just  wante...|[, , , , , , just...|[just, wanted, to...|[wanted, let, eve...|[0, 0, 0, 0, 0, 0...|                  -1|       0.0|                     -1.0|  0.0|              4.0|1.2599712E9|\n",
       "      B002OHDRF2    |      A3KO1QOAMYH...|      Daniel  B. ...|      9/19    |      1.0    |      1258934400    |      Stick  with...|      The  Extend...|[, , , , , , the,...|[the, extended, c...|[extended, cut., ...| [0, 0, -1, 0, 0, 0]|                  -1|0.47368422|                     -1.0|  0.0|              1.0|1.2589344E9|\n",
       "      B002OHDRF2    |      A31CJMS9UX4...|      S.  Walker    |      5/12    |      1.0    |      1260144000    |       Horrible!    |      If  all  yo...|[, , , , , , if, ...|[if, all, you, ca...|[care, movie, one...|[2, 0, 0, 0, 0, 0...|                   4|0.41666666|                      4.0|  1.0|              1.0| 1.260144E9|\n",
       "      B002OHDRF2    |      AAUHB9T8KZH...|      Arnold  Sch...|       1/5    |      1.0    |      1334275200    |      Why  am  I ...|      This  is  n...|[, , , , , , this...|[this, is, not, a...|[acceptable., mov...|  [0, 0, 0, 0, 0, 0]|                   0|       0.2|                      0.0|  0.0|              1.0|1.3342752E9|\n",
       "      B002OHDRF2    |      A35O4GF6YAJ...|      Rodolfo  Sa...|       1/5    |      4.0    |      1274400000    |      Very  good....|      see  it  fi...|[, , , , , , see,...|[see, it, finishe...|[see, finished, m...|[0, 0, 0, 0, 0, 0...|                  13|       0.2|                     13.0|  0.0|              4.0|   1.2744E9|\n",
       "      B002OHDRF2    |      A26VYP814GZ...|      Joe  Schamb...|       1/5    |      2.0    |      1260230400    |      Terminator ...|      The  movie ...|[, , , , , , the,...|[the, movie, was,...|[movie, great, ha...|[0, 3, 0, 0, 0, 0...|                  -1|       0.2|                     -1.0|  0.0|              2.0|1.2602304E9|\n",
       "      B002OHDRF2    |      A2P2JXU9JEY...|      Marian  M. ...|       1/5    |      4.0    |      1259798400    |      You  better...|    Salvation    ...|[, , , , salvatio...|[salvation, is, a...|[salvation, good,...|[0, 3, 0, 0, 0, 0...|                   3|       0.2|                      3.0|  1.0|              4.0|1.2597984E9|\n",
       "      B002OHDRF2    |      A1E3F8WR57N...|           Veese    |       1/5    |      3.0    |      1259625600    |        OHHHH  GO...|      Did  I  men...|[, , , , , , did,...|[did, i, mention,...|[mention, mcg?, d...|[0, 0, 0, -1, 0, ...|                   0|       0.2|                      0.0|  0.0|              3.0|1.2596256E9|\n",
       "      B002OHDRF2    |      A2RYGFSQXPB...|           Niall    |       1/5    |      3.0    |      1259193600    |      James  Came...|      I  was  exp...|[, , , , , , i, ,...|[i, was, expectin...|[expecting, great...|[0, 3, 0, 0, 0, 0...|                  14|       0.2|                     14.0|  0.0|              3.0|1.2591936E9|\n",
       "      B002OHDRF2    |      AER15RIMV8E...|      Pumpkin  Ma...|       1/5    |      5.0    |      1256601600    |      An  Awesome...|      I  have  be...|[, , , , , , i, ,...|[i, have, been, w...|[waiting, 4th, te...|[0, 0, 0, 0, 0, 0...|                  19|       0.2|                     19.0|  0.0|              5.0|1.2566016E9|\n",
       "      B002OHDRF2    |      A38600ZDQ4Z...|       Etowahdoc    |       1/5    |      2.0    |      1255996800    |      A  complete...|      I  didn\\  t...|[, , , , , , i, ,...|[i, didn\\, t, nec...|[didn\\, necessari...|[0, 0, 0, 2, 0, 0...|                  -9|       0.2|                     -9.0|  0.0|              2.0|1.2559968E9|\n",
       "      B002OHDRF2    |      AGR5FHTWYDC...|      MBuff    Mb...|      6/14    |      1.0    |      1257292800    |      what  a  wa...|    salvation  wa...|[, , , , salvatio...|[salvation, was, ...|[salvation, perha...|[0, 0, 0, 2, 0, 0...|                   7|0.42857143|                      7.0|  1.0|              1.0|1.2572928E9|\n",
       "+--------------------+--------------------+--------------------+--------------+-------------+--------------------+--------------------+--------------------+--------------------+--------------------+--------------------+--------------------+--------------------+----------+-------------------------+-----+-----------------+-----------+\n",
       "only showing top 20 rows\n",
       "\n",
       "</div>"
      ]
     },
     "metadata": {},
     "output_type": "display_data"
    }
   ],
   "source": [
    "stgfltudf = udf(stgflt, FloatType())\n",
    "df7 = df7.withColumn(\"clean_reviewscore\", stgfltudf(df7['review_score']))\n",
    "df7 = df7.withColumn(\"clean_time\", stgfltudf(df7['review_time']))\n",
    "df7.show()"
   ]
  },
  {
   "cell_type": "code",
   "execution_count": 25,
   "metadata": {},
   "outputs": [
    {
     "data": {
      "text/html": [
       "<style scoped>\n",
       "  .ansiout {\n",
       "    display: block;\n",
       "    unicode-bidi: embed;\n",
       "    white-space: pre-wrap;\n",
       "    word-wrap: break-word;\n",
       "    word-break: break-all;\n",
       "    font-family: \"Source Code Pro\", \"Menlo\", monospace;;\n",
       "    font-size: 13px;\n",
       "    color: #555;\n",
       "    margin-left: 4px;\n",
       "    line-height: 19px;\n",
       "  }\n",
       "</style>\n",
       "<div class=\"ansiout\"></div>"
      ]
     },
     "metadata": {},
     "output_type": "display_data"
    }
   ],
   "source": [
    "df8 = df7.select(\"label\").groupby(\"label\")"
   ]
  },
  {
   "cell_type": "code",
   "execution_count": 26,
   "metadata": {},
   "outputs": [
    {
     "data": {
      "text/html": [
       "<style scoped>\n",
       "  .ansiout {\n",
       "    display: block;\n",
       "    unicode-bidi: embed;\n",
       "    white-space: pre-wrap;\n",
       "    word-wrap: break-word;\n",
       "    word-break: break-all;\n",
       "    font-family: \"Source Code Pro\", \"Menlo\", monospace;;\n",
       "    font-size: 13px;\n",
       "    color: #555;\n",
       "    margin-left: 4px;\n",
       "    line-height: 19px;\n",
       "  }\n",
       "</style>\n",
       "<div class=\"ansiout\">+-----+-----+\n",
       "label|count|\n",
       "+-----+-----+\n",
       "  1.0|   97|\n",
       "  0.0|  104|\n",
       "+-----+-----+\n",
       "\n",
       "</div>"
      ]
     },
     "metadata": {},
     "output_type": "display_data"
    }
   ],
   "source": [
    "df8.count().show()"
   ]
  },
  {
   "cell_type": "code",
   "execution_count": 27,
   "metadata": {},
   "outputs": [
    {
     "data": {
      "text/html": [
       "<style scoped>\n",
       "  .ansiout {\n",
       "    display: block;\n",
       "    unicode-bidi: embed;\n",
       "    white-space: pre-wrap;\n",
       "    word-wrap: break-word;\n",
       "    word-break: break-all;\n",
       "    font-family: \"Source Code Pro\", \"Menlo\", monospace;;\n",
       "    font-size: 13px;\n",
       "    color: #555;\n",
       "    margin-left: 4px;\n",
       "    line-height: 19px;\n",
       "  }\n",
       "</style>\n",
       "<div class=\"ansiout\">+--------------------+--------------------+--------------------+----------+-------------------------+-----+-----------------+-----------+\n",
       "                text|               clean|sentiment_scores_sum| cleanhelp|avg(sentiment_scores_sum)|label|clean_reviewscore| clean_time|\n",
       "+--------------------+--------------------+--------------------+----------+-------------------------+-----+-----------------+-----------+\n",
       "      Judgment  D...|[judgment, day&lt;/a...|                   3|0.33333334|                      3.0|  1.0|              2.0|1.2638592E9|\n",
       "      this  is  a...|[great, movie, co...|                  10|0.33333334|                     10.0|  1.0|              5.0| 1.256256E9|\n",
       "    D    Saw  the...|[saw, film, 4, ti...|                   0|       0.4|                      0.0|  0.0|              5.0| 1.249344E9|\n",
       "      this  movie...|[movie, best, eve...|                   3|       0.4|                      3.0|  1.0|              5.0|1.2435552E9|\n",
       "      product  wa...|[product, excelle...|                   3|       0.0|                      3.0|  1.0|              5.0|1.2766464E9|\n",
       "      Blu  Ray  i...|[blu, ray, way, w...|                   0|       0.0|                      0.0|  0.0|              5.0|1.2731904E9|\n",
       "      MY  FAMILY ...|[family, loved, m...|                   6|       0.0|                      6.0|  1.0|              5.0| 1.264032E9|\n",
       "      I  fell  as...|[fell, asleep, ho...|                   6|       0.0|                      6.0|  1.0|              3.0| 1.261872E9|\n",
       "      just  wante...|[wanted, let, eve...|                  -1|       0.0|                     -1.0|  0.0|              4.0|1.2599712E9|\n",
       "      The  Extend...|[extended, cut., ...|                  -1|0.47368422|                     -1.0|  0.0|              1.0|1.2589344E9|\n",
       "      If  all  yo...|[care, movie, one...|                   4|0.41666666|                      4.0|  1.0|              1.0| 1.260144E9|\n",
       "      This  is  n...|[acceptable., mov...|                   0|       0.2|                      0.0|  0.0|              1.0|1.3342752E9|\n",
       "      see  it  fi...|[see, finished, m...|                  13|       0.2|                     13.0|  0.0|              4.0|   1.2744E9|\n",
       "      The  movie ...|[movie, great, ha...|                  -1|       0.2|                     -1.0|  0.0|              2.0|1.2602304E9|\n",
       "    Salvation    ...|[salvation, good,...|                   3|       0.2|                      3.0|  1.0|              4.0|1.2597984E9|\n",
       "      Did  I  men...|[mention, mcg?, d...|                   0|       0.2|                      0.0|  0.0|              3.0|1.2596256E9|\n",
       "      I  was  exp...|[expecting, great...|                  14|       0.2|                     14.0|  0.0|              3.0|1.2591936E9|\n",
       "      I  have  be...|[waiting, 4th, te...|                  19|       0.2|                     19.0|  0.0|              5.0|1.2566016E9|\n",
       "      I  didn\\  t...|[didn\\, necessari...|                  -9|       0.2|                     -9.0|  0.0|              2.0|1.2559968E9|\n",
       "    salvation  wa...|[salvation, perha...|                   7|0.42857143|                      7.0|  1.0|              1.0|1.2572928E9|\n",
       "+--------------------+--------------------+--------------------+----------+-------------------------+-----+-----------------+-----------+\n",
       "only showing top 20 rows\n",
       "\n",
       "</div>"
      ]
     },
     "metadata": {},
     "output_type": "display_data"
    }
   ],
   "source": [
    "finaldf = df7.drop(\"productId\",\"userId\",\"profileName\",\"helpfulness\",\"review_summary\",\"didwork\",\"dummy\",\"sentiments_scores\",\"review_score\",\"review_time\")\n",
    "finaldf.show()"
   ]
  },
  {
   "cell_type": "code",
   "execution_count": 28,
   "metadata": {},
   "outputs": [
    {
     "data": {
      "text/html": [
       "<style scoped>\n",
       "  .ansiout {\n",
       "    display: block;\n",
       "    unicode-bidi: embed;\n",
       "    white-space: pre-wrap;\n",
       "    word-wrap: break-word;\n",
       "    word-break: break-all;\n",
       "    font-family: \"Source Code Pro\", \"Menlo\", monospace;;\n",
       "    font-size: 13px;\n",
       "    color: #555;\n",
       "    margin-left: 4px;\n",
       "    line-height: 19px;\n",
       "  }\n",
       "</style>\n",
       "<div class=\"ansiout\"></div>"
      ]
     },
     "metadata": {},
     "output_type": "display_data"
    }
   ],
   "source": [
    "trainingData, testData = finaldf.randomSplit([0.8, 0.2])\n"
   ]
  },
  {
   "cell_type": "code",
   "execution_count": 29,
   "metadata": {},
   "outputs": [
    {
     "data": {
      "text/html": [
       "<style scoped>\n",
       "  .ansiout {\n",
       "    display: block;\n",
       "    unicode-bidi: embed;\n",
       "    white-space: pre-wrap;\n",
       "    word-wrap: break-word;\n",
       "    word-break: break-all;\n",
       "    font-family: \"Source Code Pro\", \"Menlo\", monospace;;\n",
       "    font-size: 13px;\n",
       "    color: #555;\n",
       "    margin-left: 4px;\n",
       "    line-height: 19px;\n",
       "  }\n",
       "</style>\n",
       "<div class=\"ansiout\"><span class=\"ansired\">Out[</span><span class=\"ansired\">198</span><span class=\"ansired\">]: </span>4.4324324324324325\n",
       "</div>"
      ]
     },
     "metadata": {},
     "output_type": "display_data"
    }
   ],
   "source": [
    "trainingData.count()/testData.count()"
   ]
  },
  {
   "cell_type": "code",
   "execution_count": 30,
   "metadata": {},
   "outputs": [
    {
     "data": {
      "text/html": [
       "<style scoped>\n",
       "  .ansiout {\n",
       "    display: block;\n",
       "    unicode-bidi: embed;\n",
       "    white-space: pre-wrap;\n",
       "    word-wrap: break-word;\n",
       "    word-break: break-all;\n",
       "    font-family: \"Source Code Pro\", \"Menlo\", monospace;;\n",
       "    font-size: 13px;\n",
       "    color: #555;\n",
       "    margin-left: 4px;\n",
       "    line-height: 19px;\n",
       "  }\n",
       "</style>\n",
       "<div class=\"ansiout\">+--------------------+--------------------+--------------------+----------+-------------------------+-----+-----------------+-----------+--------------------+\n",
       "                text|               clean|sentiment_scores_sum| cleanhelp|avg(sentiment_scores_sum)|label|clean_reviewscore| clean_time|            features|\n",
       "+--------------------+--------------------+--------------------+----------+-------------------------+-----+-----------------+-----------+--------------------+\n",
       "        Adventure...|[adventures, forb...|                  -2|0.63414633|                     -2.0|  0.0|              2.0|1.0590048E9|   (375,[144],[1.0])|\n",
       "        Aw  shuck...|[aw, shucks, well...|                   2|       0.8|                      2.0|  1.0|              2.0|1.1541312E9|(375,[1,8,14,15,3...|\n",
       "        We\\  re  ...|[we\\, gonna, need...|                   5|       0.6|                      5.0|  1.0|              2.0|1.3489632E9|(375,[0,3,5,6,8,1...|\n",
       "      (**Contains...|[(**contains, min...|                  21|       0.7|                     21.0|  0.0|              5.0|1.2593664E9|(375,[0,1,4,5,9,1...|\n",
       "      -  The  spe...|[-, special, effe...|                   0|0.42105263|                      0.0|  0.0|              1.0| 1.257552E9|(375,[1,2,20,38,3...|\n",
       "      ...watching...|[...watching, wal...|                   4|       0.0|                      4.0|  1.0|              4.0| 1.251936E9|(375,[1,3,6,9,25,...|\n",
       "      3  stars  b...|[3, stars, like, ...|                   1| 0.6666667|                      1.0|  1.0|              3.0| 1.264464E9|(375,[0,4,15,28,3...|\n",
       "      After  seei...|[seeing, many, re...|                   6| 0.6666667|                      6.0|  1.0|              5.0| 1.260576E9|(375,[37,52,198,2...|\n",
       "      After  watc...|[watching, ask, r...|                   2|       0.0|                      2.0|  1.0|              3.0|1.2456288E9|(375,[8,85,90,166...|\n",
       "      All  these ...|[glowing, reviews...|                 -15|     0.325|                    -15.0|  0.0|              1.0|1.2574656E9|(375,[0,2,3,4,5,7...|\n",
       "      As  most  f...|[film, adaptation...|                   6|       0.0|                      6.0|  1.0|              4.0|1.2081312E9|(375,[0,1,3,7,15,...|\n",
       "      Be  detaile...|[detailed, specif...|                   0|       0.0|                      0.0|  0.0|              5.0|1.3137984E9|(375,[9,47,115],[...|\n",
       "      Behind-the-...|[behind-the-scene...|                   4| 0.6666667|                      4.0|  1.0|              3.0|1.0988352E9|(375,[0,1,7,10,17...|\n",
       "      Better  tha...|[better, rise, ma...|                   4|       1.0|                      4.0|  1.0|              4.0|1.2617856E9|(375,[0,4,41,70,7...|\n",
       "      Blu  Ray  i...|[blu, ray, way, w...|                   0|       0.0|                      0.0|  0.0|              5.0|1.2731904E9|(375,[36,44,369],...|\n",
       "      Bought  thi...|[bought, movie, c...|                   7|       0.0|                      7.0|  1.0|              1.0|1.2636864E9|(375,[0,7,183,246...|\n",
       "      Boy  I  was...|[boy, looking, fo...|                   3|       0.3|                      3.0|  1.0|              1.0| 1.260144E9|(375,[2,8,11,19,2...|\n",
       "               C    |                 [c]|                   0|       1.0|                      0.0|  0.0|              3.0|1.3074912E9|         (375,[],[])|\n",
       "      Communion  ...|[communion, (spec...|                   3|       0.0|                      3.0|  1.0|              3.0|1.2403584E9|(375,[3,15,25,32,...|\n",
       "      Compradores...|[compradores, bra...|                   0|       0.0|                      0.0|  0.0|              1.0| 1.266624E9|   (375,[259],[1.0])|\n",
       "+--------------------+--------------------+--------------------+----------+-------------------------+-----+-----------------+-----------+--------------------+\n",
       "only showing top 20 rows\n",
       "\n",
       "</div>"
      ]
     },
     "metadata": {},
     "output_type": "display_data"
    }
   ],
   "source": [
    "from pyspark.ml.feature import CountVectorizer\n",
    "cv = CountVectorizer(inputCol=\"clean\", outputCol=\"features\",vocabSize=10000, minDF=5)\n",
    "model = cv.fit(trainingData)\n",
    "result = model.transform(trainingData)\n",
    "result.show()"
   ]
  },
  {
   "cell_type": "code",
   "execution_count": 31,
   "metadata": {},
   "outputs": [
    {
     "data": {
      "text/html": [
       "<style scoped>\n",
       "  .ansiout {\n",
       "    display: block;\n",
       "    unicode-bidi: embed;\n",
       "    white-space: pre-wrap;\n",
       "    word-wrap: break-word;\n",
       "    word-break: break-all;\n",
       "    font-family: \"Source Code Pro\", \"Menlo\", monospace;;\n",
       "    font-size: 13px;\n",
       "    color: #555;\n",
       "    margin-left: 4px;\n",
       "    line-height: 19px;\n",
       "  }\n",
       "</style>\n",
       "<div class=\"ansiout\">+-----+-----+\n",
       "label|count|\n",
       "+-----+-----+\n",
       "  1.0|   80|\n",
       "  0.0|   84|\n",
       "+-----+-----+\n",
       "\n",
       "</div>"
      ]
     },
     "metadata": {},
     "output_type": "display_data"
    }
   ],
   "source": [
    "result.groupby(\"label\").count().show()"
   ]
  },
  {
   "cell_type": "code",
   "execution_count": 32,
   "metadata": {},
   "outputs": [
    {
     "data": {
      "text/html": [
       "<style scoped>\n",
       "  .ansiout {\n",
       "    display: block;\n",
       "    unicode-bidi: embed;\n",
       "    white-space: pre-wrap;\n",
       "    word-wrap: break-word;\n",
       "    word-break: break-all;\n",
       "    font-family: \"Source Code Pro\", \"Menlo\", monospace;;\n",
       "    font-size: 13px;\n",
       "    color: #555;\n",
       "    margin-left: 4px;\n",
       "    line-height: 19px;\n",
       "  }\n",
       "</style>\n",
       "<div class=\"ansiout\"></div>"
      ]
     },
     "metadata": {},
     "output_type": "display_data"
    }
   ],
   "source": [
    "from pyspark.ml.classification import LogisticRegression"
   ]
  },
  {
   "cell_type": "code",
   "execution_count": 33,
   "metadata": {},
   "outputs": [
    {
     "data": {
      "text/html": [
       "<style scoped>\n",
       "  .ansiout {\n",
       "    display: block;\n",
       "    unicode-bidi: embed;\n",
       "    white-space: pre-wrap;\n",
       "    word-wrap: break-word;\n",
       "    word-break: break-all;\n",
       "    font-family: \"Source Code Pro\", \"Menlo\", monospace;;\n",
       "    font-size: 13px;\n",
       "    color: #555;\n",
       "    margin-left: 4px;\n",
       "    line-height: 19px;\n",
       "  }\n",
       "</style>\n",
       "<div class=\"ansiout\"></div>"
      ]
     },
     "metadata": {},
     "output_type": "display_data"
    }
   ],
   "source": [
    "lr = LogisticRegression()\n",
    "lrModel = lr.fit(result.select(\"features\",\"clean_reviewscore\",\"clean_time\",\"label\"))"
   ]
  },
  {
   "cell_type": "code",
   "execution_count": 34,
   "metadata": {},
   "outputs": [
    {
     "data": {
      "text/html": [
       "<style scoped>\n",
       "  .ansiout {\n",
       "    display: block;\n",
       "    unicode-bidi: embed;\n",
       "    white-space: pre-wrap;\n",
       "    word-wrap: break-word;\n",
       "    word-break: break-all;\n",
       "    font-family: \"Source Code Pro\", \"Menlo\", monospace;;\n",
       "    font-size: 13px;\n",
       "    color: #555;\n",
       "    margin-left: 4px;\n",
       "    line-height: 19px;\n",
       "  }\n",
       "</style>\n",
       "<div class=\"ansiout\"></div>"
      ]
     },
     "metadata": {},
     "output_type": "display_data"
    }
   ],
   "source": [
    "test = model.transform(testData)"
   ]
  },
  {
   "cell_type": "code",
   "execution_count": 35,
   "metadata": {},
   "outputs": [
    {
     "data": {
      "text/html": [
       "<style scoped>\n",
       "  .ansiout {\n",
       "    display: block;\n",
       "    unicode-bidi: embed;\n",
       "    white-space: pre-wrap;\n",
       "    word-wrap: break-word;\n",
       "    word-break: break-all;\n",
       "    font-family: \"Source Code Pro\", \"Menlo\", monospace;;\n",
       "    font-size: 13px;\n",
       "    color: #555;\n",
       "    margin-left: 4px;\n",
       "    line-height: 19px;\n",
       "  }\n",
       "</style>\n",
       "<div class=\"ansiout\">+--------------------+--------------------+--------------------+---------+-------------------------+-----+-----------------+-----------+--------------------+\n",
       "                text|               clean|sentiment_scores_sum|cleanhelp|avg(sentiment_scores_sum)|label|clean_reviewscore| clean_time|            features|\n",
       "+--------------------+--------------------+--------------------+---------+-------------------------+-----+-----------------+-----------+--------------------+\n",
       "        Uh  huh.....|        [uh, huh...]|                   0|      1.0|                      0.0|  0.0|              3.0| 1.324512E9|         (375,[],[])|\n",
       "        if  you  ...|[want, full, mini...|                   1|      1.0|                      1.0|  1.0|              1.0|1.2278304E9|(375,[118,216],[1...|\n",
       "      #107  in  D...|[#107, dvd, (see,...|                   0|0.3888889|                      0.0|  0.0|              1.0|1.2594528E9|   (375,[129],[1.0])|\n",
       "      Already  ha...|[already, dvd, mo...|                   9|      1.0|                      9.0|  1.0|              5.0|1.3416192E9|(375,[0,1,43,129,...|\n",
       "      Beethoven  ...|[beethoven, symph...|                   9|      1.0|                      9.0|  1.0|              5.0|  1.31328E9|(375,[1,5,10,41,4...|\n",
       "      Great  char...|[great, character...|                   9|      1.0|                      9.0|  1.0|              1.0|1.3488768E9|(375,[0,1,3,5,6,7...|\n",
       "      Hello  peop...|[hello, people&lt;br...|                   0|      0.2|                      0.0|  0.0|              1.0|1.2603168E9|(375,[0,43,129],[...|\n",
       "      I  WAS  REA...|[really, upset, l...|                  -1|0.2857143|                     -1.0|  0.0|              3.0|1.2597984E9|(375,[0,1,2,4,8,1...|\n",
       "      I  fell  as...|[fell, asleep, ho...|                   6|      0.0|                      6.0|  1.0|              3.0| 1.261872E9|(375,[0,2,6,7,37,...|\n",
       "      I  found  m...|[found, watching,...|                   7|      0.2|                      7.0|  1.0|              2.0|  1.24848E9|(375,[0,2,11,13,1...|\n",
       "      I  had  act...|[actually, watche...|                  -3|      0.0|                     -3.0|  0.0|              2.0|1.3468896E9|(375,[20,32,56,76...|\n",
       "      I  like  th...|[like, kind, movi...|                   0|0.6666667|                      0.0|  0.0|              2.0|1.3496544E9|(375,[4,5,21,27,3...|\n",
       "      I  remember...|[remembered, pret...|                  13|      1.0|                     13.0|  0.0|              3.0|1.2861504E9|(375,[3,6,9,21,28...|\n",
       "      I  thorough...|[thoroughly, enjo...|                  17|      0.0|                     17.0|  0.0|              4.0|  9.79344E8|(375,[6,7,20,36,5...|\n",
       "      I  thought ...|[thought, christi...|                   2|      1.0|                      2.0|  1.0|              4.0|1.2866688E9|(375,[1,4,11,13,1...|\n",
       "      I  was  a  ...|[bit, leery, entr...|                  17|      1.0|                     17.0|  0.0|              4.0|1.2600576E9|(375,[2,3,6,8,10,...|\n",
       "      I  was  exp...|[expecting, great...|                  14|      0.2|                     14.0|  0.0|              3.0|1.2591936E9|(375,[0,1,2,5,7,8...|\n",
       "      I  went  in...|[went, hesitation...|                  17|    0.875|                     17.0|  0.0|              3.0|1.0932192E9|(375,[0,5,7,9,14,...|\n",
       "      If  you  li...|[like, terminator...|                   9|      1.0|                      9.0|  1.0|              5.0|1.2629088E9|(375,[0,2,4,5,6,1...|\n",
       "      It  is  wha...|[would, expect, g...|                   5|      0.0|                      5.0|  1.0|              5.0|1.3468896E9|(375,[6,9,44,292]...|\n",
       "+--------------------+--------------------+--------------------+---------+-------------------------+-----+-----------------+-----------+--------------------+\n",
       "only showing top 20 rows\n",
       "\n",
       "</div>"
      ]
     },
     "metadata": {},
     "output_type": "display_data"
    }
   ],
   "source": [
    "test.show()"
   ]
  },
  {
   "cell_type": "code",
   "execution_count": 36,
   "metadata": {},
   "outputs": [
    {
     "data": {
      "text/html": [
       "<style scoped>\n",
       "  .ansiout {\n",
       "    display: block;\n",
       "    unicode-bidi: embed;\n",
       "    white-space: pre-wrap;\n",
       "    word-wrap: break-word;\n",
       "    word-break: break-all;\n",
       "    font-family: \"Source Code Pro\", \"Menlo\", monospace;;\n",
       "    font-size: 13px;\n",
       "    color: #555;\n",
       "    margin-left: 4px;\n",
       "    line-height: 19px;\n",
       "  }\n",
       "</style>\n",
       "<div class=\"ansiout\">+-----+-----+\n",
       "label|count|\n",
       "+-----+-----+\n",
       "  1.0|   80|\n",
       "  0.0|   84|\n",
       "+-----+-----+\n",
       "\n",
       "</div>"
      ]
     },
     "metadata": {},
     "output_type": "display_data"
    }
   ],
   "source": [
    "result.groupby(\"label\").count().show()"
   ]
  },
  {
   "cell_type": "code",
   "execution_count": 37,
   "metadata": {},
   "outputs": [
    {
     "data": {
      "text/html": [
       "<style scoped>\n",
       "  .ansiout {\n",
       "    display: block;\n",
       "    unicode-bidi: embed;\n",
       "    white-space: pre-wrap;\n",
       "    word-wrap: break-word;\n",
       "    word-break: break-all;\n",
       "    font-family: \"Source Code Pro\", \"Menlo\", monospace;;\n",
       "    font-size: 13px;\n",
       "    color: #555;\n",
       "    margin-left: 4px;\n",
       "    line-height: 19px;\n",
       "  }\n",
       "</style>\n",
       "<div class=\"ansiout\">+-----+-----+\n",
       "label|count|\n",
       "+-----+-----+\n",
       "  1.0|   17|\n",
       "  0.0|   20|\n",
       "+-----+-----+\n",
       "\n",
       "</div>"
      ]
     },
     "metadata": {},
     "output_type": "display_data"
    }
   ],
   "source": [
    "test.groupby(\"label\").count().show()"
   ]
  },
  {
   "cell_type": "code",
   "execution_count": 38,
   "metadata": {},
   "outputs": [
    {
     "data": {
      "text/html": [
       "<style scoped>\n",
       "  .ansiout {\n",
       "    display: block;\n",
       "    unicode-bidi: embed;\n",
       "    white-space: pre-wrap;\n",
       "    word-wrap: break-word;\n",
       "    word-break: break-all;\n",
       "    font-family: \"Source Code Pro\", \"Menlo\", monospace;;\n",
       "    font-size: 13px;\n",
       "    color: #555;\n",
       "    margin-left: 4px;\n",
       "    line-height: 19px;\n",
       "  }\n",
       "</style>\n",
       "<div class=\"ansiout\"></div>"
      ]
     },
     "metadata": {},
     "output_type": "display_data"
    }
   ],
   "source": [
    "predictions = lrModel.transform(test.select(\"features\",\"clean_reviewscore\",\"clean_time\",\"label\"))"
   ]
  },
  {
   "cell_type": "code",
   "execution_count": 39,
   "metadata": {},
   "outputs": [
    {
     "data": {
      "text/html": [
       "<style scoped>\n",
       "  .ansiout {\n",
       "    display: block;\n",
       "    unicode-bidi: embed;\n",
       "    white-space: pre-wrap;\n",
       "    word-wrap: break-word;\n",
       "    word-break: break-all;\n",
       "    font-family: \"Source Code Pro\", \"Menlo\", monospace;;\n",
       "    font-size: 13px;\n",
       "    color: #555;\n",
       "    margin-left: 4px;\n",
       "    line-height: 19px;\n",
       "  }\n",
       "</style>\n",
       "<div class=\"ansiout\">+--------------------+-----------------+-----------+-----+--------------------+--------------------+----------+\n",
       "            features|clean_reviewscore| clean_time|label|       rawPrediction|         probability|prediction|\n",
       "+--------------------+-----------------+-----------+-----+--------------------+--------------------+----------+\n",
       "         (375,[],[])|              3.0| 1.324512E9|  0.0|[14.3766067788897...|[0.99999942941709...|       0.0|\n",
       "(375,[118,216],[1...|              1.0|1.2278304E9|  1.0|[10.1742978447436...|[0.99996186339523...|       0.0|\n",
       "   (375,[129],[1.0])|              1.0|1.2594528E9|  0.0|[14.4035068552025...|[0.99999944456120...|       0.0|\n",
       "(375,[0,1,43,129,...|              5.0|1.3416192E9|  1.0|[-43.696080297271...|[1.05446810046403...|       1.0|\n",
       "(375,[1,5,10,41,4...|              5.0|  1.31328E9|  1.0|[43.6136848194892...|[1.0,1.1450312708...|       0.0|\n",
       "(375,[0,1,3,5,6,7...|              1.0|1.3488768E9|  1.0|[-81.027961073689...|[6.45659619476451...|       1.0|\n",
       "(375,[0,43,129],[...|              1.0|1.2603168E9|  0.0|[3.50461212280749...|[0.97081871359378...|       0.0|\n",
       "(375,[0,1,2,4,8,1...|              3.0|1.2597984E9|  0.0|[-26.914474084888...|[2.04735154994636...|       1.0|\n",
       "(375,[0,2,6,7,37,...|              3.0| 1.261872E9|  1.0|[-13.560264938998...|[1.29077695554352...|       1.0|\n",
       "(375,[0,2,11,13,1...|              2.0|  1.24848E9|  1.0|[-49.670593958254...|[2.68123655066906...|       1.0|\n",
       "(375,[20,32,56,76...|              2.0|1.3468896E9|  0.0|[63.4988568841408...|[1.0,2.6472615271...|       0.0|\n",
       "(375,[4,5,21,27,3...|              2.0|1.3496544E9|  0.0|[20.0121033037160...|[0.99999999796364...|       0.0|\n",
       "(375,[3,6,9,21,28...|              3.0|1.2861504E9|  0.0|[23.3977115890298...|[0.99999999993105...|       0.0|\n",
       "(375,[6,7,20,36,5...|              4.0|  9.79344E8|  0.0|[29.0064696607215...|[0.99999999999974...|       0.0|\n",
       "(375,[1,4,11,13,1...|              4.0|1.2866688E9|  1.0|[111.699718444632...|[1.0,3.0862325639...|       0.0|\n",
       "(375,[2,3,6,8,10,...|              4.0|1.2600576E9|  0.0|[54.3535621277981...|[1.0,2.4805494896...|       0.0|\n",
       "(375,[0,1,2,5,7,8...|              3.0|1.2591936E9|  0.0|[8.51855136602110...|[0.99980031133406...|       0.0|\n",
       "(375,[0,5,7,9,14,...|              3.0|1.0932192E9|  0.0|[-12.882425262864...|[2.54233449835266...|       1.0|\n",
       "(375,[0,2,4,5,6,1...|              5.0|1.2629088E9|  1.0|[-31.497499854550...|[2.09319466622033...|       1.0|\n",
       "(375,[6,9,44,292]...|              5.0|1.3468896E9|  1.0|[22.8729483417806...|[0.99999999988347...|       0.0|\n",
       "+--------------------+-----------------+-----------+-----+--------------------+--------------------+----------+\n",
       "only showing top 20 rows\n",
       "\n",
       "</div>"
      ]
     },
     "metadata": {},
     "output_type": "display_data"
    }
   ],
   "source": [
    "predictions.show()"
   ]
  },
  {
   "cell_type": "code",
   "execution_count": 40,
   "metadata": {},
   "outputs": [
    {
     "data": {
      "text/html": [
       "<style scoped>\n",
       "  .ansiout {\n",
       "    display: block;\n",
       "    unicode-bidi: embed;\n",
       "    white-space: pre-wrap;\n",
       "    word-wrap: break-word;\n",
       "    word-break: break-all;\n",
       "    font-family: \"Source Code Pro\", \"Menlo\", monospace;;\n",
       "    font-size: 13px;\n",
       "    color: #555;\n",
       "    margin-left: 4px;\n",
       "    line-height: 19px;\n",
       "  }\n",
       "</style>\n",
       "<div class=\"ansiout\">+--------------------+-----+\n",
       "         probability|count|\n",
       "+--------------------+-----+\n",
       "[0.99999999096839...|    1|\n",
       "[2.04735154994636...|    1|\n",
       "[0.99970484010455...|    1|\n",
       "[0.99999999988347...|    1|\n",
       "[2.09319466622033...|    1|\n",
       "[0.99999999999999...|    1|\n",
       "[7.75496624869082...|    1|\n",
       "[0.99999999999974...|    1|\n",
       "[1.58957497149663...|    1|\n",
       "[3.54933279875186...|    1|\n",
       "[1.0,1.1450312708...|    1|\n",
       "[1.0,2.6472615271...|    1|\n",
       "[1.05446810046403...|    1|\n",
       "[0.99999999999999...|    1|\n",
       "[1.29077695554352...|    1|\n",
       "[0.99999841462907...|    1|\n",
       "[1.30617440528437...|    1|\n",
       "[1.0,2.4805494896...|    1|\n",
       "[1.60159693007177...|    1|\n",
       "[6.72375729015124...|    1|\n",
       "+--------------------+-----+\n",
       "only showing top 20 rows\n",
       "\n",
       "</div>"
      ]
     },
     "metadata": {},
     "output_type": "display_data"
    }
   ],
   "source": [
    "predictions.groupby(\"probability\").count().show()"
   ]
  },
  {
   "cell_type": "code",
   "execution_count": 41,
   "metadata": {},
   "outputs": [],
   "source": []
  },
  {
   "cell_type": "code",
   "execution_count": 42,
   "metadata": {},
   "outputs": [
    {
     "data": {
      "text/html": [
       "<style scoped>\n",
       "  .ansiout {\n",
       "    display: block;\n",
       "    unicode-bidi: embed;\n",
       "    white-space: pre-wrap;\n",
       "    word-wrap: break-word;\n",
       "    word-break: break-all;\n",
       "    font-family: \"Source Code Pro\", \"Menlo\", monospace;;\n",
       "    font-size: 13px;\n",
       "    color: #555;\n",
       "    margin-left: 4px;\n",
       "    line-height: 19px;\n",
       "  }\n",
       "</style>\n",
       "<div class=\"ansiout\"></div>"
      ]
     },
     "metadata": {},
     "output_type": "display_data"
    }
   ],
   "source": [
    "from pyspark.ml.evaluation import BinaryClassificationEvaluator"
   ]
  },
  {
   "cell_type": "code",
   "execution_count": 43,
   "metadata": {},
   "outputs": [
    {
     "data": {
      "text/html": [
       "<style scoped>\n",
       "  .ansiout {\n",
       "    display: block;\n",
       "    unicode-bidi: embed;\n",
       "    white-space: pre-wrap;\n",
       "    word-wrap: break-word;\n",
       "    word-break: break-all;\n",
       "    font-family: \"Source Code Pro\", \"Menlo\", monospace;;\n",
       "    font-size: 13px;\n",
       "    color: #555;\n",
       "    margin-left: 4px;\n",
       "    line-height: 19px;\n",
       "  }\n",
       "</style>\n",
       "<div class=\"ansiout\"></div>"
      ]
     },
     "metadata": {},
     "output_type": "display_data"
    }
   ],
   "source": [
    "evaluator = BinaryClassificationEvaluator(rawPredictionCol=\"rawPrediction\")"
   ]
  },
  {
   "cell_type": "code",
   "execution_count": 44,
   "metadata": {},
   "outputs": [
    {
     "data": {
      "text/html": [
       "<style scoped>\n",
       "  .ansiout {\n",
       "    display: block;\n",
       "    unicode-bidi: embed;\n",
       "    white-space: pre-wrap;\n",
       "    word-wrap: break-word;\n",
       "    word-break: break-all;\n",
       "    font-family: \"Source Code Pro\", \"Menlo\", monospace;;\n",
       "    font-size: 13px;\n",
       "    color: #555;\n",
       "    margin-left: 4px;\n",
       "    line-height: 19px;\n",
       "  }\n",
       "</style>\n",
       "<div class=\"ansiout\"><span class=\"ansired\">Out[</span><span class=\"ansired\">212</span><span class=\"ansired\">]: </span>0.5970588235294119\n",
       "</div>"
      ]
     },
     "metadata": {},
     "output_type": "display_data"
    }
   ],
   "source": [
    "evaluator.evaluate(predictions)"
   ]
  },
  {
   "cell_type": "code",
   "execution_count": 45,
   "metadata": {},
   "outputs": [
    {
     "data": {
      "text/html": [
       "<style scoped>\n",
       "  .ansiout {\n",
       "    display: block;\n",
       "    unicode-bidi: embed;\n",
       "    white-space: pre-wrap;\n",
       "    word-wrap: break-word;\n",
       "    word-break: break-all;\n",
       "    font-family: \"Source Code Pro\", \"Menlo\", monospace;;\n",
       "    font-size: 13px;\n",
       "    color: #555;\n",
       "    margin-left: 4px;\n",
       "    line-height: 19px;\n",
       "  }\n",
       "</style>\n",
       "<div class=\"ansiout\">0.5945945945945946\n",
       "</div>"
      ]
     },
     "metadata": {},
     "output_type": "display_data"
    }
   ],
   "source": [
    "evaluator = MulticlassClassificationEvaluator(\n",
    "labelCol=\"label\", predictionCol=\"prediction\", metricName=\"accuracy\")\n",
    "accuracy = evaluator.evaluate(predictions)\n",
    "print(accuracy)"
   ]
  },
  {
   "cell_type": "code",
   "execution_count": 46,
   "metadata": {},
   "outputs": [],
   "source": [
    "from pyspark.ml import Pipeline\n",
    "pipeline = Pipeline(stages=[labelIndexer, featureIndexer, dt])"
   ]
  },
  {
   "cell_type": "code",
   "execution_count": 47,
   "metadata": {},
   "outputs": [],
   "source": []
  },
  {
   "cell_type": "code",
   "execution_count": 48,
   "metadata": {},
   "outputs": [],
   "source": []
  },
  {
   "cell_type": "code",
   "execution_count": 49,
   "metadata": {},
   "outputs": [
    {
     "data": {
      "text/html": [
       "<style scoped>\n",
       "  .ansiout {\n",
       "    display: block;\n",
       "    unicode-bidi: embed;\n",
       "    white-space: pre-wrap;\n",
       "    word-wrap: break-word;\n",
       "    word-break: break-all;\n",
       "    font-family: \"Source Code Pro\", \"Menlo\", monospace;;\n",
       "    font-size: 13px;\n",
       "    color: #555;\n",
       "    margin-left: 4px;\n",
       "    line-height: 19px;\n",
       "  }\n",
       "</style>\n",
       "<div class=\"ansiout\"></div>"
      ]
     },
     "metadata": {},
     "output_type": "display_data"
    }
   ],
   "source": [
    "nresult = result.drop(\"label\").withColumnRenamed(\"clean_reviewscore\",\"label\")"
   ]
  },
  {
   "cell_type": "code",
   "execution_count": 50,
   "metadata": {},
   "outputs": [
    {
     "data": {
      "text/html": [
       "<style scoped>\n",
       "  .ansiout {\n",
       "    display: block;\n",
       "    unicode-bidi: embed;\n",
       "    white-space: pre-wrap;\n",
       "    word-wrap: break-word;\n",
       "    word-break: break-all;\n",
       "    font-family: \"Source Code Pro\", \"Menlo\", monospace;;\n",
       "    font-size: 13px;\n",
       "    color: #555;\n",
       "    margin-left: 4px;\n",
       "    line-height: 19px;\n",
       "  }\n",
       "</style>\n",
       "<div class=\"ansiout\"><span class=\"ansired\">---------------------------------------------------------------------------</span>\n",
       "<span class=\"ansired\">AttributeError</span>                            Traceback (most recent call last)\n",
       "<span class=\"ansigreen\">&lt;command-3064203395265361&gt;</span> in <span class=\"ansicyan\">&lt;module&gt;</span><span class=\"ansiblue\">()</span>\n",
       "<span class=\"ansigreen\">----&gt; 1</span><span class=\"ansiyellow\"> </span>nresult<span class=\"ansiyellow\">.</span>groupby<span class=\"ansiyellow\">(</span><span class=\"ansiblue\">&quot;label&quot;</span><span class=\"ansiyellow\">)</span><span class=\"ansiyellow\">.</span>show<span class=\"ansiyellow\">(</span><span class=\"ansiyellow\">)</span><span class=\"ansiyellow\"></span>\n",
       "\n",
       "<span class=\"ansired\">AttributeError</span>: &apos;GroupedData&apos; object has no attribute &apos;show&apos;</div>"
      ]
     },
     "metadata": {},
     "output_type": "display_data"
    }
   ],
   "source": [
    "nresult.groupby(\"label\").show()"
   ]
  },
  {
   "cell_type": "code",
   "execution_count": 51,
   "metadata": {},
   "outputs": [
    {
     "data": {
      "text/html": [
       "<style scoped>\n",
       "  .ansiout {\n",
       "    display: block;\n",
       "    unicode-bidi: embed;\n",
       "    white-space: pre-wrap;\n",
       "    word-wrap: break-word;\n",
       "    word-break: break-all;\n",
       "    font-family: \"Source Code Pro\", \"Menlo\", monospace;;\n",
       "    font-size: 13px;\n",
       "    color: #555;\n",
       "    margin-left: 4px;\n",
       "    line-height: 19px;\n",
       "  }\n",
       "</style>\n",
       "<div class=\"ansiout\"><span class=\"ansired\">---------------------------------------------------------------------------</span>\n",
       "<span class=\"ansired\">AnalysisException</span>                         Traceback (most recent call last)\n",
       "<span class=\"ansigreen\">&lt;command-2774925202837311&gt;</span> in <span class=\"ansicyan\">&lt;module&gt;</span><span class=\"ansiblue\">()</span>\n",
       "<span class=\"ansigreen\">      1</span> lr2 <span class=\"ansiyellow\">=</span> LogisticRegression<span class=\"ansiyellow\">(</span><span class=\"ansiyellow\">)</span><span class=\"ansiyellow\"></span>\n",
       "<span class=\"ansigreen\">----&gt; 2</span><span class=\"ansiyellow\"> </span>lrModel2 <span class=\"ansiyellow\">=</span> lr2<span class=\"ansiyellow\">.</span>fit<span class=\"ansiyellow\">(</span>nresult<span class=\"ansiyellow\">.</span>select<span class=\"ansiyellow\">(</span><span class=\"ansiblue\">&quot;features&quot;</span><span class=\"ansiyellow\">,</span><span class=\"ansiblue\">&quot;label&quot;</span><span class=\"ansiyellow\">)</span><span class=\"ansiyellow\">)</span><span class=\"ansiyellow\"></span>\n",
       "\n",
       "<span class=\"ansigreen\">/databricks/spark/python/pyspark/sql/dataframe.py</span> in <span class=\"ansicyan\">select</span><span class=\"ansiblue\">(self, *cols)</span>\n",
       "<span class=\"ansigreen\">   1343</span>         <span class=\"ansiyellow\">[</span>Row<span class=\"ansiyellow\">(</span>name<span class=\"ansiyellow\">=</span><span class=\"ansiblue\">u&apos;Alice&apos;</span><span class=\"ansiyellow\">,</span> age<span class=\"ansiyellow\">=</span><span class=\"ansicyan\">12</span><span class=\"ansiyellow\">)</span><span class=\"ansiyellow\">,</span> Row<span class=\"ansiyellow\">(</span>name<span class=\"ansiyellow\">=</span><span class=\"ansiblue\">u&apos;Bob&apos;</span><span class=\"ansiyellow\">,</span> age<span class=\"ansiyellow\">=</span><span class=\"ansicyan\">15</span><span class=\"ansiyellow\">)</span><span class=\"ansiyellow\">]</span><span class=\"ansiyellow\"></span>\n",
       "<span class=\"ansigreen\">   1344</span>         &quot;&quot;&quot;\n",
       "<span class=\"ansigreen\">-&gt; 1345</span><span class=\"ansiyellow\">         </span>jdf <span class=\"ansiyellow\">=</span> self<span class=\"ansiyellow\">.</span>_jdf<span class=\"ansiyellow\">.</span>select<span class=\"ansiyellow\">(</span>self<span class=\"ansiyellow\">.</span>_jcols<span class=\"ansiyellow\">(</span><span class=\"ansiyellow\">*</span>cols<span class=\"ansiyellow\">)</span><span class=\"ansiyellow\">)</span><span class=\"ansiyellow\"></span>\n",
       "<span class=\"ansigreen\">   1346</span>         <span class=\"ansigreen\">return</span> DataFrame<span class=\"ansiyellow\">(</span>jdf<span class=\"ansiyellow\">,</span> self<span class=\"ansiyellow\">.</span>sql_ctx<span class=\"ansiyellow\">)</span><span class=\"ansiyellow\"></span>\n",
       "<span class=\"ansigreen\">   1347</span> <span class=\"ansiyellow\"></span>\n",
       "\n",
       "<span class=\"ansigreen\">/databricks/spark/python/lib/py4j-0.10.7-src.zip/py4j/java_gateway.py</span> in <span class=\"ansicyan\">__call__</span><span class=\"ansiblue\">(self, *args)</span>\n",
       "<span class=\"ansigreen\">   1255</span>         answer <span class=\"ansiyellow\">=</span> self<span class=\"ansiyellow\">.</span>gateway_client<span class=\"ansiyellow\">.</span>send_command<span class=\"ansiyellow\">(</span>command<span class=\"ansiyellow\">)</span><span class=\"ansiyellow\"></span>\n",
       "<span class=\"ansigreen\">   1256</span>         return_value = get_return_value(\n",
       "<span class=\"ansigreen\">-&gt; 1257</span><span class=\"ansiyellow\">             answer, self.gateway_client, self.target_id, self.name)\n",
       "</span><span class=\"ansigreen\">   1258</span> <span class=\"ansiyellow\"></span>\n",
       "<span class=\"ansigreen\">   1259</span>         <span class=\"ansigreen\">for</span> temp_arg <span class=\"ansigreen\">in</span> temp_args<span class=\"ansiyellow\">:</span><span class=\"ansiyellow\"></span>\n",
       "\n",
       "<span class=\"ansigreen\">/databricks/spark/python/pyspark/sql/utils.py</span> in <span class=\"ansicyan\">deco</span><span class=\"ansiblue\">(*a, **kw)</span>\n",
       "<span class=\"ansigreen\">     67</span>                                              e.java_exception.getStackTrace()))\n",
       "<span class=\"ansigreen\">     68</span>             <span class=\"ansigreen\">if</span> s<span class=\"ansiyellow\">.</span>startswith<span class=\"ansiyellow\">(</span><span class=\"ansiblue\">&apos;org.apache.spark.sql.AnalysisException: &apos;</span><span class=\"ansiyellow\">)</span><span class=\"ansiyellow\">:</span><span class=\"ansiyellow\"></span>\n",
       "<span class=\"ansigreen\">---&gt; 69</span><span class=\"ansiyellow\">                 </span><span class=\"ansigreen\">raise</span> AnalysisException<span class=\"ansiyellow\">(</span>s<span class=\"ansiyellow\">.</span>split<span class=\"ansiyellow\">(</span><span class=\"ansiblue\">&apos;: &apos;</span><span class=\"ansiyellow\">,</span> <span class=\"ansicyan\">1</span><span class=\"ansiyellow\">)</span><span class=\"ansiyellow\">[</span><span class=\"ansicyan\">1</span><span class=\"ansiyellow\">]</span><span class=\"ansiyellow\">,</span> stackTrace<span class=\"ansiyellow\">)</span><span class=\"ansiyellow\"></span>\n",
       "<span class=\"ansigreen\">     70</span>             <span class=\"ansigreen\">if</span> s<span class=\"ansiyellow\">.</span>startswith<span class=\"ansiyellow\">(</span><span class=\"ansiblue\">&apos;org.apache.spark.sql.catalyst.analysis&apos;</span><span class=\"ansiyellow\">)</span><span class=\"ansiyellow\">:</span><span class=\"ansiyellow\"></span>\n",
       "<span class=\"ansigreen\">     71</span>                 <span class=\"ansigreen\">raise</span> AnalysisException<span class=\"ansiyellow\">(</span>s<span class=\"ansiyellow\">.</span>split<span class=\"ansiyellow\">(</span><span class=\"ansiblue\">&apos;: &apos;</span><span class=\"ansiyellow\">,</span> <span class=\"ansicyan\">1</span><span class=\"ansiyellow\">)</span><span class=\"ansiyellow\">[</span><span class=\"ansicyan\">1</span><span class=\"ansiyellow\">]</span><span class=\"ansiyellow\">,</span> stackTrace<span class=\"ansiyellow\">)</span><span class=\"ansiyellow\"></span>\n",
       "\n",
       "<span class=\"ansired\">AnalysisException</span>: &quot;cannot resolve &apos;&#96;features&#96;&apos; given input columns: [avg(sentiment_scores_sum), label, text, clean_time, cleanhelp, sentiment_scores_sum, clean];;\\n&apos;Project [&apos;features, label#3582]\\n+- Project [text#932, clean#1040, sentiment_scores_sum#1159, cleanhelp#2282, avg(sentiment_scores_sum)#2380, label#3582, clean_time#2650]\\n   +- Project [text#932, clean#1040, sentiment_scores_sum#1159, cleanhelp#2282, avg(sentiment_scores_sum)#2380, clean_reviewscore#2631 AS label#3582, clean_time#2650, features#2931]\\n      +- Project [text#932, clean#1040, sentiment_scores_sum#1159, cleanhelp#2282, avg(sentiment_scores_sum)#2380, clean_reviewscore#2631, clean_time#2650, features#2931]\\n         +- Project [text#932, clean#1040, sentiment_scores_sum#1159, cleanhelp#2282, avg(sentiment_scores_sum)#2380, label#2543, clean_reviewscore#2631, clean_time#2650, UDF(clean#1040) AS features#2931]\\n            +- Sample 0.0, 0.8, false, 1567779832634986047\\n               +- Sort [text#932 ASC NULLS FIRST, clean#1040 ASC NULLS FIRST, sentiment_scores_sum#1159 ASC NULLS FIRST, cleanhelp#2282 ASC NULLS FIRST, avg(sentiment_scores_sum)#2380 ASC NULLS FIRST, label#2543 ASC NULLS FIRST, clean_reviewscore#2631 ASC NULLS FIRST, clean_time#2650 ASC NULLS FIRST], false\\n                  +- Project [text#932, clean#1040, sentiment_scores_sum#1159, cleanhelp#2282, avg(sentiment_scores_sum)#2380, label#2543, clean_reviewscore#2631, clean_time#2650]\\n                     +- Project [productId#925, userId#926, profileName#927, helpfulness#928, review_score#929, review_time#930, review_summary#931, text#932, didwork#941, dummy#988, clean#1040, sentiments_scores#1097, sentiment_scores_sum#1159, cleanhelp#2282, avg(sentiment_scores_sum)#2380, label#2543, clean_reviewscore#2631, stgflt(review_time#930) AS clean_time#2650]\\n                        +- Project [productId#925, userId#926, profileName#927, helpfulness#928, review_score#929, review_time#930, review_summary#931, text#932, didwork#941, dummy#988, clean#1040, sentiments_scores#1097, sentiment_scores_sum#1159, cleanhelp#2282, avg(sentiment_scores_sum)#2380, label#2543, stgflt(review_score#929) AS clean_reviewscore#2631]\\n                           +- Project [productId#925, userId#926, profileName#927, helpfulness#928, review_score#929, review_time#930, review_summary#931, text#932, didwork#941, dummy#988, clean#1040, sentiments_scores#1097, sentiment_scores_sum#1159, cleanhelp#2282, avg(sentiment_scores_sum)#2380, spammer(avg(sentiment_scores_sum)#2380) AS label#2543]\\n                              +- Project [productId#925, userId#926, profileName#927, helpfulness#928, review_score#929, review_time#930, review_summary#931, text#932, didwork#941, dummy#988, clean#1040, sentiments_scores#1097, sentiment_scores_sum#1159, cleanhelp#2282, avg(sentiment_scores_sum)#2380]\\n                                 +- Join LeftOuter, (userId#926 = cdId#2383)\\n                                    :- Project [productId#925, userId#926, profileName#927, helpfulness#928, review_score#929, review_time#930, review_summary#931, text#932, didwork#941, dummy#988, clean#1040, sentiments_scores#1097, sentiment_scores_sum#1159, tofloat(helpfulness#928) AS cleanhelp#2282]\\n                                    :  +- Project [productId#925, userId#926, profileName#927, helpfulness#928, review_score#929, review_time#930, review_summary#931, text#932, didwork#941, dummy#988, clean#1040, sentiments_scores#1097, sentiment_scores_sum#1159, tofloat(helpfulness#928) AS cleanhelp#1790]\\n                                    :     +- Project [productId#925, userId#926, profileName#927, helpfulness#928, review_score#929, review_time#930, review_summary#931, text#932, didwork#941, dummy#988, clean#1040, sentiments_scores#1097, sentiment_scores_sum#1159, tofloat(helpfulness#928) AS cleanhelp#1298]\\n                                    :        +- Project [productId#925, userId#926, profileName#927, helpfulness#928, review_score#929, review_time#930, review_summary#931, text#932, didwork#941, dummy#988, clean#1040, sentiments_scores#1097, sentiment_score_sum(sentiments_scores#1097) AS sentiment_scores_sum#1159]\\n                                    :           +- Project [productId#925, userId#926, profileName#927, helpfulness#928, review_score#929, review_time#930, review_summary#931, text#932, didwork#941, dummy#988, clean#1040, sentiment_score(clean#1040) AS sentiments_scores#1097]\\n                                    :              +- Project [productId#925, userId#926, profileName#927, helpfulness#928, review_score#929, review_time#930, review_summary#931, text#932, didwork#941, dummy#988, rmstopwords(dummy#988) AS clean#1040]\\n                                    :                 +- Project [productId#925, userId#926, profileName#927, helpfulness#928, review_score#929, review_time#930, review_summary#931, text#932, didwork#941, remove(didwork#941) AS dummy#988]\\n                                    :                    +- Project [productId#925, userId#926, profileName#927, helpfulness#928, review_score#929, review_time#930, review_summary#931, text#932, UDF(text#932) AS didwork#941]\\n                                    :                       +- Relation[productId#925,userId#926,profileName#927,helpfulness#928,review_score#929,review_time#930,review_summary#931,text#932] csv\\n                                    +- Project [userId#926 AS cdId#2383, avg(sentiment_scores_sum)#2380]\\n                                       +- Aggregate [userId#926], [userId#926, avg(cast(sentiment_scores_sum#1159 as bigint)) AS avg(sentiment_scores_sum)#2380]\\n                                          +- Project [productId#925, userId#926, profileName#927, helpfulness#928, review_score#929, review_time#930, review_summary#931, text#932, didwork#941, dummy#988, clean#1040, sentiments_scores#1097, sentiment_scores_sum#1159]\\n                                             +- Project [productId#925, userId#926, profileName#927, helpfulness#928, review_score#929, review_time#930, review_summary#931, text#932, didwork#941, dummy#988, clean#1040, sentiments_scores#1097, sentiment_scores_sum#1159, tofloat(helpfulness#928) AS cleanhelp#2282]\\n                                                +- Project [productId#925, userId#926, profileName#927, helpfulness#928, review_score#929, review_time#930, review_summary#931, text#932, didwork#941, dummy#988, clean#1040, sentiments_scores#1097, sentiment_scores_sum#1159, tofloat(helpfulness#928) AS cleanhelp#1790]\\n                                                   +- Project [productId#925, userId#926, profileName#927, helpfulness#928, review_score#929, review_time#930, review_summary#931, text#932, didwork#941, dummy#988, clean#1040, sentiments_scores#1097, sentiment_scores_sum#1159, tofloat(helpfulness#928) AS cleanhelp#1298]\\n                                                      +- Project [productId#925, userId#926, profileName#927, helpfulness#928, review_score#929, review_time#930, review_summary#931, text#932, didwork#941, dummy#988, clean#1040, sentiments_scores#1097, sentiment_score_sum(sentiments_scores#1097) AS sentiment_scores_sum#1159]\\n                                                         +- Project [productId#925, userId#926, profileName#927, helpfulness#928, review_score#929, review_time#930, review_summary#931, text#932, didwork#941, dummy#988, clean#1040, sentiment_score(clean#1040) AS sentiments_scores#1097]\\n                                                            +- Project [productId#925, userId#926, profileName#927, helpfulness#928, review_score#929, review_time#930, review_summary#931, text#932, didwork#941, dummy#988, rmstopwords(dummy#988) AS clean#1040]\\n                                                               +- Project [productId#925, userId#926, profileName#927, helpfulness#928, review_score#929, review_time#930, review_summary#931, text#932, didwork#941, remove(didwork#941) AS dummy#988]\\n                                                                  +- Project [productId#925, userId#926, profileName#927, helpfulness#928, review_score#929, review_time#930, review_summary#931, text#932, UDF(text#932) AS didwork#941]\\n                                                                     +- Relation[productId#925,userId#926,profileName#927,helpfulness#928,review_score#929,review_time#930,review_summary#931,text#932] csv\\n&quot;</div>"
      ]
     },
     "metadata": {},
     "output_type": "display_data"
    }
   ],
   "source": [
    "lr2 = LogisticRegression()\n",
    "lrModel2 = lr2.fit(nresult.select(\"features\",\"label\"))"
   ]
  },
  {
   "cell_type": "code",
   "execution_count": 52,
   "metadata": {},
   "outputs": [
    {
     "data": {
      "text/html": [
       "<style scoped>\n",
       "  .ansiout {\n",
       "    display: block;\n",
       "    unicode-bidi: embed;\n",
       "    white-space: pre-wrap;\n",
       "    word-wrap: break-word;\n",
       "    word-break: break-all;\n",
       "    font-family: \"Source Code Pro\", \"Menlo\", monospace;;\n",
       "    font-size: 13px;\n",
       "    color: #555;\n",
       "    margin-left: 4px;\n",
       "    line-height: 19px;\n",
       "  }\n",
       "</style>\n",
       "<div class=\"ansiout\"></div>"
      ]
     },
     "metadata": {},
     "output_type": "display_data"
    }
   ],
   "source": [
    "ntest= test.drop(\"label\").withColumnRenamed(\"clean_reviewscore\",\"label\")"
   ]
  },
  {
   "cell_type": "code",
   "execution_count": 53,
   "metadata": {},
   "outputs": [
    {
     "data": {
      "text/html": [
       "<style scoped>\n",
       "  .ansiout {\n",
       "    display: block;\n",
       "    unicode-bidi: embed;\n",
       "    white-space: pre-wrap;\n",
       "    word-wrap: break-word;\n",
       "    word-break: break-all;\n",
       "    font-family: \"Source Code Pro\", \"Menlo\", monospace;;\n",
       "    font-size: 13px;\n",
       "    color: #555;\n",
       "    margin-left: 4px;\n",
       "    line-height: 19px;\n",
       "  }\n",
       "</style>\n",
       "<div class=\"ansiout\">+-----+-----+\n",
       "label|count|\n",
       "+-----+-----+\n",
       "  5.0|   11|\n",
       "  2.0|    4|\n",
       "  3.0|    8|\n",
       "  1.0|   10|\n",
       "  4.0|    8|\n",
       "+-----+-----+\n",
       "\n",
       "</div>"
      ]
     },
     "metadata": {},
     "output_type": "display_data"
    }
   ],
   "source": [
    "ntest.groupby(\"label\").count().show()"
   ]
  },
  {
   "cell_type": "code",
   "execution_count": 54,
   "metadata": {},
   "outputs": [
    {
     "data": {
      "text/html": [
       "<style scoped>\n",
       "  .ansiout {\n",
       "    display: block;\n",
       "    unicode-bidi: embed;\n",
       "    white-space: pre-wrap;\n",
       "    word-wrap: break-word;\n",
       "    word-break: break-all;\n",
       "    font-family: \"Source Code Pro\", \"Menlo\", monospace;;\n",
       "    font-size: 13px;\n",
       "    color: #555;\n",
       "    margin-left: 4px;\n",
       "    line-height: 19px;\n",
       "  }\n",
       "</style>\n",
       "<div class=\"ansiout\">+--------------------+-----+\n",
       "         probability|count|\n",
       "+--------------------+-----+\n",
       "[8.11716823026310...|   41|\n",
       "+--------------------+-----+\n",
       "\n",
       "</div>"
      ]
     },
     "metadata": {},
     "output_type": "display_data"
    }
   ],
   "source": [
    "predictions2 = lrModel2.transform(ntest.select(\"features\",\"label\"))\n",
    "predictions2.groupby(\"probability\").count().show()"
   ]
  },
  {
   "cell_type": "code",
   "execution_count": 55,
   "metadata": {},
   "outputs": [
    {
     "data": {
      "text/html": [
       "<style scoped>\n",
       "  .ansiout {\n",
       "    display: block;\n",
       "    unicode-bidi: embed;\n",
       "    white-space: pre-wrap;\n",
       "    word-wrap: break-word;\n",
       "    word-break: break-all;\n",
       "    font-family: \"Source Code Pro\", \"Menlo\", monospace;;\n",
       "    font-size: 13px;\n",
       "    color: #555;\n",
       "    margin-left: 4px;\n",
       "    line-height: 19px;\n",
       "  }\n",
       "</style>\n",
       "<div class=\"ansiout\"><span class=\"ansired\">Out[</span><span class=\"ansired\">83</span><span class=\"ansired\">]: </span>0.5\n",
       "</div>"
      ]
     },
     "metadata": {},
     "output_type": "display_data"
    }
   ],
   "source": [
    "evaluator2 = BinaryClassificationEvaluator(rawPredictionCol=\"rawPrediction\")\n",
    "evaluator2.evaluate(predictions)"
   ]
  },
  {
   "cell_type": "code",
   "execution_count": 56,
   "metadata": {},
   "outputs": [
    {
     "data": {
      "text/html": [
       "<style scoped>\n",
       "  .ansiout {\n",
       "    display: block;\n",
       "    unicode-bidi: embed;\n",
       "    white-space: pre-wrap;\n",
       "    word-wrap: break-word;\n",
       "    word-break: break-all;\n",
       "    font-family: \"Source Code Pro\", \"Menlo\", monospace;;\n",
       "    font-size: 13px;\n",
       "    color: #555;\n",
       "    margin-left: 4px;\n",
       "    line-height: 19px;\n",
       "  }\n",
       "</style>\n",
       "<div class=\"ansiout\"></div>"
      ]
     },
     "metadata": {},
     "output_type": "display_data"
    }
   ],
   "source": [
    "from pyspark.ml.feature import HashingTF, IDF, Tokenizer\n",
    "#tokenizer = Tokenizer(inputCol=\"sentence\", outputCol=\"words\")\n",
    "#wordsData = tokenizer.transform(sentenceData)\n",
    "\n",
    "hashingTF = HashingTF(inputCol=\"clean\", outputCol=\"rawFeatures\", numFeatures=20)\n",
    "featurizedData = hashingTF.transform(nresult)\n",
    "# alternatively, CountVectorizer can also be used to get term frequency vectors\n",
    "\n"
   ]
  },
  {
   "cell_type": "code",
   "execution_count": 57,
   "metadata": {},
   "outputs": [
    {
     "data": {
      "text/html": [
       "<style scoped>\n",
       "  .ansiout {\n",
       "    display: block;\n",
       "    unicode-bidi: embed;\n",
       "    white-space: pre-wrap;\n",
       "    word-wrap: break-word;\n",
       "    word-break: break-all;\n",
       "    font-family: \"Source Code Pro\", \"Menlo\", monospace;;\n",
       "    font-size: 13px;\n",
       "    color: #555;\n",
       "    margin-left: 4px;\n",
       "    line-height: 19px;\n",
       "  }\n",
       "</style>\n",
       "<div class=\"ansiout\">+--------------------+--------------------+--------------------+----------+-------------------------+-----+-----------+--------------------+--------------------+\n",
       "                text|               clean|sentiment_scores_sum| cleanhelp|avg(sentiment_scores_sum)|label| clean_time|            features|         rawFeatures|\n",
       "+--------------------+--------------------+--------------------+----------+-------------------------+-----+-----------+--------------------+--------------------+\n",
       "        Aw  shuck...|[aw, shucks, well...|                   2|       0.8|                      2.0|  2.0|1.1541312E9|(338,[1,11,15,21,...|(20,[0,1,3,4,5,6,...|\n",
       "        Uh  huh.....|        [uh, huh...]|                   0|       1.0|                      0.0|  3.0| 1.324512E9|         (338,[],[])|(20,[0,16],[1.0,1...|\n",
       "        if  you  ...|[want, full, mini...|                   1|       1.0|                      1.0|  1.0|1.2278304E9|(338,[63,136],[1....|(20,[9,11,12,17],...|\n",
       "      #107  in  D...|[#107, dvd, (see,...|                   0| 0.3888889|                      0.0|  1.0|1.2594528E9|    (338,[43],[1.0])|(20,[1,5,9,12,19]...|\n",
       "      (**Contains...|[(**contains, min...|                  21|       0.7|                     21.0|  5.0|1.2593664E9|(338,[0,1,4,5,8,9...|(20,[0,1,2,3,4,5,...|\n",
       "      -  The  spe...|[-, special, effe...|                   0|0.42105263|                      0.0|  1.0| 1.257552E9|(338,[1,2,16,23,3...|(20,[0,1,2,3,4,5,...|\n",
       "      ...watching...|[...watching, wal...|                   4|       0.0|                      4.0|  4.0| 1.251936E9|(338,[1,3,6,9,26,...|(20,[0,1,2,3,4,5,...|\n",
       "      3  stars  b...|[3, stars, like, ...|                   1| 0.6666667|                      1.0|  3.0| 1.264464E9|(338,[0,4,15,22,2...|(20,[0,1,3,4,5,7,...|\n",
       "      After  seei...|[seeing, many, re...|                   6| 0.6666667|                      6.0|  5.0| 1.260576E9|(338,[49,54,208,2...|(20,[0,3,6,8,9,13...|\n",
       "      All  these ...|[glowing, reviews...|                 -15|     0.325|                    -15.0|  1.0|1.2574656E9|(338,[0,2,3,4,5,7...|(20,[0,1,2,3,4,5,...|\n",
       "      Already  ha...|[already, dvd, mo...|                   9|       1.0|                      9.0|  5.0|1.3416192E9|(338,[0,1,39,43,1...|(20,[0,1,2,4,5,6,...|\n",
       "      As  most  f...|[film, adaptation...|                   6|       0.0|                      6.0|  4.0|1.2081312E9|(338,[0,1,3,10,15...|(20,[0,1,3,5,6,9,...|\n",
       "      Be  detaile...|[detailed, specif...|                   0|       0.0|                      0.0|  5.0|1.3137984E9|(338,[9,38,124],[...|(20,[0,3,4,6,8,11...|\n",
       "      Behind-the-...|[behind-the-scene...|                   4| 0.6666667|                      4.0|  3.0|1.0988352E9|(338,[0,1,8,10,17...|(20,[0,1,3,5,7,8,...|\n",
       "      Better  tha...|[better, rise, ma...|                   4|       1.0|                      4.0|  4.0|1.2617856E9|(338,[0,4,25,79,8...|(20,[1,2,3,4,5,6,...|\n",
       "      Bought  thi...|[bought, movie, c...|                   7|       0.0|                      7.0|  1.0|1.2636864E9|(338,[0,10,194,25...|(20,[0,1,2,3,5,6,...|\n",
       "      Boy  I  was...|[boy, looking, fo...|                   3|       0.3|                      3.0|  1.0| 1.260144E9|(338,[2,7,11,14,1...|(20,[0,1,2,3,4,5,...|\n",
       "               C    |                 [c]|                   0|       1.0|                      0.0|  3.0|1.3074912E9|         (338,[],[])|      (20,[2],[1.0])|\n",
       "      Communion  ...|[communion, (spec...|                   3|       0.0|                      3.0|  3.0|1.2403584E9|(338,[3,15,26,30,...|(20,[0,1,3,4,5,6,...|\n",
       "      Compradores...|[compradores, bra...|                   0|       0.0|                      0.0|  1.0| 1.266624E9|   (338,[239],[1.0])|(20,[1,3,4,5,6,7,...|\n",
       "+--------------------+--------------------+--------------------+----------+-------------------------+-----+-----------+--------------------+--------------------+\n",
       "only showing top 20 rows\n",
       "\n",
       "</div>"
      ]
     },
     "metadata": {},
     "output_type": "display_data"
    }
   ],
   "source": [
    "featurizedData.show()"
   ]
  },
  {
   "cell_type": "code",
   "execution_count": 58,
   "metadata": {},
   "outputs": [
    {
     "data": {
      "text/html": [
       "<style scoped>\n",
       "  .ansiout {\n",
       "    display: block;\n",
       "    unicode-bidi: embed;\n",
       "    white-space: pre-wrap;\n",
       "    word-wrap: break-word;\n",
       "    word-break: break-all;\n",
       "    font-family: \"Source Code Pro\", \"Menlo\", monospace;;\n",
       "    font-size: 13px;\n",
       "    color: #555;\n",
       "    margin-left: 4px;\n",
       "    line-height: 19px;\n",
       "  }\n",
       "</style>\n",
       "<div class=\"ansiout\"></div>"
      ]
     },
     "metadata": {},
     "output_type": "display_data"
    }
   ],
   "source": [
    "nresult = nresult.drop(\"features\")"
   ]
  },
  {
   "cell_type": "code",
   "execution_count": 59,
   "metadata": {},
   "outputs": [
    {
     "data": {
      "text/html": [
       "<style scoped>\n",
       "  .ansiout {\n",
       "    display: block;\n",
       "    unicode-bidi: embed;\n",
       "    white-space: pre-wrap;\n",
       "    word-wrap: break-word;\n",
       "    word-break: break-all;\n",
       "    font-family: \"Source Code Pro\", \"Menlo\", monospace;;\n",
       "    font-size: 13px;\n",
       "    color: #555;\n",
       "    margin-left: 4px;\n",
       "    line-height: 19px;\n",
       "  }\n",
       "</style>\n",
       "<div class=\"ansiout\"></div>"
      ]
     },
     "metadata": {},
     "output_type": "display_data"
    }
   ],
   "source": [
    "idf = IDF(inputCol=\"rawFeatures\", outputCol=\"featuress\")\n",
    "idfModel = idf.fit(featurizedData)\n"
   ]
  },
  {
   "cell_type": "code",
   "execution_count": 60,
   "metadata": {},
   "outputs": [
    {
     "data": {
      "text/html": [
       "<style scoped>\n",
       "  .ansiout {\n",
       "    display: block;\n",
       "    unicode-bidi: embed;\n",
       "    white-space: pre-wrap;\n",
       "    word-wrap: break-word;\n",
       "    word-break: break-all;\n",
       "    font-family: \"Source Code Pro\", \"Menlo\", monospace;;\n",
       "    font-size: 13px;\n",
       "    color: #555;\n",
       "    margin-left: 4px;\n",
       "    line-height: 19px;\n",
       "  }\n",
       "</style>\n",
       "<div class=\"ansiout\">+-----+--------------------+\n",
       "label|            features|\n",
       "+-----+--------------------+\n",
       "  2.0|(338,[1,11,15,21,...|\n",
       "  3.0|         (338,[],[])|\n",
       "  1.0|(338,[63,136],[1....|\n",
       "  1.0|    (338,[43],[1.0])|\n",
       "  5.0|(338,[0,1,4,5,8,9...|\n",
       "  1.0|(338,[1,2,16,23,3...|\n",
       "  4.0|(338,[1,3,6,9,26,...|\n",
       "  3.0|(338,[0,4,15,22,2...|\n",
       "  5.0|(338,[49,54,208,2...|\n",
       "  1.0|(338,[0,2,3,4,5,7...|\n",
       "  5.0|(338,[0,1,39,43,1...|\n",
       "  4.0|(338,[0,1,3,10,15...|\n",
       "  5.0|(338,[9,38,124],[...|\n",
       "  3.0|(338,[0,1,8,10,17...|\n",
       "  4.0|(338,[0,4,25,79,8...|\n",
       "  1.0|(338,[0,10,194,25...|\n",
       "  1.0|(338,[2,7,11,14,1...|\n",
       "  3.0|         (338,[],[])|\n",
       "  3.0|(338,[3,15,26,30,...|\n",
       "  1.0|   (338,[239],[1.0])|\n",
       "+-----+--------------------+\n",
       "only showing top 20 rows\n",
       "\n",
       "</div>"
      ]
     },
     "metadata": {},
     "output_type": "display_data"
    }
   ],
   "source": [
    "rescaledData = idfModel.transform(featurizedData)\n",
    "\n",
    "rescaledData.select(\"label\", \"features\").show()"
   ]
  },
  {
   "cell_type": "code",
   "execution_count": 61,
   "metadata": {},
   "outputs": [
    {
     "data": {
      "text/html": [
       "<style scoped>\n",
       "  .ansiout {\n",
       "    display: block;\n",
       "    unicode-bidi: embed;\n",
       "    white-space: pre-wrap;\n",
       "    word-wrap: break-word;\n",
       "    word-break: break-all;\n",
       "    font-family: \"Source Code Pro\", \"Menlo\", monospace;;\n",
       "    font-size: 13px;\n",
       "    color: #555;\n",
       "    margin-left: 4px;\n",
       "    line-height: 19px;\n",
       "  }\n",
       "</style>\n",
       "<div class=\"ansiout\"></div>"
      ]
     },
     "metadata": {},
     "output_type": "display_data"
    }
   ],
   "source": [
    "train_hashed, test_hashed = rescaledData.randomSplit([0.7, 0.3])"
   ]
  },
  {
   "cell_type": "code",
   "execution_count": 62,
   "metadata": {},
   "outputs": [],
   "source": []
  },
  {
   "cell_type": "code",
   "execution_count": 63,
   "metadata": {},
   "outputs": [
    {
     "data": {
      "text/html": [
       "<style scoped>\n",
       "  .ansiout {\n",
       "    display: block;\n",
       "    unicode-bidi: embed;\n",
       "    white-space: pre-wrap;\n",
       "    word-wrap: break-word;\n",
       "    word-break: break-all;\n",
       "    font-family: \"Source Code Pro\", \"Menlo\", monospace;;\n",
       "    font-size: 13px;\n",
       "    color: #555;\n",
       "    margin-left: 4px;\n",
       "    line-height: 19px;\n",
       "  }\n",
       "</style>\n",
       "<div class=\"ansiout\"></div>"
      ]
     },
     "metadata": {},
     "output_type": "display_data"
    }
   ],
   "source": []
  },
  {
   "cell_type": "code",
   "execution_count": 64,
   "metadata": {},
   "outputs": [
    {
     "data": {
      "text/html": [
       "<style scoped>\n",
       "  .ansiout {\n",
       "    display: block;\n",
       "    unicode-bidi: embed;\n",
       "    white-space: pre-wrap;\n",
       "    word-wrap: break-word;\n",
       "    word-break: break-all;\n",
       "    font-family: \"Source Code Pro\", \"Menlo\", monospace;;\n",
       "    font-size: 13px;\n",
       "    color: #555;\n",
       "    margin-left: 4px;\n",
       "    line-height: 19px;\n",
       "  }\n",
       "</style>\n",
       "<div class=\"ansiout\"><span class=\"ansired\">---------------------------------------------------------------------------</span>\n",
       "<span class=\"ansired\">AttributeError</span>                            Traceback (most recent call last)\n",
       "<span class=\"ansigreen\">&lt;command-3686941360751886&gt;</span> in <span class=\"ansicyan\">&lt;module&gt;</span><span class=\"ansiblue\">()</span>\n",
       "<span class=\"ansigreen\">----&gt; 1</span><span class=\"ansiyellow\"> </span>lrModel3<span class=\"ansiyellow\">.</span>show<span class=\"ansiyellow\">(</span><span class=\"ansiyellow\">)</span><span class=\"ansiyellow\"></span>\n",
       "\n",
       "<span class=\"ansired\">AttributeError</span>: &apos;LogisticRegressionModel&apos; object has no attribute &apos;show&apos;</div>"
      ]
     },
     "metadata": {},
     "output_type": "display_data"
    }
   ],
   "source": []
  },
  {
   "cell_type": "code",
   "execution_count": 65,
   "metadata": {},
   "outputs": [
    {
     "data": {
      "text/html": [
       "<style scoped>\n",
       "  .ansiout {\n",
       "    display: block;\n",
       "    unicode-bidi: embed;\n",
       "    white-space: pre-wrap;\n",
       "    word-wrap: break-word;\n",
       "    word-break: break-all;\n",
       "    font-family: \"Source Code Pro\", \"Menlo\", monospace;;\n",
       "    font-size: 13px;\n",
       "    color: #555;\n",
       "    margin-left: 4px;\n",
       "    line-height: 19px;\n",
       "  }\n",
       "</style>\n",
       "<div class=\"ansiout\">+--------------------+-----+--------------------+--------------------+----------+\n",
       "            features|label|       rawPrediction|         probability|prediction|\n",
       "+--------------------+-----+--------------------+--------------------+----------+\n",
       "(448,[0,1,3,5,6,7...|  1.0|[-13.620419243198...|[1.89465665655896...|       2.0|\n",
       "(448,[0,2,4,7,9,1...|  1.0|[-10.515615066830...|[3.31593828699817...|       4.0|\n",
       "(448,[0,2,12,14,1...|  1.0|[-6.7480614298946...|[1.47862142764080...|       3.0|\n",
       "(448,[0,4,5,6,8,2...|  1.0|[-4.4210626109633...|[1.15500557478800...|       3.0|\n",
       "(448,[0,7,233,305...|  1.0|[-4.0653083525162...|[5.20598603123633...|       3.0|\n",
       "(448,[0,12,39,47,...|  1.0|[-5.0704254042174...|[5.74453912945441...|       4.0|\n",
       "(448,[1,3,5,8,10,...|  1.0|[-8.0856720106749...|[2.11596936791363...|       4.0|\n",
       "(448,[1,3,6,14,20...|  1.0|[-5.1127350506428...|[2.47957989143347...|       3.0|\n",
       "(448,[2,7,10,63,1...|  1.0|[-4.4765225066004...|[9.64640660911227...|       3.0|\n",
       "(448,[3,6,11,14,1...|  1.0|[-6.8014679784346...|[1.80936016567158...|       1.0|\n",
       "(448,[19,39,47,82...|  1.0|[-4.6089743387151...|[6.35148179818114...|       1.0|\n",
       "(448,[30,262,321]...|  1.0|[-3.6377241790479...|[5.48713245467704...|       3.0|\n",
       "    (448,[42],[1.0])|  1.0|[-3.5706496763752...|[3.33400430486612...|       3.0|\n",
       "   (448,[171],[1.0])|  1.0|[-3.5011584116581...|[2.02017723252418...|       3.0|\n",
       "(448,[0,1,2,3,4,5...|  2.0|[-12.657487591150...|[6.61250118639832...|       1.0|\n",
       "(448,[0,1,2,3,4,8...|  2.0|[-6.4091005559717...|[2.09333106678004...|       4.0|\n",
       "(448,[0,1,3,4,5,8...|  2.0|[-8.4886581305707...|[1.42615391487750...|       2.0|\n",
       "(448,[0,2,4,12,51...|  2.0|[-5.2371969853740...|[4.48086860366232...|       3.0|\n",
       "(448,[0,2,5,9,13,...|  2.0|[-6.7973443039171...|[4.38102142154635...|       1.0|\n",
       "(448,[0,2,5,10,11...|  2.0|[-9.7318592374066...|[2.65147929706462...|       4.0|\n",
       "+--------------------+-----+--------------------+--------------------+----------+\n",
       "only showing top 20 rows\n",
       "\n",
       "</div>"
      ]
     },
     "metadata": {},
     "output_type": "display_data"
    }
   ],
   "source": [
    "lr3 = LogisticRegression()\n",
    "lrModel3 = lr3.fit(train_hashed.select(\"features\",\"label\"))\n",
    "predictions3 = lrModel3.transform(test_hashed.select(\"features\",\"label\"))\n",
    "predictions3.show()"
   ]
  },
  {
   "cell_type": "code",
   "execution_count": 66,
   "metadata": {},
   "outputs": [],
   "source": []
  },
  {
   "cell_type": "code",
   "execution_count": 67,
   "metadata": {},
   "outputs": [],
   "source": []
  },
  {
   "cell_type": "code",
   "execution_count": 68,
   "metadata": {},
   "outputs": [
    {
     "data": {
      "text/html": [
       "<style scoped>\n",
       "  .ansiout {\n",
       "    display: block;\n",
       "    unicode-bidi: embed;\n",
       "    white-space: pre-wrap;\n",
       "    word-wrap: break-word;\n",
       "    word-break: break-all;\n",
       "    font-family: \"Source Code Pro\", \"Menlo\", monospace;;\n",
       "    font-size: 13px;\n",
       "    color: #555;\n",
       "    margin-left: 4px;\n",
       "    line-height: 19px;\n",
       "  }\n",
       "</style>\n",
       "<div class=\"ansiout\"></div>"
      ]
     },
     "metadata": {},
     "output_type": "display_data"
    }
   ],
   "source": [
    "sf = spark.read.csv(\"/FileStore/tables/Cleaned_movies.csv\", header=True)"
   ]
  },
  {
   "cell_type": "code",
   "execution_count": 69,
   "metadata": {},
   "outputs": [
    {
     "data": {
      "text/html": [
       "<style scoped>\n",
       "  .ansiout {\n",
       "    display: block;\n",
       "    unicode-bidi: embed;\n",
       "    white-space: pre-wrap;\n",
       "    word-wrap: break-word;\n",
       "    word-break: break-all;\n",
       "    font-family: \"Source Code Pro\", \"Menlo\", monospace;;\n",
       "    font-size: 13px;\n",
       "    color: #555;\n",
       "    margin-left: 4px;\n",
       "    line-height: 19px;\n",
       "  }\n",
       "</style>\n",
       "<div class=\"ansiout\">+--------------------+--------------------+--------------------+--------------+-------------+--------------------+--------------------+--------------------+\n",
       "           productId|              userId|         profileName|   helpfulness| review_score|         review_time|      review_summary|                text|\n",
       "+--------------------+--------------------+--------------------+--------------+-------------+--------------------+--------------------+--------------------+\n",
       "      B002OHDRF2    |      A2ATWKOFJXR...|      B.  Merritt...|       2/6    |      2.0    |      1263859200    |      Been  There...|      Judgment  D...|\n",
       "      B002OHDRF2    |      A1W6I2VUOWR...|      Mohammad  S...|       2/6    |      5.0    |      1256256000    |      leave  it  ...|      this  is  a...|\n",
       "      B002OHDRF2    |      A2Y2L2TRP2Q...|      Jennifer  L...|      4/10    |      5.0    |      1249344000    |      best  Termi...|    D    Saw  the...|\n",
       "      B002OHDRF2    |      AGC3LQMMYX1...|      Joseph  M. ...|      4/10    |      5.0    |      1243555200    |      this  is  a...|      this  movie...|\n",
       "      B002OHDRF2    |      A12Q0LLN5R2...|           MONTY    |       0/3    |      5.0    |      1276646400    |      TERMINATOR ...|      product  wa...|\n",
       "      B002OHDRF2    |      A32F4BIKTM1...|      Shaun  Mast...|       0/3    |      5.0    |      1273190400    |      excellent.....|      Blu  Ray  i...|\n",
       "      B002OHDRF2    |      A2LP5T3EVFV...|      Teresa  L. ...|       0/3    |      5.0    |      1264032000    |           MOVIE    |      MY  FAMILY ...|\n",
       "      B002OHDRF2    |      A1HMNDO4IUF...|      Bloody  Dem...|       0/3    |      3.0    |      1261872000    |      Not  as  go...|      I  fell  as...|\n",
       "      B002OHDRF2    |      A3FB8ANM6OB...|        robby  d    |       0/3    |      4.0    |      1259971200    |      directors  ...|      just  wante...|\n",
       "      B002OHDRF2    |      A3KO1QOAMYH...|      Daniel  B. ...|      9/19    |      1.0    |      1258934400    |      Stick  with...|      The  Extend...|\n",
       "      B002OHDRF2    |      A31CJMS9UX4...|      S.  Walker    |      5/12    |      1.0    |      1260144000    |       Horrible!    |      If  all  yo...|\n",
       "      B002OHDRF2    |      AAUHB9T8KZH...|      Arnold  Sch...|       1/5    |      1.0    |      1334275200    |      Why  am  I ...|      This  is  n...|\n",
       "      B002OHDRF2    |      A35O4GF6YAJ...|      Rodolfo  Sa...|       1/5    |      4.0    |      1274400000    |      Very  good....|      see  it  fi...|\n",
       "      B002OHDRF2    |      A26VYP814GZ...|      Joe  Schamb...|       1/5    |      2.0    |      1260230400    |      Terminator ...|      The  movie ...|\n",
       "      B002OHDRF2    |      A2P2JXU9JEY...|      Marian  M. ...|       1/5    |      4.0    |      1259798400    |      You  better...|    Salvation    ...|\n",
       "      B002OHDRF2    |      A1E3F8WR57N...|           Veese    |       1/5    |      3.0    |      1259625600    |        OHHHH  GO...|      Did  I  men...|\n",
       "      B002OHDRF2    |      A2RYGFSQXPB...|           Niall    |       1/5    |      3.0    |      1259193600    |      James  Came...|      I  was  exp...|\n",
       "      B002OHDRF2    |      AER15RIMV8E...|      Pumpkin  Ma...|       1/5    |      5.0    |      1256601600    |      An  Awesome...|      I  have  be...|\n",
       "      B002OHDRF2    |      A38600ZDQ4Z...|       Etowahdoc    |       1/5    |      2.0    |      1255996800    |      A  complete...|      I  didn\\  t...|\n",
       "      B002OHDRF2    |      AGR5FHTWYDC...|      MBuff    Mb...|      6/14    |      1.0    |      1257292800    |      what  a  wa...|    salvation  wa...|\n",
       "+--------------------+--------------------+--------------------+--------------+-------------+--------------------+--------------------+--------------------+\n",
       "only showing top 20 rows\n",
       "\n",
       "</div>"
      ]
     },
     "metadata": {},
     "output_type": "display_data"
    }
   ],
   "source": [
    "sf.show()"
   ]
  },
  {
   "cell_type": "code",
   "execution_count": 70,
   "metadata": {},
   "outputs": [
    {
     "data": {
      "text/html": [
       "<style scoped>\n",
       "  .ansiout {\n",
       "    display: block;\n",
       "    unicode-bidi: embed;\n",
       "    white-space: pre-wrap;\n",
       "    word-wrap: break-word;\n",
       "    word-break: break-all;\n",
       "    font-family: \"Source Code Pro\", \"Menlo\", monospace;;\n",
       "    font-size: 13px;\n",
       "    color: #555;\n",
       "    margin-left: 4px;\n",
       "    line-height: 19px;\n",
       "  }\n",
       "</style>\n",
       "<div class=\"ansiout\">+--------------------+--------------------+--------------------+--------------+-------------+--------------------+--------------------+--------------------+--------------------+\n",
       "           productId|              userId|         profileName|   helpfulness| review_score|         review_time|      review_summary|                text|             didwork|\n",
       "+--------------------+--------------------+--------------------+--------------+-------------+--------------------+--------------------+--------------------+--------------------+\n",
       "      B002OHDRF2    |      A2ATWKOFJXR...|      B.  Merritt...|       2/6    |      2.0    |      1263859200    |      Been  There...|      Judgment  D...|[, , , , , , judg...|\n",
       "      B002OHDRF2    |      A1W6I2VUOWR...|      Mohammad  S...|       2/6    |      5.0    |      1256256000    |      leave  it  ...|      this  is  a...|[, , , , , , this...|\n",
       "      B002OHDRF2    |      A2Y2L2TRP2Q...|      Jennifer  L...|      4/10    |      5.0    |      1249344000    |      best  Termi...|    D    Saw  the...|[, , , , d, , , ,...|\n",
       "      B002OHDRF2    |      AGC3LQMMYX1...|      Joseph  M. ...|      4/10    |      5.0    |      1243555200    |      this  is  a...|      this  movie...|[, , , , , , this...|\n",
       "      B002OHDRF2    |      A12Q0LLN5R2...|           MONTY    |       0/3    |      5.0    |      1276646400    |      TERMINATOR ...|      product  wa...|[, , , , , , prod...|\n",
       "      B002OHDRF2    |      A32F4BIKTM1...|      Shaun  Mast...|       0/3    |      5.0    |      1273190400    |      excellent.....|      Blu  Ray  i...|[, , , , , , blu,...|\n",
       "      B002OHDRF2    |      A2LP5T3EVFV...|      Teresa  L. ...|       0/3    |      5.0    |      1264032000    |           MOVIE    |      MY  FAMILY ...|[, , , , , , my, ...|\n",
       "      B002OHDRF2    |      A1HMNDO4IUF...|      Bloody  Dem...|       0/3    |      3.0    |      1261872000    |      Not  as  go...|      I  fell  as...|[, , , , , , i, ,...|\n",
       "      B002OHDRF2    |      A3FB8ANM6OB...|        robby  d    |       0/3    |      4.0    |      1259971200    |      directors  ...|      just  wante...|[, , , , , , just...|\n",
       "      B002OHDRF2    |      A3KO1QOAMYH...|      Daniel  B. ...|      9/19    |      1.0    |      1258934400    |      Stick  with...|      The  Extend...|[, , , , , , the,...|\n",
       "      B002OHDRF2    |      A31CJMS9UX4...|      S.  Walker    |      5/12    |      1.0    |      1260144000    |       Horrible!    |      If  all  yo...|[, , , , , , if, ...|\n",
       "      B002OHDRF2    |      AAUHB9T8KZH...|      Arnold  Sch...|       1/5    |      1.0    |      1334275200    |      Why  am  I ...|      This  is  n...|[, , , , , , this...|\n",
       "      B002OHDRF2    |      A35O4GF6YAJ...|      Rodolfo  Sa...|       1/5    |      4.0    |      1274400000    |      Very  good....|      see  it  fi...|[, , , , , , see,...|\n",
       "      B002OHDRF2    |      A26VYP814GZ...|      Joe  Schamb...|       1/5    |      2.0    |      1260230400    |      Terminator ...|      The  movie ...|[, , , , , , the,...|\n",
       "      B002OHDRF2    |      A2P2JXU9JEY...|      Marian  M. ...|       1/5    |      4.0    |      1259798400    |      You  better...|    Salvation    ...|[, , , , salvatio...|\n",
       "      B002OHDRF2    |      A1E3F8WR57N...|           Veese    |       1/5    |      3.0    |      1259625600    |        OHHHH  GO...|      Did  I  men...|[, , , , , , did,...|\n",
       "      B002OHDRF2    |      A2RYGFSQXPB...|           Niall    |       1/5    |      3.0    |      1259193600    |      James  Came...|      I  was  exp...|[, , , , , , i, ,...|\n",
       "      B002OHDRF2    |      AER15RIMV8E...|      Pumpkin  Ma...|       1/5    |      5.0    |      1256601600    |      An  Awesome...|      I  have  be...|[, , , , , , i, ,...|\n",
       "      B002OHDRF2    |      A38600ZDQ4Z...|       Etowahdoc    |       1/5    |      2.0    |      1255996800    |      A  complete...|      I  didn\\  t...|[, , , , , , i, ,...|\n",
       "      B002OHDRF2    |      AGR5FHTWYDC...|      MBuff    Mb...|      6/14    |      1.0    |      1257292800    |      what  a  wa...|    salvation  wa...|[, , , , salvatio...|\n",
       "+--------------------+--------------------+--------------------+--------------+-------------+--------------------+--------------------+--------------------+--------------------+\n",
       "only showing top 20 rows\n",
       "\n",
       "</div>"
      ]
     },
     "metadata": {},
     "output_type": "display_data"
    }
   ],
   "source": [
    "\n",
    "tokenizer4 = Tokenizer(inputCol=\"text\", outputCol=\"didwork\")\n",
    "tokenized4 = tokenizer4.transform(sf)\n",
    "tokenized4.show()\n",
    "\n"
   ]
  },
  {
   "cell_type": "code",
   "execution_count": 71,
   "metadata": {},
   "outputs": [
    {
     "data": {
      "text/html": [
       "<style scoped>\n",
       "  .ansiout {\n",
       "    display: block;\n",
       "    unicode-bidi: embed;\n",
       "    white-space: pre-wrap;\n",
       "    word-wrap: break-word;\n",
       "    word-break: break-all;\n",
       "    font-family: \"Source Code Pro\", \"Menlo\", monospace;;\n",
       "    font-size: 13px;\n",
       "    color: #555;\n",
       "    margin-left: 4px;\n",
       "    line-height: 19px;\n",
       "  }\n",
       "</style>\n",
       "<div class=\"ansiout\">+--------------------+--------------------+--------------------+--------------+-------------+--------------------+--------------------+--------------------+--------------------+--------------------+\n",
       "           productId|              userId|         profileName|   helpfulness| review_score|         review_time|      review_summary|                text|             didwork|               dummy|\n",
       "+--------------------+--------------------+--------------------+--------------+-------------+--------------------+--------------------+--------------------+--------------------+--------------------+\n",
       "      B002OHDRF2    |      A2ATWKOFJXR...|      B.  Merritt...|       2/6    |      2.0    |      1263859200    |      Been  There...|      Judgment  D...|[, , , , , , judg...|[judgment, day&lt;/a...|\n",
       "      B002OHDRF2    |      A1W6I2VUOWR...|      Mohammad  S...|       2/6    |      5.0    |      1256256000    |      leave  it  ...|      this  is  a...|[, , , , , , this...|[this, is, a, gre...|\n",
       "      B002OHDRF2    |      A2Y2L2TRP2Q...|      Jennifer  L...|      4/10    |      5.0    |      1249344000    |      best  Termi...|    D    Saw  the...|[, , , , d, , , ,...|[d, saw, the, fil...|\n",
       "      B002OHDRF2    |      AGC3LQMMYX1...|      Joseph  M. ...|      4/10    |      5.0    |      1243555200    |      this  is  a...|      this  movie...|[, , , , , , this...|[this, movie, is,...|\n",
       "      B002OHDRF2    |      A12Q0LLN5R2...|           MONTY    |       0/3    |      5.0    |      1276646400    |      TERMINATOR ...|      product  wa...|[, , , , , , prod...|[product, was, in...|\n",
       "      B002OHDRF2    |      A32F4BIKTM1...|      Shaun  Mast...|       0/3    |      5.0    |      1273190400    |      excellent.....|      Blu  Ray  i...|[, , , , , , blu,...|[blu, ray, is, th...|\n",
       "      B002OHDRF2    |      A2LP5T3EVFV...|      Teresa  L. ...|       0/3    |      5.0    |      1264032000    |           MOVIE    |      MY  FAMILY ...|[, , , , , , my, ...|[my, family, and,...|\n",
       "      B002OHDRF2    |      A1HMNDO4IUF...|      Bloody  Dem...|       0/3    |      3.0    |      1261872000    |      Not  as  go...|      I  fell  as...|[, , , , , , i, ,...|[i, fell, asleep,...|\n",
       "      B002OHDRF2    |      A3FB8ANM6OB...|        robby  d    |       0/3    |      4.0    |      1259971200    |      directors  ...|      just  wante...|[, , , , , , just...|[just, wanted, to...|\n",
       "      B002OHDRF2    |      A3KO1QOAMYH...|      Daniel  B. ...|      9/19    |      1.0    |      1258934400    |      Stick  with...|      The  Extend...|[, , , , , , the,...|[the, extended, c...|\n",
       "      B002OHDRF2    |      A31CJMS9UX4...|      S.  Walker    |      5/12    |      1.0    |      1260144000    |       Horrible!    |      If  all  yo...|[, , , , , , if, ...|[if, all, you, ca...|\n",
       "      B002OHDRF2    |      AAUHB9T8KZH...|      Arnold  Sch...|       1/5    |      1.0    |      1334275200    |      Why  am  I ...|      This  is  n...|[, , , , , , this...|[this, is, not, a...|\n",
       "      B002OHDRF2    |      A35O4GF6YAJ...|      Rodolfo  Sa...|       1/5    |      4.0    |      1274400000    |      Very  good....|      see  it  fi...|[, , , , , , see,...|[see, it, finishe...|\n",
       "      B002OHDRF2    |      A26VYP814GZ...|      Joe  Schamb...|       1/5    |      2.0    |      1260230400    |      Terminator ...|      The  movie ...|[, , , , , , the,...|[the, movie, was,...|\n",
       "      B002OHDRF2    |      A2P2JXU9JEY...|      Marian  M. ...|       1/5    |      4.0    |      1259798400    |      You  better...|    Salvation    ...|[, , , , salvatio...|[salvation, is, a...|\n",
       "      B002OHDRF2    |      A1E3F8WR57N...|           Veese    |       1/5    |      3.0    |      1259625600    |        OHHHH  GO...|      Did  I  men...|[, , , , , , did,...|[did, i, mention,...|\n",
       "      B002OHDRF2    |      A2RYGFSQXPB...|           Niall    |       1/5    |      3.0    |      1259193600    |      James  Came...|      I  was  exp...|[, , , , , , i, ,...|[i, was, expectin...|\n",
       "      B002OHDRF2    |      AER15RIMV8E...|      Pumpkin  Ma...|       1/5    |      5.0    |      1256601600    |      An  Awesome...|      I  have  be...|[, , , , , , i, ,...|[i, have, been, w...|\n",
       "      B002OHDRF2    |      A38600ZDQ4Z...|       Etowahdoc    |       1/5    |      2.0    |      1255996800    |      A  complete...|      I  didn\\  t...|[, , , , , , i, ,...|[i, didn\\, t, nec...|\n",
       "      B002OHDRF2    |      AGR5FHTWYDC...|      MBuff    Mb...|      6/14    |      1.0    |      1257292800    |      what  a  wa...|    salvation  wa...|[, , , , salvatio...|[salvation, was, ...|\n",
       "+--------------------+--------------------+--------------------+--------------+-------------+--------------------+--------------------+--------------------+--------------------+--------------------+\n",
       "only showing top 20 rows\n",
       "\n",
       "</div>"
      ]
     },
     "metadata": {},
     "output_type": "display_data"
    }
   ],
   "source": [
    "def remove(x):\n",
    "    A = []\n",
    "    for i in x:\n",
    "      if(i!= \"\"):\n",
    "        A.append(i)\n",
    "    return A\n",
    "\n",
    "dummy_function_udf = udf(remove, ArrayType(StringType()))\n",
    "sf1 = tokenized4.withColumn(\"dummy\", dummy_function_udf(tokenized4['didwork']))\n",
    "sf1.show()"
   ]
  },
  {
   "cell_type": "code",
   "execution_count": 72,
   "metadata": {},
   "outputs": [
    {
     "data": {
      "text/html": [
       "<style scoped>\n",
       "  .ansiout {\n",
       "    display: block;\n",
       "    unicode-bidi: embed;\n",
       "    white-space: pre-wrap;\n",
       "    word-wrap: break-word;\n",
       "    word-break: break-all;\n",
       "    font-family: \"Source Code Pro\", \"Menlo\", monospace;;\n",
       "    font-size: 13px;\n",
       "    color: #555;\n",
       "    margin-left: 4px;\n",
       "    line-height: 19px;\n",
       "  }\n",
       "</style>\n",
       "<div class=\"ansiout\"></div>"
      ]
     },
     "metadata": {},
     "output_type": "display_data"
    }
   ],
   "source": [
    "stop =['i', 'me', 'my', 'myself', 'we', 'our', 'ours', 'ourselves', 'you', \"you're\", \"you've\", \"you'll\", \"you'd\", 'your', 'yours', 'yourself', 'yourselves', 'he', 'him', 'his', 'himself', 'she', \"she's\", 'her', 'hers', 'herself', 'it', \"it's\", 'its', 'itself', 'they', 'them', 'their', 'theirs', 'themselves', 'what', 'which', 'who', 'whom', 'this', 'that', \"that'll\", 'these', 'those', 'am', 'is', 'are', 'was', 'were', 'be', 'been', 'being', 'have', 'has', 'had', 'having', 'do', 'does', 'did', 'doing', 'a', 'an', 'the', 'and', 'but', 'if', 'or', 'because', 'as', 'until', 'while', 'of', 'at', 'by', 'for', 'with', 'about', 'against', 'between', 'into', 'through', 'during', 'before', 'after', 'above', 'below', 'to', 'from', 'up', 'down', 'in', 'out', 'on', 'off', 'over', 'under', 'again', 'further', 'then', 'once', 'here', 'there', 'when', 'where', 'why', 'how', 'all', 'any', 'both', 'each', 'few', 'more', 'most', 'other', 'some', 'such', 'no', 'nor', 'not', 'only', 'own', 'same', 'so', 'than', 'too', 'very', 's', 't', 'can', 'will', 'just', 'don', \"don't\", 'should', \"should've\", 'now', 'd', 'll', 'm', 'o', 're', 've', 'y', 'ain', 'aren', \"aren't\", 'couldn', \"couldn't\", 'didn', \"didn't\", 'doesn', \"doesn't\", 'hadn', \"hadn't\", 'hasn', \"hasn't\", 'haven', \"haven't\", 'isn', \"isn't\", 'ma', 'mightn', \"mightn't\", 'mustn', \"mustn't\", 'needn', \"needn't\", 'shan', \"shan't\", 'shouldn', \"shouldn't\", 'wasn', \"wasn't\", 'weren', \"weren't\", 'won', \"won't\", 'wouldn', \"wouldn't\"]"
   ]
  },
  {
   "cell_type": "code",
   "execution_count": 73,
   "metadata": {},
   "outputs": [
    {
     "data": {
      "text/html": [
       "<style scoped>\n",
       "  .ansiout {\n",
       "    display: block;\n",
       "    unicode-bidi: embed;\n",
       "    white-space: pre-wrap;\n",
       "    word-wrap: break-word;\n",
       "    word-break: break-all;\n",
       "    font-family: \"Source Code Pro\", \"Menlo\", monospace;;\n",
       "    font-size: 13px;\n",
       "    color: #555;\n",
       "    margin-left: 4px;\n",
       "    line-height: 19px;\n",
       "  }\n",
       "</style>\n",
       "<div class=\"ansiout\">+--------------------+--------------------+--------------------+--------------+-------------+--------------------+--------------------+--------------------+--------------------+--------------------+--------------------+\n",
       "           productId|              userId|         profileName|   helpfulness| review_score|         review_time|      review_summary|                text|             didwork|               dummy|               clean|\n",
       "+--------------------+--------------------+--------------------+--------------+-------------+--------------------+--------------------+--------------------+--------------------+--------------------+--------------------+\n",
       "      B002OHDRF2    |      A2ATWKOFJXR...|      B.  Merritt...|       2/6    |      2.0    |      1263859200    |      Been  There...|      Judgment  D...|[, , , , , , judg...|[judgment, day&lt;/a...|[judgment, day&lt;/a...|\n",
       "      B002OHDRF2    |      A1W6I2VUOWR...|      Mohammad  S...|       2/6    |      5.0    |      1256256000    |      leave  it  ...|      this  is  a...|[, , , , , , this...|[this, is, a, gre...|[great, movie, co...|\n",
       "      B002OHDRF2    |      A2Y2L2TRP2Q...|      Jennifer  L...|      4/10    |      5.0    |      1249344000    |      best  Termi...|    D    Saw  the...|[, , , , d, , , ,...|[d, saw, the, fil...|[saw, film, 4, ti...|\n",
       "      B002OHDRF2    |      AGC3LQMMYX1...|      Joseph  M. ...|      4/10    |      5.0    |      1243555200    |      this  is  a...|      this  movie...|[, , , , , , this...|[this, movie, is,...|[movie, best, eve...|\n",
       "      B002OHDRF2    |      A12Q0LLN5R2...|           MONTY    |       0/3    |      5.0    |      1276646400    |      TERMINATOR ...|      product  wa...|[, , , , , , prod...|[product, was, in...|[product, excelle...|\n",
       "      B002OHDRF2    |      A32F4BIKTM1...|      Shaun  Mast...|       0/3    |      5.0    |      1273190400    |      excellent.....|      Blu  Ray  i...|[, , , , , , blu,...|[blu, ray, is, th...|[blu, ray, way, w...|\n",
       "      B002OHDRF2    |      A2LP5T3EVFV...|      Teresa  L. ...|       0/3    |      5.0    |      1264032000    |           MOVIE    |      MY  FAMILY ...|[, , , , , , my, ...|[my, family, and,...|[family, loved, m...|\n",
       "      B002OHDRF2    |      A1HMNDO4IUF...|      Bloody  Dem...|       0/3    |      3.0    |      1261872000    |      Not  as  go...|      I  fell  as...|[, , , , , , i, ,...|[i, fell, asleep,...|[fell, asleep, ho...|\n",
       "      B002OHDRF2    |      A3FB8ANM6OB...|        robby  d    |       0/3    |      4.0    |      1259971200    |      directors  ...|      just  wante...|[, , , , , , just...|[just, wanted, to...|[wanted, let, eve...|\n",
       "      B002OHDRF2    |      A3KO1QOAMYH...|      Daniel  B. ...|      9/19    |      1.0    |      1258934400    |      Stick  with...|      The  Extend...|[, , , , , , the,...|[the, extended, c...|[extended, cut., ...|\n",
       "      B002OHDRF2    |      A31CJMS9UX4...|      S.  Walker    |      5/12    |      1.0    |      1260144000    |       Horrible!    |      If  all  yo...|[, , , , , , if, ...|[if, all, you, ca...|[care, movie, one...|\n",
       "      B002OHDRF2    |      AAUHB9T8KZH...|      Arnold  Sch...|       1/5    |      1.0    |      1334275200    |      Why  am  I ...|      This  is  n...|[, , , , , , this...|[this, is, not, a...|[acceptable., mov...|\n",
       "      B002OHDRF2    |      A35O4GF6YAJ...|      Rodolfo  Sa...|       1/5    |      4.0    |      1274400000    |      Very  good....|      see  it  fi...|[, , , , , , see,...|[see, it, finishe...|[see, finished, m...|\n",
       "      B002OHDRF2    |      A26VYP814GZ...|      Joe  Schamb...|       1/5    |      2.0    |      1260230400    |      Terminator ...|      The  movie ...|[, , , , , , the,...|[the, movie, was,...|[movie, great, ha...|\n",
       "      B002OHDRF2    |      A2P2JXU9JEY...|      Marian  M. ...|       1/5    |      4.0    |      1259798400    |      You  better...|    Salvation    ...|[, , , , salvatio...|[salvation, is, a...|[salvation, good,...|\n",
       "      B002OHDRF2    |      A1E3F8WR57N...|           Veese    |       1/5    |      3.0    |      1259625600    |        OHHHH  GO...|      Did  I  men...|[, , , , , , did,...|[did, i, mention,...|[mention, mcg?, d...|\n",
       "      B002OHDRF2    |      A2RYGFSQXPB...|           Niall    |       1/5    |      3.0    |      1259193600    |      James  Came...|      I  was  exp...|[, , , , , , i, ,...|[i, was, expectin...|[expecting, great...|\n",
       "      B002OHDRF2    |      AER15RIMV8E...|      Pumpkin  Ma...|       1/5    |      5.0    |      1256601600    |      An  Awesome...|      I  have  be...|[, , , , , , i, ,...|[i, have, been, w...|[waiting, 4th, te...|\n",
       "      B002OHDRF2    |      A38600ZDQ4Z...|       Etowahdoc    |       1/5    |      2.0    |      1255996800    |      A  complete...|      I  didn\\  t...|[, , , , , , i, ,...|[i, didn\\, t, nec...|[didn\\, necessari...|\n",
       "      B002OHDRF2    |      AGR5FHTWYDC...|      MBuff    Mb...|      6/14    |      1.0    |      1257292800    |      what  a  wa...|    salvation  wa...|[, , , , salvatio...|[salvation, was, ...|[salvation, perha...|\n",
       "+--------------------+--------------------+--------------------+--------------+-------------+--------------------+--------------------+--------------------+--------------------+--------------------+--------------------+\n",
       "only showing top 20 rows\n",
       "\n",
       "</div>"
      ]
     },
     "metadata": {},
     "output_type": "display_data"
    }
   ],
   "source": [
    "def rmstopwords(y):\n",
    "  A = []\n",
    "  for i in y:\n",
    "    if i not in stop:\n",
    "      A.append(i)\n",
    "      \n",
    "  return A\n",
    "from pyspark.sql.types import ArrayType, FloatType, StringType\n",
    "rmestops = udf(rmstopwords, ArrayType(StringType()))\n",
    "sf2 = sf1.withColumn(\"clean\", rmestops(sf1['dummy']))\n",
    "\n",
    "sf2.show()"
   ]
  },
  {
   "cell_type": "code",
   "execution_count": 74,
   "metadata": {},
   "outputs": [
    {
     "data": {
      "text/html": [
       "<style scoped>\n",
       "  .ansiout {\n",
       "    display: block;\n",
       "    unicode-bidi: embed;\n",
       "    white-space: pre-wrap;\n",
       "    word-wrap: break-word;\n",
       "    word-break: break-all;\n",
       "    font-family: \"Source Code Pro\", \"Menlo\", monospace;;\n",
       "    font-size: 13px;\n",
       "    color: #555;\n",
       "    margin-left: 4px;\n",
       "    line-height: 19px;\n",
       "  }\n",
       "</style>\n",
       "<div class=\"ansiout\"></div>"
      ]
     },
     "metadata": {},
     "output_type": "display_data"
    }
   ],
   "source": [
    "sf3=sf2.drop(\"productId\",\"userId\",\"profileName\",\"helpfulness\",\"review_summary\",\"didwork\",\"dummy\",\"sentiments_scores\",\"review_time\",\"text\")"
   ]
  },
  {
   "cell_type": "code",
   "execution_count": 75,
   "metadata": {},
   "outputs": [
    {
     "data": {
      "text/html": [
       "<style scoped>\n",
       "  .ansiout {\n",
       "    display: block;\n",
       "    unicode-bidi: embed;\n",
       "    white-space: pre-wrap;\n",
       "    word-wrap: break-word;\n",
       "    word-break: break-all;\n",
       "    font-family: \"Source Code Pro\", \"Menlo\", monospace;;\n",
       "    font-size: 13px;\n",
       "    color: #555;\n",
       "    margin-left: 4px;\n",
       "    line-height: 19px;\n",
       "  }\n",
       "</style>\n",
       "<div class=\"ansiout\">+-------------+--------------------+\n",
       " review_score|               clean|\n",
       "+-------------+--------------------+\n",
       "      2.0    |[judgment, day&lt;/a...|\n",
       "      5.0    |[great, movie, co...|\n",
       "      5.0    |[saw, film, 4, ti...|\n",
       "      5.0    |[movie, best, eve...|\n",
       "      5.0    |[product, excelle...|\n",
       "      5.0    |[blu, ray, way, w...|\n",
       "      5.0    |[family, loved, m...|\n",
       "      3.0    |[fell, asleep, ho...|\n",
       "      4.0    |[wanted, let, eve...|\n",
       "      1.0    |[extended, cut., ...|\n",
       "      1.0    |[care, movie, one...|\n",
       "      1.0    |[acceptable., mov...|\n",
       "      4.0    |[see, finished, m...|\n",
       "      2.0    |[movie, great, ha...|\n",
       "      4.0    |[salvation, good,...|\n",
       "      3.0    |[mention, mcg?, d...|\n",
       "      3.0    |[expecting, great...|\n",
       "      5.0    |[waiting, 4th, te...|\n",
       "      2.0    |[didn\\, necessari...|\n",
       "      1.0    |[salvation, perha...|\n",
       "+-------------+--------------------+\n",
       "only showing top 20 rows\n",
       "\n",
       "</div>"
      ]
     },
     "metadata": {},
     "output_type": "display_data"
    }
   ],
   "source": [
    "sf3.show()"
   ]
  },
  {
   "cell_type": "code",
   "execution_count": 76,
   "metadata": {},
   "outputs": [
    {
     "data": {
      "text/html": [
       "<style scoped>\n",
       "  .ansiout {\n",
       "    display: block;\n",
       "    unicode-bidi: embed;\n",
       "    white-space: pre-wrap;\n",
       "    word-wrap: break-word;\n",
       "    word-break: break-all;\n",
       "    font-family: \"Source Code Pro\", \"Menlo\", monospace;;\n",
       "    font-size: 13px;\n",
       "    color: #555;\n",
       "    margin-left: 4px;\n",
       "    line-height: 19px;\n",
       "  }\n",
       "</style>\n",
       "<div class=\"ansiout\">+-------------+--------------------+--------------------+\n",
       " review_score|               clean|            features|\n",
       "+-------------+--------------------+--------------------+\n",
       "      2.0    |[judgment, day&lt;/a...|(448,[1,2,3,7,8,1...|\n",
       "      5.0    |[great, movie, co...|(448,[0,7,13,15,7...|\n",
       "      5.0    |[saw, film, 4, ti...|(448,[3,134,202,2...|\n",
       "      5.0    |[movie, best, eve...|(448,[0,11,30,86,...|\n",
       "      5.0    |[product, excelle...|(448,[160,274],[1...|\n",
       "      5.0    |[blu, ray, way, w...|(448,[38,46,241,2...|\n",
       "      5.0    |[family, loved, m...|(448,[5,11,15,75,...|\n",
       "      3.0    |[fell, asleep, ho...|(448,[0,2,6,7,34,...|\n",
       "      4.0    |[wanted, let, eve...|(448,[9,29,32,45,...|\n",
       "      1.0    |[extended, cut., ...|(448,[30,262,321]...|\n",
       "      1.0    |[care, movie, one...|(448,[0,4,5,15,21...|\n",
       "      1.0    |[acceptable., mov...|    (448,[19],[1.0])|\n",
       "      4.0    |[see, finished, m...|(448,[6,7,13,15,1...|\n",
       "      2.0    |[movie, great, ha...|(448,[0,4,7,9,10,...|\n",
       "      4.0    |[salvation, good,...|(448,[3,6,18,24,2...|\n",
       "      3.0    |[mention, mcg?, d...|(448,[1,9,11,13,1...|\n",
       "      3.0    |[expecting, great...|(448,[0,1,2,5,7,8...|\n",
       "      5.0    |[waiting, 4th, te...|(448,[2,3,7,9,16,...|\n",
       "      2.0    |[didn\\, necessari...|(448,[0,2,3,4,5,6...|\n",
       "      1.0    |[salvation, perha...|(448,[0,2,5,7,14,...|\n",
       "+-------------+--------------------+--------------------+\n",
       "only showing top 20 rows\n",
       "\n",
       "</div>"
      ]
     },
     "metadata": {},
     "output_type": "display_data"
    }
   ],
   "source": [
    "from pyspark.ml.feature import CountVectorizer\n",
    "cv4 = CountVectorizer(inputCol=\"clean\", outputCol=\"features\",vocabSize=10000, minDF=5)\n",
    "model4 = cv4.fit(sf3)\n",
    "result4 = model4.transform(sf3)\n",
    "result4.show()"
   ]
  },
  {
   "cell_type": "code",
   "execution_count": 77,
   "metadata": {},
   "outputs": [
    {
     "data": {
      "text/html": [
       "<style scoped>\n",
       "  .ansiout {\n",
       "    display: block;\n",
       "    unicode-bidi: embed;\n",
       "    white-space: pre-wrap;\n",
       "    word-wrap: break-word;\n",
       "    word-break: break-all;\n",
       "    font-family: \"Source Code Pro\", \"Menlo\", monospace;;\n",
       "    font-size: 13px;\n",
       "    color: #555;\n",
       "    margin-left: 4px;\n",
       "    line-height: 19px;\n",
       "  }\n",
       "</style>\n",
       "<div class=\"ansiout\">+-------------+--------------------+--------------------+\n",
       "        label|               clean|            features|\n",
       "+-------------+--------------------+--------------------+\n",
       "      2.0    |[judgment, day&lt;/a...|(448,[1,2,3,7,8,1...|\n",
       "      5.0    |[great, movie, co...|(448,[0,7,13,15,7...|\n",
       "      5.0    |[saw, film, 4, ti...|(448,[3,134,202,2...|\n",
       "      5.0    |[movie, best, eve...|(448,[0,11,30,86,...|\n",
       "      5.0    |[product, excelle...|(448,[160,274],[1...|\n",
       "      5.0    |[blu, ray, way, w...|(448,[38,46,241,2...|\n",
       "      5.0    |[family, loved, m...|(448,[5,11,15,75,...|\n",
       "      3.0    |[fell, asleep, ho...|(448,[0,2,6,7,34,...|\n",
       "      4.0    |[wanted, let, eve...|(448,[9,29,32,45,...|\n",
       "      1.0    |[extended, cut., ...|(448,[30,262,321]...|\n",
       "      1.0    |[care, movie, one...|(448,[0,4,5,15,21...|\n",
       "      1.0    |[acceptable., mov...|    (448,[19],[1.0])|\n",
       "      4.0    |[see, finished, m...|(448,[6,7,13,15,1...|\n",
       "      2.0    |[movie, great, ha...|(448,[0,4,7,9,10,...|\n",
       "      4.0    |[salvation, good,...|(448,[3,6,18,24,2...|\n",
       "      3.0    |[mention, mcg?, d...|(448,[1,9,11,13,1...|\n",
       "      3.0    |[expecting, great...|(448,[0,1,2,5,7,8...|\n",
       "      5.0    |[waiting, 4th, te...|(448,[2,3,7,9,16,...|\n",
       "      2.0    |[didn\\, necessari...|(448,[0,2,3,4,5,6...|\n",
       "      1.0    |[salvation, perha...|(448,[0,2,5,7,14,...|\n",
       "+-------------+--------------------+--------------------+\n",
       "only showing top 20 rows\n",
       "\n",
       "</div>"
      ]
     },
     "metadata": {},
     "output_type": "display_data"
    }
   ],
   "source": [
    "result4 = result4.withColumnRenamed(\"review_score\",\"label\")\n",
    "result4.show()"
   ]
  },
  {
   "cell_type": "code",
   "execution_count": 78,
   "metadata": {},
   "outputs": [
    {
     "data": {
      "text/html": [
       "<style scoped>\n",
       "  .ansiout {\n",
       "    display: block;\n",
       "    unicode-bidi: embed;\n",
       "    white-space: pre-wrap;\n",
       "    word-wrap: break-word;\n",
       "    word-break: break-all;\n",
       "    font-family: \"Source Code Pro\", \"Menlo\", monospace;;\n",
       "    font-size: 13px;\n",
       "    color: #555;\n",
       "    margin-left: 4px;\n",
       "    line-height: 19px;\n",
       "  }\n",
       "</style>\n",
       "<div class=\"ansiout\"></div>"
      ]
     },
     "metadata": {},
     "output_type": "display_data"
    }
   ],
   "source": [
    "import re\n",
    "def stgflt(strg):\n",
    "  stgtoflt = strg.replace(\" \",\"\")\n",
    "  return float(stgtoflt)"
   ]
  },
  {
   "cell_type": "code",
   "execution_count": 79,
   "metadata": {},
   "outputs": [
    {
     "data": {
      "text/html": [
       "<style scoped>\n",
       "  .ansiout {\n",
       "    display: block;\n",
       "    unicode-bidi: embed;\n",
       "    white-space: pre-wrap;\n",
       "    word-wrap: break-word;\n",
       "    word-break: break-all;\n",
       "    font-family: \"Source Code Pro\", \"Menlo\", monospace;;\n",
       "    font-size: 13px;\n",
       "    color: #555;\n",
       "    margin-left: 4px;\n",
       "    line-height: 19px;\n",
       "  }\n",
       "</style>\n",
       "<div class=\"ansiout\">+-----+--------------------+--------------------+\n",
       "label|               clean|            features|\n",
       "+-----+--------------------+--------------------+\n",
       "  2.0|[judgment, day&lt;/a...|(448,[1,2,3,7,8,1...|\n",
       "  5.0|[great, movie, co...|(448,[0,7,13,15,7...|\n",
       "  5.0|[saw, film, 4, ti...|(448,[3,134,202,2...|\n",
       "  5.0|[movie, best, eve...|(448,[0,11,30,86,...|\n",
       "  5.0|[product, excelle...|(448,[160,274],[1...|\n",
       "  5.0|[blu, ray, way, w...|(448,[38,46,241,2...|\n",
       "  5.0|[family, loved, m...|(448,[5,11,15,75,...|\n",
       "  3.0|[fell, asleep, ho...|(448,[0,2,6,7,34,...|\n",
       "  4.0|[wanted, let, eve...|(448,[9,29,32,45,...|\n",
       "  1.0|[extended, cut., ...|(448,[30,262,321]...|\n",
       "  1.0|[care, movie, one...|(448,[0,4,5,15,21...|\n",
       "  1.0|[acceptable., mov...|    (448,[19],[1.0])|\n",
       "  4.0|[see, finished, m...|(448,[6,7,13,15,1...|\n",
       "  2.0|[movie, great, ha...|(448,[0,4,7,9,10,...|\n",
       "  4.0|[salvation, good,...|(448,[3,6,18,24,2...|\n",
       "  3.0|[mention, mcg?, d...|(448,[1,9,11,13,1...|\n",
       "  3.0|[expecting, great...|(448,[0,1,2,5,7,8...|\n",
       "  5.0|[waiting, 4th, te...|(448,[2,3,7,9,16,...|\n",
       "  2.0|[didn\\, necessari...|(448,[0,2,3,4,5,6...|\n",
       "  1.0|[salvation, perha...|(448,[0,2,5,7,14,...|\n",
       "+-----+--------------------+--------------------+\n",
       "only showing top 20 rows\n",
       "\n",
       "</div>"
      ]
     },
     "metadata": {},
     "output_type": "display_data"
    }
   ],
   "source": [
    "stgfltudf = udf(stgflt, FloatType())\n",
    "result5 = result4.withColumn(\"label\", stgfltudf(result4['label']))\n",
    "result5.show()"
   ]
  },
  {
   "cell_type": "code",
   "execution_count": 80,
   "metadata": {},
   "outputs": [
    {
     "data": {
      "text/html": [
       "<style scoped>\n",
       "  .ansiout {\n",
       "    display: block;\n",
       "    unicode-bidi: embed;\n",
       "    white-space: pre-wrap;\n",
       "    word-wrap: break-word;\n",
       "    word-break: break-all;\n",
       "    font-family: \"Source Code Pro\", \"Menlo\", monospace;;\n",
       "    font-size: 13px;\n",
       "    color: #555;\n",
       "    margin-left: 4px;\n",
       "    line-height: 19px;\n",
       "  }\n",
       "</style>\n",
       "<div class=\"ansiout\"></div>"
      ]
     },
     "metadata": {},
     "output_type": "display_data"
    }
   ],
   "source": [
    "result5=result5.drop(\"clean\")"
   ]
  },
  {
   "cell_type": "code",
   "execution_count": 81,
   "metadata": {},
   "outputs": [
    {
     "data": {
      "text/html": [
       "<style scoped>\n",
       "  .ansiout {\n",
       "    display: block;\n",
       "    unicode-bidi: embed;\n",
       "    white-space: pre-wrap;\n",
       "    word-wrap: break-word;\n",
       "    word-break: break-all;\n",
       "    font-family: \"Source Code Pro\", \"Menlo\", monospace;;\n",
       "    font-size: 13px;\n",
       "    color: #555;\n",
       "    margin-left: 4px;\n",
       "    line-height: 19px;\n",
       "  }\n",
       "</style>\n",
       "<div class=\"ansiout\"></div>"
      ]
     },
     "metadata": {},
     "output_type": "display_data"
    }
   ],
   "source": [
    "train_hashed, test_hashed = result5.randomSplit([0.7, 0.3])"
   ]
  },
  {
   "cell_type": "code",
   "execution_count": 82,
   "metadata": {},
   "outputs": [
    {
     "data": {
      "text/html": [
       "<style scoped>\n",
       "  .table-result-container {\n",
       "    max-height: 300px;\n",
       "    overflow: auto;\n",
       "  }\n",
       "  table, th, td {\n",
       "    border: 1px solid black;\n",
       "    border-collapse: collapse;\n",
       "  }\n",
       "  th, td {\n",
       "    padding: 5px;\n",
       "  }\n",
       "  th {\n",
       "    text-align: left;\n",
       "  }\n",
       "</style><div class='table-result-container'><table class='table-result'><thead style='background-color: white'><tr><th>summary</th><th>label</th></tr></thead><tbody><tr><td>count</td><td>143</td></tr><tr><td>mean</td><td>3.2237762237762237</td></tr><tr><td>stddev</td><td>1.3708205644773828</td></tr><tr><td>min</td><td>1.0</td></tr><tr><td>25%</td><td>2.0</td></tr><tr><td>50%</td><td>3.0</td></tr><tr><td>75%</td><td>4.0</td></tr><tr><td>max</td><td>5.0</td></tr></tbody></table></div>"
      ]
     },
     "metadata": {},
     "output_type": "display_data"
    }
   ],
   "source": [
    "display(train_hashed.select(\"label\").summary())"
   ]
  },
  {
   "cell_type": "code",
   "execution_count": 83,
   "metadata": {},
   "outputs": [
    {
     "data": {
      "text/html": [
       "<style scoped>\n",
       "  .ansiout {\n",
       "    display: block;\n",
       "    unicode-bidi: embed;\n",
       "    white-space: pre-wrap;\n",
       "    word-wrap: break-word;\n",
       "    word-break: break-all;\n",
       "    font-family: \"Source Code Pro\", \"Menlo\", monospace;;\n",
       "    font-size: 13px;\n",
       "    color: #555;\n",
       "    margin-left: 4px;\n",
       "    line-height: 19px;\n",
       "  }\n",
       "</style>\n",
       "<div class=\"ansiout\">+--------------------+-----+--------------------+--------------------+----------+\n",
       "            features|label|       rawPrediction|         probability|prediction|\n",
       "+--------------------+-----+--------------------+--------------------+----------+\n",
       "(448,[0,1,3,5,6,7...|  1.0|[-13.620419243198...|[1.89465665655896...|       2.0|\n",
       "(448,[0,2,4,7,9,1...|  1.0|[-10.515615066830...|[3.31593828699817...|       4.0|\n",
       "(448,[0,2,12,14,1...|  1.0|[-6.7480614298946...|[1.47862142764080...|       3.0|\n",
       "(448,[0,4,5,6,8,2...|  1.0|[-4.4210626109633...|[1.15500557478800...|       3.0|\n",
       "(448,[0,7,233,305...|  1.0|[-4.0653083525162...|[5.20598603123633...|       3.0|\n",
       "(448,[0,12,39,47,...|  1.0|[-5.0704254042174...|[5.74453912945441...|       4.0|\n",
       "(448,[1,3,5,8,10,...|  1.0|[-8.0856720106749...|[2.11596936791363...|       4.0|\n",
       "(448,[1,3,6,14,20...|  1.0|[-5.1127350506428...|[2.47957989143347...|       3.0|\n",
       "(448,[2,7,10,63,1...|  1.0|[-4.4765225066004...|[9.64640660911227...|       3.0|\n",
       "(448,[3,6,11,14,1...|  1.0|[-6.8014679784346...|[1.80936016567158...|       1.0|\n",
       "(448,[19,39,47,82...|  1.0|[-4.6089743387151...|[6.35148179818114...|       1.0|\n",
       "(448,[30,262,321]...|  1.0|[-3.6377241790479...|[5.48713245467704...|       3.0|\n",
       "    (448,[42],[1.0])|  1.0|[-3.5706496763752...|[3.33400430486612...|       3.0|\n",
       "   (448,[171],[1.0])|  1.0|[-3.5011584116581...|[2.02017723252418...|       3.0|\n",
       "(448,[0,1,2,3,4,5...|  2.0|[-12.657487591150...|[6.61250118639832...|       1.0|\n",
       "(448,[0,1,2,3,4,8...|  2.0|[-6.4091005559717...|[2.09333106678004...|       4.0|\n",
       "(448,[0,1,3,4,5,8...|  2.0|[-8.4886581305707...|[1.42615391487750...|       2.0|\n",
       "(448,[0,2,4,12,51...|  2.0|[-5.2371969853740...|[4.48086860366232...|       3.0|\n",
       "(448,[0,2,5,9,13,...|  2.0|[-6.7973443039171...|[4.38102142154635...|       1.0|\n",
       "(448,[0,2,5,10,11...|  2.0|[-9.7318592374066...|[2.65147929706462...|       4.0|\n",
       "+--------------------+-----+--------------------+--------------------+----------+\n",
       "only showing top 20 rows\n",
       "\n",
       "</div>"
      ]
     },
     "metadata": {},
     "output_type": "display_data"
    }
   ],
   "source": [
    "lr4 = LogisticRegression()\n",
    "lrModel4 = lr4.fit(train_hashed.select(\"features\",\"label\"))\n",
    "predictions4 = lrModel4.transform(test_hashed.select(\"features\",\"label\"))\n",
    "predictions4.show()"
   ]
  },
  {
   "cell_type": "code",
   "execution_count": 84,
   "metadata": {},
   "outputs": [
    {
     "data": {
      "text/html": [
       "<style scoped>\n",
       "  .ansiout {\n",
       "    display: block;\n",
       "    unicode-bidi: embed;\n",
       "    white-space: pre-wrap;\n",
       "    word-wrap: break-word;\n",
       "    word-break: break-all;\n",
       "    font-family: \"Source Code Pro\", \"Menlo\", monospace;;\n",
       "    font-size: 13px;\n",
       "    color: #555;\n",
       "    margin-left: 4px;\n",
       "    line-height: 19px;\n",
       "  }\n",
       "</style>\n",
       "<div class=\"ansiout\"></div>"
      ]
     },
     "metadata": {},
     "output_type": "display_data"
    }
   ],
   "source": [
    "from pyspark.ml.evaluation import MulticlassClassificationEvaluator"
   ]
  },
  {
   "cell_type": "code",
   "execution_count": 85,
   "metadata": {},
   "outputs": [
    {
     "data": {
      "text/html": [
       "<style scoped>\n",
       "  .ansiout {\n",
       "    display: block;\n",
       "    unicode-bidi: embed;\n",
       "    white-space: pre-wrap;\n",
       "    word-wrap: break-word;\n",
       "    word-break: break-all;\n",
       "    font-family: \"Source Code Pro\", \"Menlo\", monospace;;\n",
       "    font-size: 13px;\n",
       "    color: #555;\n",
       "    margin-left: 4px;\n",
       "    line-height: 19px;\n",
       "  }\n",
       "</style>\n",
       "<div class=\"ansiout\">0.4634146341463415\n",
       "</div>"
      ]
     },
     "metadata": {},
     "output_type": "display_data"
    }
   ],
   "source": [
    "evaluator = MulticlassClassificationEvaluator(\n",
    "labelCol=\"label\", predictionCol=\"prediction\", metricName=\"accuracy\")\n",
    "accuracy = evaluator.evaluate(predictions)\n",
    "print(accuracy)"
   ]
  },
  {
   "cell_type": "code",
   "execution_count": 86,
   "metadata": {},
   "outputs": [
    {
     "data": {
      "text/html": [
       "<style scoped>\n",
       "  .ansiout {\n",
       "    display: block;\n",
       "    unicode-bidi: embed;\n",
       "    white-space: pre-wrap;\n",
       "    word-wrap: break-word;\n",
       "    word-break: break-all;\n",
       "    font-family: \"Source Code Pro\", \"Menlo\", monospace;;\n",
       "    font-size: 13px;\n",
       "    color: #555;\n",
       "    margin-left: 4px;\n",
       "    line-height: 19px;\n",
       "  }\n",
       "</style>\n",
       "<div class=\"ansiout\">LogisticRegressionModel: uid = LogisticRegression_afe49239fc66, numClasses = 6, numFeatures = 448\n",
       "</div>"
      ]
     },
     "metadata": {},
     "output_type": "display_data"
    }
   ],
   "source": [
    "print(lrModel4)"
   ]
  },
  {
   "cell_type": "code",
   "execution_count": 87,
   "metadata": {},
   "outputs": [],
   "source": []
  }
 ],
 "metadata": {
  "kernelspec": {
   "display_name": "Python 3",
   "language": "python",
   "name": "python3"
  },
  "language_info": {
   "codemirror_mode": {
    "name": "ipython",
    "version": 3
   },
   "file_extension": ".py",
   "mimetype": "text/x-python",
   "name": "python",
   "nbconvert_exporter": "python",
   "pygments_lexer": "ipython3",
   "version": "3.7.1"
  },
  "name": "final1",
  "notebookId": 2980532178500732
 },
 "nbformat": 4,
 "nbformat_minor": 1
}
