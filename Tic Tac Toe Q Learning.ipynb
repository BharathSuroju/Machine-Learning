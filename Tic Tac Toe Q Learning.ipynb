{
 "cells": [
  {
   "cell_type": "markdown",
   "metadata": {
    "colab_type": "text",
    "id": "7rjkZl7XYZRZ"
   },
   "source": [
    "The following notebook creates tic tac toe players using a q-learning reinforcement learning strategy"
   ]
  },
  {
   "cell_type": "code",
   "execution_count": 0,
   "metadata": {
    "colab": {},
    "colab_type": "code",
    "id": "OziQ6ZIF_URy"
   },
   "outputs": [],
   "source": [
    "import random\n",
    "import matplotlib \n",
    "import numpy as np \n",
    "from collections import defaultdict "
   ]
  },
  {
   "cell_type": "code",
   "execution_count": 0,
   "metadata": {
    "colab": {},
    "colab_type": "code",
    "id": "tAEp-Jot_1qZ"
   },
   "outputs": [],
   "source": [
    "class BoardEnvironment:\n",
    "  \"\"\" this class creates an environment for agents to interact with\"\"\"\n",
    "\n",
    "  def __init__(self):\n",
    "    \"initialize board\"\n",
    "  \n",
    "  def set_players(self, playerA, playerB):\n",
    "    \" connects players with the environment \"\n",
    "    self.playerA = playerA\n",
    "    self.playerB = playerB\n",
    "    self.reset() # defines current_player\n",
    "      \n",
    "  def reset(self):\n",
    "    self.turn = 'X' # the board always starts with X, regardless of which player\n",
    "\n",
    "    # board states are a 9-character representing the state of the board.\n",
    "    self.board = list('---------')  \n",
    "    if (self.playerA and self.playerB): # if they are set\n",
    "      self.playerA.reset_past()\n",
    "      self.playerB.reset_past()\n",
    "      if (random.random() < 0.5):  # randomly pick the player to start\n",
    "        self.current_player = self.playerA\n",
    "      else:\n",
    "        self.current_player = self.playerB \n",
    "\n",
    "  def print_board(self, board_string = None):\n",
    "    \"print more readable board either from supplied board string or the current board\"\n",
    "    if not board_string:\n",
    "      B = self.board\n",
    "    else:\n",
    "      B = board_string\n",
    "    print(B[0],'|', B[1],'|', B[2], sep='')\n",
    "    print('-----')\n",
    "    print(B[3],'|', B[4],'|', B[5], sep='')\n",
    "    print('-----')\n",
    "    print(B[6],'|', B[7],'|', B[8], sep='')\n",
    "\n",
    "  def get_state(self):\n",
    "    return \"\".join(self.board)\n",
    "  \n",
    "  def other_player(self):\n",
    "    # note, returns other player even if playerA is playing itself\n",
    "    if (self.current_player == self.playerA):\n",
    "      return self.playerB \n",
    "    else:\n",
    "      return self.playerA  \n",
    "    \n",
    "  def available_actions(self):\n",
    "    return [ind for ind, val in enumerate(self.board) if val == '-']\n",
    "\n",
    "  def play_game(self): \n",
    "    # returns the winning player or None if a tie\n",
    "    self.reset()\n",
    "    while (not self.is_full() ):\n",
    "      choice = self.current_player.select_action()\n",
    "\n",
    "      self.board[choice] = self.turn # should check if valid\n",
    "\n",
    "      if self.winner(self.turn):\n",
    "        self.current_player.reward(100)\n",
    "        self.other_player().reward(-100)\n",
    "        return self.current_player\n",
    "      else: # no one has won yet\n",
    "        self.other_player().reward(0)\n",
    "\n",
    "      # switch players\n",
    "      self.turn = 'X' if self.turn == 'O' else 'O' # switch turn\n",
    "      self.current_player = self.other_player()\n",
    "    # it's a tie  \n",
    "    return None\n",
    "        \n",
    "  def winner(self, check_for = ['X','O']):\n",
    "    straight_lines = ((0,1,2),(3,4,5),(6,7,8),(0,3,6),\n",
    "                      (1,4,7),(2,5,8),(0,4,8),(2,4,6))\n",
    "    for turn in check_for:\n",
    "        for line in straight_lines:\n",
    "            if all(x == turn for x in (self.board[i] for i in line)):\n",
    "                return turn\n",
    "    return '' # if there is no winner\n",
    "\n",
    "  def is_full(self):\n",
    "    return('-' not in self.board) "
   ]
  },
  {
   "cell_type": "code",
   "execution_count": 0,
   "metadata": {
    "colab": {},
    "colab_type": "code",
    "id": "sXhti1q4a56Y"
   },
   "outputs": [],
   "source": [
    "class Agent:\n",
    "    \"\"\" this class is a generic Q-Learning reinforcement learning agent for discrete states and fixed actions\n",
    "    represented as strings\"\"\"\n",
    "    def __init__(self, environment, policy = 'max', learning_rate = 0.5, discount_factor = 0.95, epsilon = 0.01):\n",
    "        if policy in ['max', 'random', 'epsilon']:\n",
    "          self.policy = policy\n",
    "        else:\n",
    "          raise InputError(policy, ' is not an available policy')\n",
    "        self.learning_rate = learning_rate\n",
    "        self.discount_factor = discount_factor\n",
    "        self.Q = defaultdict(lambda: 0.0) # stores (state, action) value tuples as keys\n",
    "        self.environment = environment\n",
    "        self.epsilon = epsilon # Fraction of time making a random choice for epsilon policy\n",
    "        self.reset_past()\n",
    "\n",
    "    def reset_past(self):\n",
    "      self.past_action = None\n",
    "      self.past_state = None\n",
    "          \n",
    "    def select_action(self):\n",
    "      available_actions = self.environment.available_actions()\n",
    "      if (self.policy == 'random') or (self.policy == 'epsilon' and random.random() < self.epsilon):\n",
    "        choice = random.choice(available_actions)\n",
    "      else: #self.policy == 'max' or it's an epsilon policy determined to pick the max\n",
    "        Q_vals = [self.Q[(self.environment.get_state(), x)] for x in available_actions]\n",
    "        #randomly pick one of the maximum values\n",
    "        max_val = max(Q_vals) # will often be 0 in the beginning\n",
    "        max_pos = [i for i, j in enumerate(Q_vals) if j == max_val]\n",
    "        max_indices = [available_actions[x] for x in max_pos]\n",
    "        choice = random.choice(max_indices)\n",
    "      self.past_state = self.environment.get_state()\n",
    "      self.past_action = choice\n",
    "      return choice\n",
    "        \n",
    "    def reward(self, reward_value):\n",
    "        # finding the best expected reward\n",
    "        available_actions = self.environment.available_actions()\n",
    "        next_Q_vals = [self.Q[(self.environment.get_state(), x)] for x in available_actions]\n",
    "        max_next_Q = max(next_Q_vals) if next_Q_vals else 0 # will often be 0 in the beginning\n",
    "        td_target = reward_value + self.discount_factor * max_next_Q\n",
    "        reward_pred_error = td_target - self.Q[(self.past_state,self.past_action)]\n",
    "        #if (self.past_state or self.past_action):\n",
    "        self.Q[(self.past_state,self.past_action)] += self.learning_rate * reward_pred_error"
   ]
  },
  {
   "cell_type": "code",
   "execution_count": 0,
   "metadata": {
    "colab": {},
    "colab_type": "code",
    "id": "FR0NfH9ta56e"
   },
   "outputs": [],
   "source": [
    "class RepeatedGames:\n",
    "    def __init__(self, environment, playerA, playerB):\n",
    "        self.environment = environment\n",
    "        self.playerA = playerA\n",
    "        self.playerB = playerB\n",
    "        self.reset_history()\n",
    "    \n",
    "    def reset_history(self):\n",
    "        self.history = []\n",
    "    \n",
    "    def play_game(self):\n",
    "        self.environment.reset()\n",
    "        winner = self.environment.play_game()\n",
    "        if (winner == self.playerA):\n",
    "          self.history.append('A')\n",
    "        elif (winner == self.playerB):\n",
    "          self.history.append('B')\n",
    "        else:\n",
    "          self.history.append('-')\n",
    "    \n",
    "    def play_games(self, games_to_play):\n",
    "        for i in range(games_to_play):\n",
    "            self.play_game()\n",
    "        print(self.history[-games_to_play:].count('A'),'games won by player A')\n",
    "        print(self.history[-games_to_play:].count('B'),'games won by player B')\n",
    "        print(self.history[-games_to_play:].count('-'),'ties')"
   ]
  },
  {
   "cell_type": "code",
   "execution_count": 5,
   "metadata": {
    "colab": {
     "base_uri": "https://localhost:8080/",
     "height": 208
    },
    "colab_type": "code",
    "executionInfo": {
     "elapsed": 1874,
     "status": "ok",
     "timestamp": 1572292199523,
     "user": {
      "displayName": "Mark Albert",
      "photoUrl": "https://lh3.googleusercontent.com/a-/AAuE7mDMI-vX2rHqg_XFX0NQHcU8Foh6IFf25z4_5Un6YYs=s64",
      "userId": "02522742638773023035"
     },
     "user_tz": 300
    },
    "id": "RoUxiTLVa56g",
    "outputId": "24b013f2-b353-4934-951c-da707c46e44d"
   },
   "outputs": [
    {
     "name": "stdout",
     "output_type": "stream",
     "text": [
      "41 games won by player A\n",
      "41 games won by player B\n",
      "18 ties\n",
      "\n",
      "7993 games won by player A\n",
      "1215 games won by player B\n",
      "792 ties\n",
      "\n",
      "87 games won by player A\n",
      "6 games won by player B\n",
      "7 ties\n"
     ]
    }
   ],
   "source": [
    "board = BoardEnvironment()\n",
    "A = Agent(board, 'max')\n",
    "B = Agent(board, 'random')\n",
    "board.set_players(A,B)\n",
    "\n",
    "tournament = RepeatedGames(board,A,B)\n",
    "tournament.play_games(100)\n",
    "print()\n",
    "tournament.play_games(10000)\n",
    "print()\n",
    "tournament.play_games(100)"
   ]
  },
  {
   "cell_type": "code",
   "execution_count": 6,
   "metadata": {
    "colab": {
     "base_uri": "https://localhost:8080/",
     "height": 485
    },
    "colab_type": "code",
    "executionInfo": {
     "elapsed": 1861,
     "status": "ok",
     "timestamp": 1572292199525,
     "user": {
      "displayName": "Mark Albert",
      "photoUrl": "https://lh3.googleusercontent.com/a-/AAuE7mDMI-vX2rHqg_XFX0NQHcU8Foh6IFf25z4_5Un6YYs=s64",
      "userId": "02522742638773023035"
     },
     "user_tz": 300
    },
    "id": "k3991koUa56j",
    "outputId": "a16d67ad-3c35-4f08-e39a-4b2e4d7b7fc2"
   },
   "outputs": [
    {
     "name": "stdout",
     "output_type": "stream",
     "text": [
      "highest Q for player A: 100.0 , state_action: ('-OX-X--O-', 6)\n",
      "-|O|X\n",
      "-----\n",
      "-|X|-\n",
      "-----\n",
      "-|O|-\n",
      "\n",
      "highest Q for player B: 99.90234375 , state_action: ('XOXOXO-XO', 6)\n",
      "X|O|X\n",
      "-----\n",
      "O|X|O\n",
      "-----\n",
      "-|X|O\n",
      "\n",
      "lowest Q for player A: -93.75 , state_action: ('O-XXXO-XO', 1)\n",
      "O|-|X\n",
      "-----\n",
      "X|X|O\n",
      "-----\n",
      "-|X|O\n",
      "\n",
      "lowest Q for player B: -100.0 , state_action: ('-OX-X----', 0)\n",
      "-|O|X\n",
      "-----\n",
      "-|X|-\n",
      "-----\n",
      "-|-|-\n"
     ]
    }
   ],
   "source": [
    "# observe the highest and lowest board state action value functions\n",
    "key_max = max(A.Q.keys(), key=(lambda k: A.Q[k]))\n",
    "print(\"highest Q for player A:\", A.Q[key_max],', state_action:', key_max)\n",
    "board.print_board(key_max[0])\n",
    "key_max = max(B.Q.keys(), key=(lambda k: B.Q[k]))\n",
    "print(\"\\nhighest Q for player B:\", B.Q[key_max],', state_action:', key_max)\n",
    "board.print_board(key_max[0])\n",
    "key_min = min(A.Q.keys(), key=(lambda k: A.Q[k]))\n",
    "print(\"\\nlowest Q for player A:\", A.Q[key_min],', state_action:', key_min)\n",
    "board.print_board(key_min[0])\n",
    "key_min = min(B.Q.keys(), key=(lambda k: B.Q[k]))\n",
    "print(\"\\nlowest Q for player B:\", B.Q[key_min],', state_action:', key_min)\n",
    "board.print_board(key_min[0])"
   ]
  },
  {
   "cell_type": "code",
   "execution_count": 7,
   "metadata": {
    "colab": {
     "base_uri": "https://localhost:8080/",
     "height": 295
    },
    "colab_type": "code",
    "executionInfo": {
     "elapsed": 2070,
     "status": "ok",
     "timestamp": 1572292199759,
     "user": {
      "displayName": "Mark Albert",
      "photoUrl": "https://lh3.googleusercontent.com/a-/AAuE7mDMI-vX2rHqg_XFX0NQHcU8Foh6IFf25z4_5Un6YYs=s64",
      "userId": "02522742638773023035"
     },
     "user_tz": 300
    },
    "id": "Jkri0k5ga56l",
    "outputId": "856dbba2-3f15-43ed-9b61-dcb3f39f8634"
   },
   "outputs": [
    {
     "data": {
      "image/png": "[encoded data removed]",
      "text/plain": [
       "<Figure size 432x288 with 1 Axes>"
      ]
     },
     "metadata": {
      "tags": []
     },
     "output_type": "display_data"
    }
   ],
   "source": [
    "# plot the history\n",
    "import numpy as np\n",
    "import pylab as py\n",
    "import matplotlib\n",
    "%matplotlib inline \n",
    "\n",
    "history = np.array(tournament.history.copy())\n",
    "rewards = np.zeros(len(history))\n",
    "rewards[history == 'A'] = 100\n",
    "rewards[history == 'B'] = -100\n",
    "\n",
    "def running_mean(x, N):\n",
    "    return np.convolve(x, np.ones((N,))/N, mode='valid')\n",
    "r_mean = running_mean(rewards, 100)\n",
    "py.plot(r_mean)\n",
    "py.xlabel('games played')\n",
    "py.ylabel('average reward')\n",
    "py.title('Average rewards over 100 games (win/loss is 100/-100)');"
   ]
  },
  {
   "cell_type": "code",
   "execution_count": 0,
   "metadata": {
    "colab": {},
    "colab_type": "code",
    "id": "dYpRUVvYa56o"
   },
   "outputs": [],
   "source": []
  }
 ],
 "metadata": {
  "anaconda-cloud": {},
  "colab": {
   "collapsed_sections": [],
   "name": "tictactoe_q_learning.ipynb",
   "provenance": []
  },
  "kernelspec": {
   "display_name": "Python 3",
   "language": "python",
   "name": "python3"
  },
  "language_info": {
   "codemirror_mode": {
    "name": "ipython",
    "version": 3
   },
   "file_extension": ".py",
   "mimetype": "text/x-python",
   "name": "python",
   "nbconvert_exporter": "python",
   "pygments_lexer": "ipython3",
   "version": "3.7.1"
  }
 },
 "nbformat": 4,
 "nbformat_minor": 1
}
